{
 "cells": [
  {
   "cell_type": "markdown",
   "metadata": {},
   "source": [
    "# Programming for Data Science and Artificial Intelligence\n",
    "\n",
    "## Numpy\n",
    "\n",
    "### Readings: \n",
    "- [VANDER] Ch2\n",
    "- https://numpy.org/doc/stable/"
   ]
  },
  {
   "cell_type": "markdown",
   "metadata": {},
   "source": [
    "NumPy arrays are like Python's built-in list type, but NumPy arrays provide much more efficient storage and data operations as the arrays grow larger in size.\n",
    "\n",
    "A python list comes with overhead of determining its dynamic type and convert them back to C.  Unlike python list, Numpy is constrained to arrays that all contain the same type, thus removing that overhead."
   ]
  },
  {
   "cell_type": "code",
   "execution_count": 1,
   "metadata": {},
   "outputs": [],
   "source": [
    "import numpy as np"
   ]
  },
  {
   "cell_type": "markdown",
   "metadata": {},
   "source": [
    "## Creation"
   ]
  },
  {
   "cell_type": "markdown",
   "metadata": {},
   "source": [
    "### From list"
   ]
  },
  {
   "cell_type": "code",
   "execution_count": 2,
   "metadata": {},
   "outputs": [],
   "source": [
    "python_list = [1,2,3]"
   ]
  },
  {
   "cell_type": "markdown",
   "metadata": {},
   "source": [
    "### Creating using np built-in functions"
   ]
  },
  {
   "cell_type": "code",
   "execution_count": 3,
   "metadata": {},
   "outputs": [],
   "source": [
    "nplst = np.array(python_list)"
   ]
  },
  {
   "cell_type": "code",
   "execution_count": 4,
   "metadata": {},
   "outputs": [
    {
     "data": {
      "text/plain": [
       "numpy.ndarray"
      ]
     },
     "execution_count": 4,
     "metadata": {},
     "output_type": "execute_result"
    }
   ],
   "source": [
    "type(nplst)"
   ]
  },
  {
   "cell_type": "code",
   "execution_count": 5,
   "metadata": {},
   "outputs": [],
   "source": [
    "npat = nplst.astype(float)"
   ]
  },
  {
   "cell_type": "code",
   "execution_count": 6,
   "metadata": {},
   "outputs": [
    {
     "data": {
      "text/plain": [
       "array([1., 2., 3.])"
      ]
     },
     "execution_count": 6,
     "metadata": {},
     "output_type": "execute_result"
    }
   ],
   "source": [
    "npat"
   ]
  },
  {
   "cell_type": "markdown",
   "metadata": {},
   "source": [
    "### Creating with data types"
   ]
  },
  {
   "cell_type": "code",
   "execution_count": 7,
   "metadata": {},
   "outputs": [
    {
     "name": "stdout",
     "output_type": "stream",
     "text": [
      "[3 4 5 6 7 8]\n"
     ]
    }
   ],
   "source": [
    "npar = np.array([1,2,3,4,5,6,7,8])\n",
    "print(npar[2:])"
   ]
  },
  {
   "cell_type": "code",
   "execution_count": 8,
   "metadata": {},
   "outputs": [
    {
     "data": {
      "text/plain": [
       "array([2, 4])"
      ]
     },
     "execution_count": 8,
     "metadata": {},
     "output_type": "execute_result"
    }
   ],
   "source": [
    "npar[[1,3]]"
   ]
  },
  {
   "cell_type": "markdown",
   "metadata": {},
   "source": [
    "### Creating multi-dimensional numpy array"
   ]
  },
  {
   "cell_type": "code",
   "execution_count": 9,
   "metadata": {},
   "outputs": [
    {
     "data": {
      "text/plain": [
       "array([[3, 4],\n",
       "       [5, 6]])"
      ]
     },
     "execution_count": 9,
     "metadata": {},
     "output_type": "execute_result"
    }
   ],
   "source": [
    "data = np.array([[1,2],[3,4],[5,6]])\n",
    "data[1:,:]\n",
    "\n"
   ]
  },
  {
   "cell_type": "code",
   "execution_count": 10,
   "metadata": {},
   "outputs": [
    {
     "data": {
      "text/plain": [
       "array([1, 3])"
      ]
     },
     "execution_count": 10,
     "metadata": {},
     "output_type": "execute_result"
    }
   ],
   "source": [
    "data[0:2,0]\n"
   ]
  },
  {
   "cell_type": "code",
   "execution_count": 11,
   "metadata": {},
   "outputs": [
    {
     "data": {
      "text/plain": [
       "array([1, 5])"
      ]
     },
     "execution_count": 11,
     "metadata": {},
     "output_type": "execute_result"
    }
   ],
   "source": [
    "data[::2,0]"
   ]
  },
  {
   "cell_type": "code",
   "execution_count": 12,
   "metadata": {},
   "outputs": [],
   "source": [
    "matx = np.array([[99,99,99],[99,99,99],[99,99,99]])"
   ]
  },
  {
   "cell_type": "code",
   "execution_count": 13,
   "metadata": {},
   "outputs": [
    {
     "data": {
      "text/plain": [
       "array([[99, 99, 99],\n",
       "       [99, 99, 99],\n",
       "       [99, 99, 99]])"
      ]
     },
     "execution_count": 13,
     "metadata": {},
     "output_type": "execute_result"
    }
   ],
   "source": [
    "matx"
   ]
  },
  {
   "cell_type": "code",
   "execution_count": 15,
   "metadata": {},
   "outputs": [
    {
     "name": "stdout",
     "output_type": "stream",
     "text": [
      "X\n"
     ]
    }
   ],
   "source": [
    "def play():\n",
    "    starter = int(input('X: 1 or O:2'))\n",
    "    while True:\n",
    "        if starter == 1:\n",
    "            starter = 0\n",
    "            player = 'X'\n",
    "        else:\n",
    "            starter = 1\n",
    "            player = 'O'\n",
    "        print(player)\n",
    "        break\n",
    "\n",
    "# play()\n"
   ]
  },
  {
   "cell_type": "code",
   "execution_count": null,
   "metadata": {},
   "outputs": [],
   "source": [
    "x = np.array([[1,2,3,4],[5,6,7,8],[9,10,11,12],[13,14,15,16]])"
   ]
  },
  {
   "cell_type": "code",
   "execution_count": null,
   "metadata": {},
   "outputs": [
    {
     "data": {
      "text/plain": [
       "array([ 2,  6, 10, 14])"
      ]
     },
     "execution_count": 56,
     "metadata": {},
     "output_type": "execute_result"
    }
   ],
   "source": [
    "x[:,1]"
   ]
  },
  {
   "cell_type": "code",
   "execution_count": null,
   "metadata": {},
   "outputs": [
    {
     "data": {
      "text/plain": [
       "array([ 7, 11])"
      ]
     },
     "execution_count": 57,
     "metadata": {},
     "output_type": "execute_result"
    }
   ],
   "source": [
    "x[1:3,2]"
   ]
  },
  {
   "cell_type": "code",
   "execution_count": null,
   "metadata": {},
   "outputs": [
    {
     "data": {
      "text/plain": [
       "array([ 4,  7, 10])"
      ]
     },
     "execution_count": 77,
     "metadata": {},
     "output_type": "execute_result"
    }
   ],
   "source": [
    "x[[0,1,2],[3,2,1]]"
   ]
  },
  {
   "cell_type": "code",
   "execution_count": null,
   "metadata": {},
   "outputs": [
    {
     "data": {
      "text/plain": [
       "array([16, 15, 14, 13])"
      ]
     },
     "execution_count": 75,
     "metadata": {},
     "output_type": "execute_result"
    }
   ],
   "source": [
    "x[3,::-1]"
   ]
  },
  {
   "cell_type": "code",
   "execution_count": null,
   "metadata": {},
   "outputs": [],
   "source": [
    "#exercise:\n",
    "\n",
    "#given a matrix = [ [99, 99, 99], \n",
    "#                   [99, 99, 99], \n",
    "#                   [99, 99, 99]]\n",
    "\n",
    "#imagine 99 is empty\n",
    "#assume 1 is X\n",
    "#assume 0 is O\n",
    "\n",
    "#get the input from the X side and O side alternatively\n",
    "#give you a tupe of index\n",
    "\n",
    "#if X side input (0, 0)\n",
    "#then the matrix becomes \n",
    "\n",
    "#                 [ [X, 99, 99], \n",
    "#                   [99, 99, 99], \n",
    "#                   [99, 99, 99]]\n",
    "\n",
    "#if O side input also (0, 0)\n",
    "#alert them to input again\n",
    "#otherwise, fill the matrix\n",
    "\n",
    "#challenge (optional): if the first one to get three in row, stop the game\n"
   ]
  },
  {
   "cell_type": "markdown",
   "metadata": {},
   "source": [
    "### Afternoon Exercise\n"
   ]
  },
  {
   "cell_type": "code",
   "execution_count": 26,
   "metadata": {},
   "outputs": [
    {
     "name": "stdout",
     "output_type": "stream",
     "text": [
      "[4 5 6]\n",
      "[2 5]\n",
      "[3 4]\n",
      "[9 6 3]\n"
     ]
    }
   ],
   "source": [
    "y = [[1,2,3],[4,5,6],[7,8,9]]\n",
    "ay = np.array(y)\n",
    "\n",
    "\n",
    "print(ay[1])\n",
    "\n",
    "print(ay[0:2,1])\n",
    "print(ay[[0,1],[2,0]])\n",
    "print(ay[::-1,2])"
   ]
  },
  {
   "cell_type": "code",
   "execution_count": 41,
   "metadata": {},
   "outputs": [],
   "source": [
    "# # test\n",
    "# stds = [['Harry', 37.21], ['Berry', 37.21], ['Tina', 37.2], ['Akriti', 41], ['Harsh', 39]]\n",
    "# lowest = min([s for i,s in stds])\n",
    "# dpstd = [[i,s] for i,s in stds if s != lowest]\n",
    "# sec_lowest = min([s for i,s in stds])\n",
    "# names = [i for i,s in dpstd if s == sec_lowest]\n",
    "# for n in sorted(names):\n",
    "#     print(n)\n",
    "        "
   ]
  },
  {
   "cell_type": "markdown",
   "metadata": {},
   "source": [
    "## Masking np"
   ]
  },
  {
   "cell_type": "code",
   "execution_count": 38,
   "metadata": {},
   "outputs": [
    {
     "data": {
      "text/plain": [
       "array([0, 1, 2, 3, 4, 5, 6, 7, 8, 9])"
      ]
     },
     "execution_count": 38,
     "metadata": {},
     "output_type": "execute_result"
    }
   ],
   "source": [
    "np_x = np.arange(10)\n",
    "np_x"
   ]
  },
  {
   "cell_type": "code",
   "execution_count": 39,
   "metadata": {},
   "outputs": [
    {
     "data": {
      "text/plain": [
       "array([0, 2, 4, 6, 8])"
      ]
     },
     "execution_count": 39,
     "metadata": {},
     "output_type": "execute_result"
    }
   ],
   "source": [
    "np_x[np_x %2 ==0]"
   ]
  },
  {
   "cell_type": "code",
   "execution_count": 40,
   "metadata": {},
   "outputs": [
    {
     "data": {
      "text/plain": [
       "array([ True, False,  True, False,  True, False,  True, False,  True,\n",
       "       False])"
      ]
     },
     "execution_count": 40,
     "metadata": {},
     "output_type": "execute_result"
    }
   ],
   "source": [
    "np_x %2 == 0"
   ]
  },
  {
   "cell_type": "code",
   "execution_count": 42,
   "metadata": {},
   "outputs": [],
   "source": [
    "cond1 = np_x % 2  != 0\n",
    "cond2 = np_x < 5\n",
    "cond3 = np_x > 0"
   ]
  },
  {
   "cell_type": "code",
   "execution_count": 43,
   "metadata": {},
   "outputs": [
    {
     "name": "stdout",
     "output_type": "stream",
     "text": [
      "[1 3 5 7 9]\n"
     ]
    }
   ],
   "source": [
    "print(np_x[cond1])"
   ]
  },
  {
   "cell_type": "code",
   "execution_count": 44,
   "metadata": {},
   "outputs": [
    {
     "name": "stdout",
     "output_type": "stream",
     "text": [
      "[1 3]\n"
     ]
    }
   ],
   "source": [
    "print(np_x[cond1 & cond2 & cond3])"
   ]
  },
  {
   "cell_type": "markdown",
   "metadata": {},
   "source": [
    "## Broadcasting\n"
   ]
  },
  {
   "cell_type": "code",
   "execution_count": 46,
   "metadata": {},
   "outputs": [
    {
     "data": {
      "text/plain": [
       "array([2, 8, 3, 4, 5, 5, 6, 2, 0, 1])"
      ]
     },
     "execution_count": 46,
     "metadata": {},
     "output_type": "execute_result"
    }
   ],
   "source": [
    "'''test using'''\n",
    "np_x = np.random.randint(10,size = 10)\n",
    "np_x"
   ]
  },
  {
   "cell_type": "code",
   "execution_count": 48,
   "metadata": {},
   "outputs": [
    {
     "data": {
      "text/plain": [
       "array([10, 40, 15, 20, 25, 25, 30, 10,  0,  5])"
      ]
     },
     "execution_count": 48,
     "metadata": {},
     "output_type": "execute_result"
    }
   ],
   "source": [
    "np_x*5"
   ]
  },
  {
   "cell_type": "code",
   "execution_count": 51,
   "metadata": {},
   "outputs": [
    {
     "data": {
      "text/plain": [
       "array([[1., 1., 1.],\n",
       "       [1., 1., 1.],\n",
       "       [1., 1., 1.]])"
      ]
     },
     "execution_count": 51,
     "metadata": {},
     "output_type": "execute_result"
    }
   ],
   "source": [
    "'''create a np array'''\n",
    "x = np.ones((3,3))\n",
    "x"
   ]
  },
  {
   "cell_type": "code",
   "execution_count": 52,
   "metadata": {},
   "outputs": [
    {
     "data": {
      "text/plain": [
       "array([[1., 2., 3.],\n",
       "       [1., 2., 3.],\n",
       "       [1., 2., 3.]])"
      ]
     },
     "execution_count": 52,
     "metadata": {},
     "output_type": "execute_result"
    }
   ],
   "source": [
    "x+ np.arange(3)\n",
    "#  [0,1,2]"
   ]
  },
  {
   "cell_type": "code",
   "execution_count": 53,
   "metadata": {},
   "outputs": [
    {
     "data": {
      "text/plain": [
       "(3, 3)"
      ]
     },
     "execution_count": 53,
     "metadata": {},
     "output_type": "execute_result"
    }
   ],
   "source": [
    "x.shape"
   ]
  },
  {
   "cell_type": "code",
   "execution_count": 56,
   "metadata": {},
   "outputs": [
    {
     "data": {
      "text/plain": [
       "array([[0, 1, 2],\n",
       "       [1, 2, 3],\n",
       "       [2, 3, 4]])"
      ]
     },
     "execution_count": 56,
     "metadata": {},
     "output_type": "execute_result"
    }
   ],
   "source": [
    "x = np.arange(3)\n",
    "y = x.reshape((3,1))\n",
    "x+y"
   ]
  },
  {
   "cell_type": "markdown",
   "metadata": {},
   "source": [
    "## Exercise Broadcasting\n"
   ]
  },
  {
   "cell_type": "code",
   "execution_count": 59,
   "metadata": {},
   "outputs": [
    {
     "data": {
      "text/plain": [
       "(2, 3)"
      ]
     },
     "execution_count": 59,
     "metadata": {},
     "output_type": "execute_result"
    }
   ],
   "source": [
    "x = np.ones((2,3))\n",
    "x.shape"
   ]
  },
  {
   "cell_type": "code",
   "execution_count": 61,
   "metadata": {},
   "outputs": [
    {
     "data": {
      "text/plain": [
       "array([[1., 1.],\n",
       "       [1., 1.],\n",
       "       [1., 1.]])"
      ]
     },
     "execution_count": 61,
     "metadata": {},
     "output_type": "execute_result"
    }
   ],
   "source": [
    "rx = x.reshape((3,2))\n",
    "rx"
   ]
  },
  {
   "cell_type": "markdown",
   "metadata": {},
   "source": [
    "### Creating randomized numpy arrays"
   ]
  },
  {
   "cell_type": "code",
   "execution_count": 64,
   "metadata": {},
   "outputs": [
    {
     "data": {
      "text/plain": [
       "array([[2., 3.],\n",
       "       [2., 3.],\n",
       "       [2., 3.]])"
      ]
     },
     "execution_count": 64,
     "metadata": {},
     "output_type": "execute_result"
    }
   ],
   "source": [
    "rxplus = rx+np.arange(1,3)\n",
    "rxplus"
   ]
  },
  {
   "cell_type": "code",
   "execution_count": 68,
   "metadata": {},
   "outputs": [
    {
     "data": {
      "text/plain": [
       "array([[2., 2.],\n",
       "       [2., 2.],\n",
       "       [2., 2.]])"
      ]
     },
     "execution_count": 68,
     "metadata": {},
     "output_type": "execute_result"
    }
   ],
   "source": [
    "x = np.ones((3,2))\n",
    "y = np.ones((3,))\n",
    "y = y.reshape((3,1))\n",
    "\n",
    "x+y"
   ]
  },
  {
   "cell_type": "markdown",
   "metadata": {},
   "source": [
    "## Task\n",
    "1. Create a numpy araray of size 200 by 4. Imagine this array holds 200 samples of students h,w,a,GPA\n",
    "2. split to test"
   ]
  },
  {
   "cell_type": "code",
   "execution_count": null,
   "metadata": {},
   "outputs": [],
   "source": [
    "# from sklearn.model_selection import train_test_split\n"
   ]
  },
  {
   "cell_type": "code",
   "execution_count": 147,
   "metadata": {},
   "outputs": [],
   "source": [
    "students = np.random.randint(0,200,size = (200,4))\n",
    "students[:,2] = students[:,1] % 100\n",
    "students[:,2] = students[:,2] % 90\n",
    "students[:,3] = students[:,3] % 5\n",
    "# print(students[:,3])\n",
    "x_train = students[0:140,0:3]\n",
    "x_test = students[141:201,0:3]\n",
    "y_train = students[0:140,3]\n",
    "y_test = students[141:201,3]\n",
    "# \n",
    "\n",
    "\n",
    "\n"
   ]
  },
  {
   "cell_type": "code",
   "execution_count": 154,
   "metadata": {},
   "outputs": [],
   "source": [
    "'''random\n",
    "\n",
    "'''\n",
    "import random \n",
    "trains = 140\n",
    "lstsize = range(200)\n",
    "rand_140_indexs = random.sample(lstsize,trains)\n",
    "testran = [i for i in lstsize if i not in rand_140_indexs]\n",
    "s_train = students[rand_140_indexs,:]\n",
    "s_test = students[testran,:]"
   ]
  },
  {
   "cell_type": "code",
   "execution_count": 156,
   "metadata": {},
   "outputs": [],
   "source": [
    "ten_non_overlaping_xtrain = np.split(x_train,10)"
   ]
  },
  {
   "cell_type": "code",
   "execution_count": 159,
   "metadata": {},
   "outputs": [],
   "source": [
    "a1,a2,a3,a4,a5,a6,a7,a8,a9,a0 = ten_non_overlaping_xtrain"
   ]
  },
  {
   "cell_type": "code",
   "execution_count": 168,
   "metadata": {},
   "outputs": [
    {
     "data": {
      "text/plain": [
       "array([[103, 136,  36],\n",
       "       [112, 106,   6],\n",
       "       [158, 197,   7],\n",
       "       [ 11,  30,  30],\n",
       "       [137, 184,  84],\n",
       "       [ 20,  13,  13],\n",
       "       [134,   2,   2],\n",
       "       [ 57,  71,  71],\n",
       "       [ 76, 132,  32],\n",
       "       [148,  71,  71],\n",
       "       [160, 105,   5],\n",
       "       [162, 172,  72],\n",
       "       [ 90, 114,  14],\n",
       "       [ 23,  53,  53]])"
      ]
     },
     "execution_count": 168,
     "metadata": {},
     "output_type": "execute_result"
    }
   ],
   "source": [
    "a1"
   ]
  },
  {
   "cell_type": "code",
   "execution_count": 162,
   "metadata": {},
   "outputs": [
    {
     "data": {
      "text/plain": [
       "(14, 3)"
      ]
     },
     "execution_count": 162,
     "metadata": {},
     "output_type": "execute_result"
    }
   ],
   "source": [
    "len(a1)\n",
    "a1.shape"
   ]
  },
  {
   "cell_type": "code",
   "execution_count": 176,
   "metadata": {},
   "outputs": [
    {
     "name": "stdout",
     "output_type": "stream",
     "text": [
      "range(0, 140)\n",
      "range(0, 370)\n"
     ]
    },
    {
     "ename": "IndexError",
     "evalue": "too many indices for array: array is 1-dimensional, but 2 were indexed",
     "output_type": "error",
     "traceback": [
      "\u001b[0;31m---------------------------------------------------------------------------\u001b[0m",
      "\u001b[0;31mIndexError\u001b[0m                                Traceback (most recent call last)",
      "\u001b[1;32m/Volumes/ExternalSSDForMac/AITLecture/CSforDSAIAUG22/codealongcsfordsaiAti/Lectures/02-Data Science/code-along/Numpy.ipynb Cell 59\u001b[0m in \u001b[0;36m<cell line: 10>\u001b[0;34m()\u001b[0m\n\u001b[1;32m      <a href='vscode-notebook-cell:/Volumes/ExternalSSDForMac/AITLecture/CSforDSAIAUG22/codealongcsfordsaiAti/Lectures/02-Data%20Science/code-along/Numpy.ipynb#Y341sZmlsZQ%3D%3D?line=6'>7</a>\u001b[0m         sublist \u001b[39m=\u001b[39m lst[a,:]\n\u001b[1;32m      <a href='vscode-notebook-cell:/Volumes/ExternalSSDForMac/AITLecture/CSforDSAIAUG22/codealongcsfordsaiAti/Lectures/02-Data%20Science/code-along/Numpy.ipynb#Y341sZmlsZQ%3D%3D?line=7'>8</a>\u001b[0m         lst \u001b[39m=\u001b[39m np\u001b[39m.\u001b[39mdelete(lst,a)\n\u001b[0;32m---> <a href='vscode-notebook-cell:/Volumes/ExternalSSDForMac/AITLecture/CSforDSAIAUG22/codealongcsfordsaiAti/Lectures/02-Data%20Science/code-along/Numpy.ipynb#Y341sZmlsZQ%3D%3D?line=9'>10</a>\u001b[0m a \u001b[39m=\u001b[39m create_ss(x_train)\n",
      "\u001b[1;32m/Volumes/ExternalSSDForMac/AITLecture/CSforDSAIAUG22/codealongcsfordsaiAti/Lectures/02-Data Science/code-along/Numpy.ipynb Cell 59\u001b[0m in \u001b[0;36mcreate_ss\u001b[0;34m(lst)\u001b[0m\n\u001b[1;32m      <a href='vscode-notebook-cell:/Volumes/ExternalSSDForMac/AITLecture/CSforDSAIAUG22/codealongcsfordsaiAti/Lectures/02-Data%20Science/code-along/Numpy.ipynb#Y341sZmlsZQ%3D%3D?line=4'>5</a>\u001b[0m \u001b[39mprint\u001b[39m(llst)\n\u001b[1;32m      <a href='vscode-notebook-cell:/Volumes/ExternalSSDForMac/AITLecture/CSforDSAIAUG22/codealongcsfordsaiAti/Lectures/02-Data%20Science/code-along/Numpy.ipynb#Y341sZmlsZQ%3D%3D?line=5'>6</a>\u001b[0m a \u001b[39m=\u001b[39m random\u001b[39m.\u001b[39msample(llst,\u001b[39m50\u001b[39m)\n\u001b[0;32m----> <a href='vscode-notebook-cell:/Volumes/ExternalSSDForMac/AITLecture/CSforDSAIAUG22/codealongcsfordsaiAti/Lectures/02-Data%20Science/code-along/Numpy.ipynb#Y341sZmlsZQ%3D%3D?line=6'>7</a>\u001b[0m sublist \u001b[39m=\u001b[39m lst[a,:]\n\u001b[1;32m      <a href='vscode-notebook-cell:/Volumes/ExternalSSDForMac/AITLecture/CSforDSAIAUG22/codealongcsfordsaiAti/Lectures/02-Data%20Science/code-along/Numpy.ipynb#Y341sZmlsZQ%3D%3D?line=7'>8</a>\u001b[0m lst \u001b[39m=\u001b[39m np\u001b[39m.\u001b[39mdelete(lst,a)\n",
      "\u001b[0;31mIndexError\u001b[0m: too many indices for array: array is 1-dimensional, but 2 were indexed"
     ]
    }
   ],
   "source": [
    "# def create_ss(lst):\n",
    "#     retlst = []\n",
    "#     while len(lst) > 50:\n",
    "#         llst = range(len(lst))\n",
    "    \n",
    "#         a = random.sample(llst,50)\n",
    "#         sublist = lst[a,:]\n",
    "#         lst = np.delete(lst,a)\n",
    "    \n",
    "# a = create_ss(x_train)"
   ]
  },
  {
   "cell_type": "code",
   "execution_count": 177,
   "metadata": {},
   "outputs": [],
   "source": [
    "sl = np.random.randint(0,200,size = (150,5))\n",
    "sl[:,1] = sl[:,1] % 100\n",
    "sl[:,2] = sl[:,2] % 90\n",
    "sl[:,3] = sl[:,3] * 30\n",
    "sl[:,-1] = sl[:,-1] % 5\n",
    "\n",
    "# print(students[:,3])\n",
    "seventyp = int(150*.7)\n",
    "\n",
    "x_train = sl[0:seventyp,0:-1]\n",
    "x_test = sl[0:seventyp,-1]\n",
    "y_train = sl[seventyp:,0:-1]\n",
    "y_test = sl[seventyp:,-1]"
   ]
  },
  {
   "cell_type": "code",
   "execution_count": 181,
   "metadata": {},
   "outputs": [
    {
     "data": {
      "text/plain": [
       "(105, 4)"
      ]
     },
     "execution_count": 181,
     "metadata": {},
     "output_type": "execute_result"
    }
   ],
   "source": [
    "x_train.shape"
   ]
  },
  {
   "cell_type": "code",
   "execution_count": null,
   "metadata": {},
   "outputs": [],
   "source": []
  },
  {
   "cell_type": "code",
   "execution_count": 194,
   "metadata": {},
   "outputs": [],
   "source": [
    "ten_non_overlaping_xtrain = np.split(x_train[:100],10)"
   ]
  },
  {
   "cell_type": "code",
   "execution_count": 195,
   "metadata": {},
   "outputs": [],
   "source": [
    "ten_non_overlaping_xtrain\n",
    "extra_xtrain = x_train[100:]"
   ]
  },
  {
   "cell_type": "code",
   "execution_count": 196,
   "metadata": {},
   "outputs": [
    {
     "data": {
      "text/plain": [
       "(5, 4)"
      ]
     },
     "execution_count": 196,
     "metadata": {},
     "output_type": "execute_result"
    }
   ],
   "source": [
    "extra_xtrain.shape"
   ]
  },
  {
   "cell_type": "code",
   "execution_count": 198,
   "metadata": {},
   "outputs": [],
   "source": [
    "a1,a2,a3,a4,a5,a6,a7,a8,a9,a0 = ten_non_overlaping_xtrain"
   ]
  },
  {
   "cell_type": "code",
   "execution_count": 192,
   "metadata": {},
   "outputs": [
    {
     "data": {
      "text/plain": [
       "array([[  74,   96,    9,  480],\n",
       "       [  33,   21,   48, 3000],\n",
       "       [ 155,    3,    6, 3480],\n",
       "       [  22,   54,   69, 2040],\n",
       "       [ 137,   15,   53, 4020],\n",
       "       [  13,   46,   15, 2760],\n",
       "       [ 108,   14,   67, 1950],\n",
       "       [ 128,   21,   75, 4290],\n",
       "       [  69,   32,   75, 1230],\n",
       "       [  24,   96,   81, 4410]])"
      ]
     },
     "execution_count": 192,
     "metadata": {},
     "output_type": "execute_result"
    }
   ],
   "source": [
    "a1"
   ]
  },
  {
   "cell_type": "code",
   "execution_count": 178,
   "metadata": {},
   "outputs": [
    {
     "data": {
      "text/plain": [
       "array([2, 2, 2, 3, 2, 4, 1, 3, 0, 1, 4, 0, 1, 2, 0, 0, 1, 3, 3, 0, 2, 1,\n",
       "       3, 0, 4, 2, 4, 1, 2, 0, 1, 0, 2, 0, 1, 3, 0, 3, 3, 2, 1, 3, 2, 4,\n",
       "       1])"
      ]
     },
     "execution_count": 178,
     "metadata": {},
     "output_type": "execute_result"
    }
   ],
   "source": [
    "y_test"
   ]
  },
  {
   "cell_type": "code",
   "execution_count": 179,
   "metadata": {},
   "outputs": [
    {
     "data": {
      "text/plain": [
       "array([[   8,   17,   16, 3420],\n",
       "       [  65,   56,   30, 1950],\n",
       "       [ 190,   47,   52, 4860],\n",
       "       [ 115,   26,   17, 4740],\n",
       "       [   5,   27,   59, 3750],\n",
       "       [  39,   78,    7,  690],\n",
       "       [ 186,   51,   10, 5220],\n",
       "       [ 146,   57,   73, 5220],\n",
       "       [ 185,   15,   16, 3120],\n",
       "       [ 155,    4,   37, 5550],\n",
       "       [  44,   79,   49,  630],\n",
       "       [  30,   71,   16, 4230],\n",
       "       [ 160,   40,    4, 4890],\n",
       "       [  44,   79,   46, 5730],\n",
       "       [   9,   48,   13,  630],\n",
       "       [ 120,    7,   72, 4500],\n",
       "       [  20,    0,   23, 5250],\n",
       "       [  62,   41,   50, 2280],\n",
       "       [  11,   10,   72, 4740],\n",
       "       [   9,   44,   57, 2940],\n",
       "       [ 100,   36,    2, 2970],\n",
       "       [  58,   14,    9, 3810],\n",
       "       [ 134,   32,    2, 3000],\n",
       "       [  59,   94,   31, 4170],\n",
       "       [ 184,   77,   21, 3870],\n",
       "       [  76,   50,   44,    0],\n",
       "       [ 165,    4,   17, 2880],\n",
       "       [ 156,   59,   24, 3750],\n",
       "       [ 111,   60,   61,  600],\n",
       "       [  58,   92,   60,  870],\n",
       "       [  74,   34,   12, 4080],\n",
       "       [ 104,   77,   58,  180],\n",
       "       [ 131,   94,   69, 4710],\n",
       "       [   8,   73,   19, 5010],\n",
       "       [ 111,    3,   24, 1530],\n",
       "       [  43,    2,   88, 5340],\n",
       "       [  82,   68,   67,  810],\n",
       "       [  99,   90,   22, 4350],\n",
       "       [ 119,   60,   84, 4710],\n",
       "       [  97,   67,   47, 1980],\n",
       "       [ 167,   61,   23,  210],\n",
       "       [ 164,   42,   71, 3300],\n",
       "       [  73,   87,   58, 2220],\n",
       "       [  69,   96,   10, 5160],\n",
       "       [  23,   54,   38,  210]])"
      ]
     },
     "execution_count": 179,
     "metadata": {},
     "output_type": "execute_result"
    }
   ],
   "source": [
    "y_train"
   ]
  },
  {
   "cell_type": "code",
   "execution_count": null,
   "metadata": {},
   "outputs": [],
   "source": []
  },
  {
   "cell_type": "code",
   "execution_count": null,
   "metadata": {},
   "outputs": [],
   "source": []
  },
  {
   "cell_type": "code",
   "execution_count": null,
   "metadata": {},
   "outputs": [],
   "source": []
  },
  {
   "cell_type": "markdown",
   "metadata": {},
   "source": [
    "### === Task 1 ===\n",
    "\n",
    "1. Declare a list of 1 to 4 using range()\n",
    "\n",
    "2. Continuing, create numpy array from this list, with dtype='float32'\n",
    "\n",
    "3. Create an numpy array of size 3 by 5 using np.zeros\n",
    "\n",
    "4. Create an numpy array of size 2 by 3 with filled value 1 / 3\n",
    "\n",
    "5. Create an array of 5 equal-distanced values for 0 to 10\n",
    "\n",
    "6. Create an array of number for 0.001, 0.01, 0.1, 1 using np.logspace\n",
    "\n",
    "7. Create a diagonal matrix of list [1, 2, 3, 4]\n",
    "\n",
    "\n",
    "8. Create a random array of size 4 by 5 all filled with random values between 0 and 1\n",
    "\n",
    "9.  Create a random array of size 4 by 5 all filled with integer random values between 2 and 5\n",
    "\n",
    "10.  Create a random array of size 4 by 5 all filled with float random values between 2 and 5\n",
    "\n",
    "11. Create a random array of size 4 by 5 with mean = 5, and std = 1 following a gaussian (normal) distribution\n",
    "\n",
    "12. Create an identity matrix of size 5 by 5"
   ]
  },
  {
   "cell_type": "markdown",
   "metadata": {},
   "source": [
    "## Attributes"
   ]
  },
  {
   "cell_type": "markdown",
   "metadata": {},
   "source": [
    "First let's discuss some useful array attributes. We'll start by defining three random arrays, a one-dimensional, two-dimensional, and three-dimensional array. \n",
    "\n",
    "<center><img src=\"../figures/02.01-numpy-dimension.png\" width=500 height=500 /></center>\n",
    "\n",
    "We'll use NumPy's random number generator, which we will seed with a set value in order to ensure that the same random arrays are generated each time this code is run:"
   ]
  },
  {
   "cell_type": "code",
   "execution_count": null,
   "metadata": {},
   "outputs": [],
   "source": []
  },
  {
   "cell_type": "markdown",
   "metadata": {},
   "source": [
    "### Dim"
   ]
  },
  {
   "cell_type": "code",
   "execution_count": null,
   "metadata": {},
   "outputs": [],
   "source": []
  },
  {
   "cell_type": "markdown",
   "metadata": {},
   "source": [
    "### Shape"
   ]
  },
  {
   "cell_type": "code",
   "execution_count": null,
   "metadata": {},
   "outputs": [],
   "source": []
  },
  {
   "cell_type": "markdown",
   "metadata": {},
   "source": [
    "### Len"
   ]
  },
  {
   "cell_type": "code",
   "execution_count": null,
   "metadata": {},
   "outputs": [],
   "source": []
  },
  {
   "cell_type": "markdown",
   "metadata": {},
   "source": [
    "### Size"
   ]
  },
  {
   "cell_type": "code",
   "execution_count": null,
   "metadata": {},
   "outputs": [],
   "source": []
  },
  {
   "cell_type": "markdown",
   "metadata": {},
   "source": [
    "### Dtypes"
   ]
  },
  {
   "cell_type": "code",
   "execution_count": null,
   "metadata": {},
   "outputs": [],
   "source": []
  },
  {
   "cell_type": "markdown",
   "metadata": {},
   "source": [
    "## Indexing and Slicing"
   ]
  },
  {
   "cell_type": "markdown",
   "metadata": {},
   "source": [
    "<center><img src=\"../figures/02.02-numpy-array-slice.png\" width=500 height=500 /></center>"
   ]
  },
  {
   "cell_type": "markdown",
   "metadata": {},
   "source": [
    "### Basic indexing"
   ]
  },
  {
   "cell_type": "code",
   "execution_count": null,
   "metadata": {},
   "outputs": [],
   "source": []
  },
  {
   "cell_type": "markdown",
   "metadata": {},
   "source": [
    "### 2D array access"
   ]
  },
  {
   "cell_type": "markdown",
   "metadata": {},
   "source": [
    "<center><img src=\"../figures/02.03-numpy-matrix-indexing.png\" width=500 height=500 /></center>"
   ]
  },
  {
   "cell_type": "code",
   "execution_count": null,
   "metadata": {},
   "outputs": [],
   "source": []
  },
  {
   "cell_type": "markdown",
   "metadata": {},
   "source": [
    "### 3D array access"
   ]
  },
  {
   "cell_type": "code",
   "execution_count": null,
   "metadata": {},
   "outputs": [],
   "source": []
  },
  {
   "cell_type": "markdown",
   "metadata": {},
   "source": [
    "### Modifying"
   ]
  },
  {
   "cell_type": "code",
   "execution_count": null,
   "metadata": {},
   "outputs": [],
   "source": []
  },
  {
   "cell_type": "markdown",
   "metadata": {},
   "source": [
    "### === Task 2 ===\n",
    "\n",
    "1. Create a numpy array of size 3 by 4 with random float values between 0 to 5\n",
    "\n",
    "2. Continuing, print the shape of this array\n",
    "\n",
    "3. Continuing, access the first row of the array\n",
    "\n",
    "4. Continuing, access the first column of the array\n",
    "\n",
    "5. Continuing, access the second row, and third column element\n",
    "\n",
    "6. Continuing, access the first two columns\n",
    "\n",
    "7. Continuing, access the  first and third columns using step\n",
    "\n",
    "8. Continuing, print the whole matrix in reverse columns but not rows\n",
    "\n",
    "9. Change the third row, fourth column element (i.e., the last element) to 999"
   ]
  },
  {
   "cell_type": "markdown",
   "metadata": {},
   "source": [
    "### Very very important reminder - subarray are not copies!"
   ]
  },
  {
   "cell_type": "code",
   "execution_count": null,
   "metadata": {},
   "outputs": [],
   "source": []
  },
  {
   "cell_type": "markdown",
   "metadata": {},
   "source": [
    "## Reshaping"
   ]
  },
  {
   "cell_type": "markdown",
   "metadata": {},
   "source": [
    "### Simple reshape"
   ]
  },
  {
   "cell_type": "markdown",
   "metadata": {},
   "source": [
    "### 1d to 2d\n",
    "\n",
    "<center><img src=\"../figures/02.04-np_reshape.png\" width=500 height=500 /></center>"
   ]
  },
  {
   "cell_type": "code",
   "execution_count": null,
   "metadata": {},
   "outputs": [],
   "source": []
  },
  {
   "cell_type": "markdown",
   "metadata": {},
   "source": [
    "### np.newaxis"
   ]
  },
  {
   "cell_type": "code",
   "execution_count": null,
   "metadata": {},
   "outputs": [],
   "source": []
  },
  {
   "cell_type": "markdown",
   "metadata": {},
   "source": [
    "### Common to reshape 2d to 3d for time algorithms, such as LSTM"
   ]
  },
  {
   "cell_type": "code",
   "execution_count": null,
   "metadata": {},
   "outputs": [],
   "source": []
  },
  {
   "cell_type": "markdown",
   "metadata": {},
   "source": [
    "### Using -1 in reshape"
   ]
  },
  {
   "cell_type": "code",
   "execution_count": null,
   "metadata": {},
   "outputs": [],
   "source": []
  },
  {
   "cell_type": "markdown",
   "metadata": {},
   "source": [
    "### === Task 3 ===\n",
    "\n",
    "1. Create a numpy array of size 200 by 4 with random float values between 1 to 5 and name it <code>Data</code>\n",
    "\n",
    "2. Split the array into two numpy arrays, X and y, where the X contains the first 3 columns and y contains the last column.\n",
    "\n",
    "3. Continuing, split the first 70% of the 200 rows of X and y and call them <code>X_train</code> and <code>y_train</code>. Similarly, populate <code>X_test</code> and <code>y_test</code> using same corresponding columns but 30\\% rest of the data.\n",
    "\n",
    "<img src=\"../figures/02.07-numpy-Task.png\" width=1000 height=1000 />\n",
    "\n",
    "4. Print the shape of the <code>X_train</code> and <code>y_train</code>.  The first array should have shape (0.7 * 200, 3); the second array is (0.7 * 200, 1)\n",
    "\n",
    "5. Assign m = <code>X_train.shape[0]</code>, and n = <code>X_train.shape[1]</code>, where $m$ is number of samples, and $n$ is number of features\n",
    "\n",
    "6. Randomly select one row of <code>X_train</code> by using <code>np.random.randint</code> to select the random row and called it <code>X_i</code>.  Reshape it so that it has shape of <code>(1, n)</code>\n",
    "\n",
    "7. Randomly select 50 contiguous rows from <code>X_train</code> by using <code>np.random.randint</code> to select a random starting row and called it <code>mini_batch_X</code>.  If the index exceeds, simply grab whatever left.\n",
    "\n",
    "8. Write a for loop that breaks the <code>X_train</code> row-wise into 10 equal pieces without overlap, and simply print their shape\n",
    "\n",
    "9. Create an np.zero array called <code>theta</code> with shape of <code>(n, )</code>\n",
    "\n",
    "10. Perform a **dot product** between <code>X_train</code> and <code>theta</code> and assign this value to a variable called <code>yhat</code>\n",
    "Hint: https://www.guru99.com/numpy-dot-product.html\n",
    "\n",
    "<center><img src=\"../figures/02.07-numpy-Task-dot-explained.png\" width=500 height=500 /></center>\n",
    "\n",
    "11. Create another variable called <code>y</code> with the same shape as <code>yhat</code>, and populate it with random values from 0 to 1.\n",
    "\n",
    "12. Calculate the following \n",
    "    $$ \\frac{\\sum\\limits_{i=1}^{m} (y_i - \\hat{y_i})^2}{m} $$\n",
    "    \n",
    "    For example, if yhat = [1, 2, 3] and y = [2, 3, 4], then the calculation is\n",
    "    \n",
    "    $$ \\frac{sum((1-2)^2 + (2-3)^2 + (3-4)^2)}{m} $$"
   ]
  },
  {
   "cell_type": "markdown",
   "metadata": {},
   "source": [
    "## Concatenation, vstack/hstack"
   ]
  },
  {
   "cell_type": "markdown",
   "metadata": {},
   "source": [
    "<center><img src=\"../figures/numpy-axis.jpg\" width=500 height=500 /></center>"
   ]
  },
  {
   "cell_type": "markdown",
   "metadata": {},
   "source": [
    "<center><img src=\"../figures/02.06-numpy-concatenate.png\" width=500 height=500 /></center>"
   ]
  },
  {
   "cell_type": "markdown",
   "metadata": {},
   "source": [
    "### Concatenation"
   ]
  },
  {
   "cell_type": "code",
   "execution_count": null,
   "metadata": {},
   "outputs": [],
   "source": []
  },
  {
   "cell_type": "markdown",
   "metadata": {},
   "source": [
    "### Error example"
   ]
  },
  {
   "cell_type": "code",
   "execution_count": null,
   "metadata": {},
   "outputs": [],
   "source": []
  },
  {
   "cell_type": "markdown",
   "metadata": {},
   "source": [
    "### More example"
   ]
  },
  {
   "cell_type": "code",
   "execution_count": null,
   "metadata": {},
   "outputs": [],
   "source": []
  },
  {
   "cell_type": "markdown",
   "metadata": {},
   "source": [
    "### Concatenating multiple lists"
   ]
  },
  {
   "cell_type": "code",
   "execution_count": null,
   "metadata": {},
   "outputs": [],
   "source": []
  },
  {
   "cell_type": "markdown",
   "metadata": {},
   "source": [
    "### Vstack and hstack"
   ]
  },
  {
   "cell_type": "markdown",
   "metadata": {},
   "source": [
    "<center><img src=\"../figures/numpy-hstack.png\" width=200 height=200 /><img src=\"../figures/numpy-vstack.png\" width=120 height=200 /></center>"
   ]
  },
  {
   "cell_type": "code",
   "execution_count": null,
   "metadata": {},
   "outputs": [],
   "source": []
  },
  {
   "cell_type": "markdown",
   "metadata": {},
   "source": [
    "## Vectorization\n",
    "<center><img src=\"../figures/numpy-vectorization.png\" width=300 height=300 /></center>"
   ]
  },
  {
   "cell_type": "markdown",
   "metadata": {},
   "source": [
    "### Vectorization basics"
   ]
  },
  {
   "cell_type": "code",
   "execution_count": null,
   "metadata": {},
   "outputs": [],
   "source": []
  },
  {
   "cell_type": "markdown",
   "metadata": {},
   "source": [
    "### Vectorization by scalars"
   ]
  },
  {
   "cell_type": "code",
   "execution_count": null,
   "metadata": {},
   "outputs": [],
   "source": []
  },
  {
   "cell_type": "markdown",
   "metadata": {},
   "source": [
    "### Vectorization using numpy built in function"
   ]
  },
  {
   "cell_type": "code",
   "execution_count": null,
   "metadata": {},
   "outputs": [],
   "source": []
  },
  {
   "cell_type": "markdown",
   "metadata": {},
   "source": [
    "## Broadcasting"
   ]
  },
  {
   "cell_type": "markdown",
   "metadata": {},
   "source": [
    "Broadcasting is actually a built-in vectorization technique when shape is different\n",
    "\n",
    "Here are the broadcasting rules:\n",
    "\n",
    "- Rule 1: If the two arrays differ in their number of dimensions, the shape of the one with fewer dimensions is padded with ones on its leading (left) side.\n",
    "- Rule 2: If the shape of the two arrays does not match in any dimension, the array with shape equal to 1 in that dimension is stretched to match the other shape\n",
    "- Rule 3: If in any dimension the sizes disagree and neither is equal to 1, an error is raised.\n",
    "\n",
    "A simple way to think about broadcasting is as follows:\n",
    "\n",
    "<code>a = 5\n",
    "b = np.array([1, 1, 1])  #shape with (3, )\n",
    "a + b = [6, 6, 6]</code>\n",
    "\n",
    "Actually, what broadcasting does is to stretch a to [5, 5, 5] to match the dimension of b.  As you can see, the shape of [5, 5, 5] has shape with (3, ) as well.  BTW, this duplication does not actually take place, but it is a useful mental model to think about broadcasting\n",
    "\n",
    "<center><img src=\"../figures/02.05-broadcasting.png\" width=400 height=400 /></center>"
   ]
  },
  {
   "cell_type": "markdown",
   "metadata": {},
   "source": [
    "### Example 1"
   ]
  },
  {
   "cell_type": "code",
   "execution_count": null,
   "metadata": {},
   "outputs": [],
   "source": []
  },
  {
   "cell_type": "markdown",
   "metadata": {},
   "source": [
    "### Example 2"
   ]
  },
  {
   "cell_type": "code",
   "execution_count": null,
   "metadata": {},
   "outputs": [],
   "source": []
  },
  {
   "cell_type": "markdown",
   "metadata": {},
   "source": [
    "### Example 3"
   ]
  },
  {
   "cell_type": "code",
   "execution_count": null,
   "metadata": {},
   "outputs": [],
   "source": []
  },
  {
   "cell_type": "markdown",
   "metadata": {},
   "source": [
    "### Example 4"
   ]
  },
  {
   "cell_type": "code",
   "execution_count": null,
   "metadata": {},
   "outputs": [],
   "source": []
  },
  {
   "cell_type": "markdown",
   "metadata": {},
   "source": [
    "### === Task 4 ===\n",
    "\n",
    "1. From the above <code>X_train</code> from previous task, using concatenation, add a column of 1s along axis=1 and call it intercept\n",
    "\n",
    "2. Create a <code>theta</code> of shape (n + 1, 4), with random values between 0 and 1\n",
    "\n",
    "3. Perform a dot product between X_train and theta, and assign this value to a variable called <code>hot_encoded_yhat</code>\n",
    "\n",
    "4. Continuing, using broadcasting and vectorization, for each value (here I use example as value1) in <code>hot_encoded_yhat</code>, perform the following calculations.\n",
    "\n",
    "$$ \\frac{\\exp(value1)}{\\exp(value1)+\\exp(value2)+\\exp(value3)+\\exp(value4)} $$\n",
    "\n",
    "For example, if my first row is [0.3, 0.5, 1.2, 3.1], then the first value 0.3 will change to\n",
    "\n",
    "exp(0.3) / (exp(0.3) + exp(0.5) + exp(1.2) + exp(3.1))\n",
    "\n",
    "The second value 0.5 will become\n",
    "\n",
    "exp(0.5) / (exp(0.3) + exp(0.5) + exp(1.2) + exp(3.1))\n",
    "\n",
    "5. Create a variable called <code>yhat</code> which is equal to the <code>np.argmax</code> of <code>hot_encoded_yhat</code> along axis=1.  That is, <code>yhat</code> has the shape of <code>(X_train.shape[0], )</code>.  For example, if the first row of <code>hot_encoded_yhat</code> is [0.1, 0.2, 0.3, 0.4], since the fourth value is the biggest, the value will be its index which is 3.\n",
    "\n",
    "6. Create a variable called <code>y</code>, containing shape of <code>(X_train.shape[0], )</code> but with random int values from [0, 1, 2, 3]\n",
    "\n",
    "7. Assign a variable <code>n_classses</code> equal to the number of unique values in <code>y</code>"
   ]
  },
  {
   "cell_type": "markdown",
   "metadata": {},
   "source": [
    "## Masking"
   ]
  },
  {
   "cell_type": "markdown",
   "metadata": {},
   "source": [
    "Instead of writing if/while, we can use Boolean masks to elegantly extract desired values from numpy arrays.  You will love it!!\n"
   ]
  },
  {
   "cell_type": "code",
   "execution_count": null,
   "metadata": {},
   "outputs": [],
   "source": []
  },
  {
   "cell_type": "markdown",
   "metadata": {},
   "source": [
    "Examples\n",
    "\n",
    "Hint: https://matteding.github.io/2019/04/12/numpy-masks/"
   ]
  },
  {
   "cell_type": "code",
   "execution_count": null,
   "metadata": {},
   "outputs": [],
   "source": []
  },
  {
   "cell_type": "markdown",
   "metadata": {},
   "source": [
    "### Argwhere"
   ]
  },
  {
   "cell_type": "code",
   "execution_count": null,
   "metadata": {},
   "outputs": [],
   "source": []
  },
  {
   "cell_type": "markdown",
   "metadata": {},
   "source": [
    "### np.any"
   ]
  },
  {
   "cell_type": "code",
   "execution_count": null,
   "metadata": {},
   "outputs": [],
   "source": []
  },
  {
   "cell_type": "markdown",
   "metadata": {},
   "source": [
    "### np.all"
   ]
  },
  {
   "cell_type": "code",
   "execution_count": null,
   "metadata": {},
   "outputs": [],
   "source": []
  },
  {
   "cell_type": "markdown",
   "metadata": {},
   "source": [
    "### Multiple conditions"
   ]
  },
  {
   "cell_type": "code",
   "execution_count": null,
   "metadata": {},
   "outputs": [],
   "source": []
  },
  {
   "cell_type": "markdown",
   "metadata": {},
   "source": [
    "## Fancy indexing"
   ]
  },
  {
   "cell_type": "markdown",
   "metadata": {},
   "source": [
    "Instead of pass individual indices, we can pass array of indices all at once, and it will return a list of numbers"
   ]
  },
  {
   "cell_type": "code",
   "execution_count": null,
   "metadata": {},
   "outputs": [],
   "source": []
  },
  {
   "cell_type": "markdown",
   "metadata": {},
   "source": [
    "### Basic example"
   ]
  },
  {
   "cell_type": "code",
   "execution_count": null,
   "metadata": {},
   "outputs": [],
   "source": []
  },
  {
   "cell_type": "markdown",
   "metadata": {},
   "source": [
    "### Shape of fancy indexing"
   ]
  },
  {
   "cell_type": "code",
   "execution_count": null,
   "metadata": {},
   "outputs": [],
   "source": []
  },
  {
   "cell_type": "markdown",
   "metadata": {},
   "source": [
    "### Multiple dimension fancy indexing"
   ]
  },
  {
   "cell_type": "code",
   "execution_count": null,
   "metadata": {},
   "outputs": [],
   "source": []
  },
  {
   "cell_type": "markdown",
   "metadata": {},
   "source": [
    "### Combined indexing with indexing/slicing"
   ]
  },
  {
   "cell_type": "code",
   "execution_count": null,
   "metadata": {},
   "outputs": [],
   "source": []
  },
  {
   "cell_type": "markdown",
   "metadata": {},
   "source": [
    "### 3d"
   ]
  },
  {
   "cell_type": "code",
   "execution_count": null,
   "metadata": {},
   "outputs": [],
   "source": []
  },
  {
   "cell_type": "markdown",
   "metadata": {},
   "source": [
    "Modifying using fancy indexing"
   ]
  },
  {
   "cell_type": "code",
   "execution_count": null,
   "metadata": {},
   "outputs": [],
   "source": []
  },
  {
   "cell_type": "markdown",
   "metadata": {},
   "source": [
    "### === Task 5 ===\n",
    "\n",
    "1. Take the above variables <code>yhat</code> and <code>y</code>, sum up the counts when their corresponding value are the same.  Then divide this sum by $m$.  Called this variable <code>accuracy</code>\n",
    "\n",
    "2. Let's practice masking.  Convert <code>y</code> into <code>hot_encoded_y</code> matrix of shape <code>(X_train.shape[0], 4)</code>, where the column will be one according to its value, and other columns will be zero.  For example, if the first row is 1, then it will become 0 1 0 0.  If the second row is 2, then it will become 0 0 1 0\n",
    "\n",
    "3. Grab the data from <code>data = np.genfromtxt('../data/perceptron.csv', delimiter=',', skip_header=1)</code>\n",
    "    - set X to be all columns except last\n",
    "    - set y to be the last column\n",
    "    - select X where its corresponding y is 0\n",
    "    - select X where its corresponding y is 1\n",
    "    \n",
    "4. Grab the data from <code>iris = np.genfromtxt('../data/iris.csv', delimiter=',', encoding=\"utf-8\", dtype=None)</code>\n",
    "    - set iris_without_headers to all rows except the first row\n",
    "    - set sepal_length to second column of iris_without_headers\n",
    "    - set petal_length to fourth column of iris_without_headers\n",
    "    - print the shape of iris_without_headers where sepal_length is less than 5, and petal_length is greater than 1.5"
   ]
  },
  {
   "cell_type": "markdown",
   "metadata": {},
   "source": [
    "## Other useful stuff :)"
   ]
  },
  {
   "cell_type": "markdown",
   "metadata": {
    "tags": []
   },
   "source": [
    "#### np.transpose"
   ]
  },
  {
   "cell_type": "code",
   "execution_count": null,
   "metadata": {},
   "outputs": [],
   "source": []
  },
  {
   "cell_type": "code",
   "execution_count": null,
   "metadata": {},
   "outputs": [],
   "source": []
  },
  {
   "cell_type": "code",
   "execution_count": null,
   "metadata": {},
   "outputs": [],
   "source": []
  },
  {
   "cell_type": "markdown",
   "metadata": {},
   "source": [
    "### np.flatten"
   ]
  },
  {
   "cell_type": "code",
   "execution_count": null,
   "metadata": {},
   "outputs": [],
   "source": []
  },
  {
   "cell_type": "markdown",
   "metadata": {},
   "source": [
    "### np.squeeze"
   ]
  },
  {
   "cell_type": "code",
   "execution_count": null,
   "metadata": {},
   "outputs": [],
   "source": []
  },
  {
   "cell_type": "markdown",
   "metadata": {},
   "source": [
    "### np.argwhere"
   ]
  },
  {
   "cell_type": "code",
   "execution_count": null,
   "metadata": {},
   "outputs": [],
   "source": []
  },
  {
   "cell_type": "markdown",
   "metadata": {},
   "source": [
    "### np.argmax"
   ]
  },
  {
   "cell_type": "code",
   "execution_count": null,
   "metadata": {},
   "outputs": [],
   "source": []
  },
  {
   "cell_type": "markdown",
   "metadata": {},
   "source": [
    "### np.argsort"
   ]
  },
  {
   "cell_type": "code",
   "execution_count": null,
   "metadata": {},
   "outputs": [],
   "source": []
  }
 ],
 "metadata": {
  "kernelspec": {
   "display_name": "Python 3.9.7 ('ai50')",
   "language": "python",
   "name": "python3"
  },
  "language_info": {
   "codemirror_mode": {
    "name": "ipython",
    "version": 3
   },
   "file_extension": ".py",
   "mimetype": "text/x-python",
   "name": "python",
   "nbconvert_exporter": "python",
   "pygments_lexer": "ipython3",
   "version": "3.9.7"
  },
  "vscode": {
   "interpreter": {
    "hash": "da867d72de60a3e86a2b69a9a7baea090d67382d01a73f765a7401ae7e7cc0f6"
   }
  }
 },
 "nbformat": 4,
 "nbformat_minor": 4
}
