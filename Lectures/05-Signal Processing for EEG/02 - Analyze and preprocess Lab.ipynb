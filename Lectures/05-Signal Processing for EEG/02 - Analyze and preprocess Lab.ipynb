{
 "cells": [
  {
   "cell_type": "markdown",
   "metadata": {},
   "source": [
    "# Lab: Analyze and Preprocess\n",
    "\n",
    "Now that you know how to perform a basic analyze and preprocess, let's put that in the practice.\n",
    "\n",
    "Here we will use a sample from DEAP dataset, `s01.dat`.\n",
    "\n",
    "Download the sample [here](https://drive.google.com/file/d/19XbYM6WFT9L2mD5l_66mKQzHNZnhee2t/view?usp=sharing). Use your AIT account.\n",
    "\n",
    "While we wait for the file to download, here is the information about the dataset.\n",
    "\n",
    "[DEAP](https://www.eecs.qmul.ac.uk/mmv/datasets/deap/)\n",
    "\n",
    "![alt](https://www.eecs.qmul.ac.uk/mmv/datasets/deap/img/graph.png)\n",
    "\n",
    "A Database for Emotion Analysis using Physiological Signals (DEAP) consists of 32 participants/samples. The data is an EEG (and other Physiological responses) record of someone watching a video that induce certain emotion. Thus, Independent Variable (IV) is EEG and Dependent variable (DV) is Emotion. \n",
    "\n",
    "Each participant watch 40 videos. Each video is 60 seconds long. The EEG sampling rate is 128 Hz. The trial has 3 seconds pre-trial/fixation. Thus, each trial is 63 seconds and 63 $\\times$ 128 = 8064 time samples.\n",
    "\n",
    "Now, about EEG recording. Electroencephalogram (EEG) is an electrical activity of the brain which captures brain activity. We know certain part of the brain is correlated to certain function of a human. Thus, we put multiple sensor on different point of the brain. The sensor/electrode placement guide/convention is 10-20 International system.\n",
    "\n",
    "![alt](https://www.researchgate.net/publication/324361441/figure/fig1/AS:618934365597697@1524576860370/The-10-20-International-system-of-EEG-electrode-placement.png)\n",
    "\n",
    "The number of electrode and which place is used depends on the researcher/cost/experiment also the sampling rate. Thus, we have to read their document to find out which electrode placement and sampling rate is used.\n",
    "\n",
    "For this DEAP the electrode placement are the following.\n",
    "\n",
    "- 1:\tFp1\t\n",
    "- 2:\tAF3\n",
    "- 3:\tF3\n",
    "- 4:\tF7\n",
    "- 5:\tFC5\n",
    "- 6:\tFC1\n",
    "- 7:\tC3\n",
    "- 8:\tT7\n",
    "- 9:\tCP5\n",
    "- 10:\tCP1\n",
    "- 11:\tP3\n",
    "- 12:\tP7\n",
    "- 13:\tPO3\n",
    "- 14:\tO1\n",
    "- 15:\tOz\n",
    "- 16:\tPz\n",
    "- 17:\tFp2\n",
    "- 18:\tAF4\n",
    "- 19:\tFz\n",
    "- 20:\tF4\n",
    "- 21:\tF8\n",
    "- 22:\tFC6\n",
    "- 23:\tFC2\n",
    "- 24:\tCz\n",
    "- 25:\tC4\n",
    "- 26:\tT8\n",
    "- 27:\tCP6\n",
    "- 28:\tCP2\n",
    "- 29:\tP4\n",
    "- 30:\tP8\n",
    "- 31:\tPO4\n",
    "- 32:\tO2\n",
    "\n",
    "- 33:\thEOG (horizontal EOG, hEOG1 - hEOG2)\t\n",
    "- 34:\tvEOG (vertical EOG, vEOG1 - vEOG2)\n",
    "- 35:\tzEMG (Zygomaticus Major EMG, zEMG1 - zEMG2)\n",
    "- 36:\ttEMG (Trapezius EMG, tEMG1 - tEMG2)\n",
    "- 37:\tGSR (values from Twente converted to Geneva format (Ohm))\n",
    "- 38:\tRespiration belt\n",
    "- 39:\tPlethysmograph\n",
    "- 40:\tTemperature\n",
    "\n",
    "Out of 40 channels, there are 32 EEG channels.\n",
    "\n",
    "In summary, the IV has 40 videos, 40 channels, and 8064 time samples (40, 40, 8064)\n",
    "\n",
    "The DV (labels) has a shape (40, 4) which is 40 videos and 4 emotions (valence, arousal, dominance, liking)\n",
    "\n",
    "You probably are done downloading by now. Let's start coding!!!!"
   ]
  },
  {
   "cell_type": "markdown",
   "metadata": {},
   "source": [
    "<u>Objective</u>\n",
    "1. Get your hands dirty with signal analyze and preprocessing on the real dataset.\n",
    "2. Prepare data for classification using `SVM` from `sklearn`"
   ]
  },
  {
   "cell_type": "markdown",
   "metadata": {},
   "source": [
    "## Task 1\n",
    "\n",
    "Easy, move the downloaded `s01.dat` to the `dataset` folder"
   ]
  },
  {
   "cell_type": "code",
   "execution_count": 2,
   "metadata": {},
   "outputs": [
    {
     "data": {
      "text/plain": [
       "True"
      ]
     },
     "execution_count": 2,
     "metadata": {},
     "output_type": "execute_result"
    }
   ],
   "source": [
    "import os\n",
    "os.path.exists('dataset/s01.dat')"
   ]
  },
  {
   "cell_type": "markdown",
   "metadata": {},
   "source": [
    "## Task 2\n",
    "\n",
    "Read the `s01.dat` using the given function and confirmed the shape"
   ]
  },
  {
   "cell_type": "code",
   "execution_count": 4,
   "metadata": {},
   "outputs": [
    {
     "ename": "UnicodeDecodeError",
     "evalue": "'ascii' codec can't decode byte 0xd7 in position 0: ordinal not in range(128)",
     "output_type": "error",
     "traceback": [
      "\u001b[0;31m---------------------------------------------------------------------------\u001b[0m",
      "\u001b[0;31mUnicodeDecodeError\u001b[0m                        Traceback (most recent call last)",
      "\u001b[1;32m/root/projects/Lectures/05-Signal Processing for EEG/02 - Analyze and preprocess Lab.ipynb Cell 5\u001b[0m in \u001b[0;36m<cell line: 2>\u001b[0;34m()\u001b[0m\n\u001b[1;32m      <a href='vscode-notebook-cell://attached-container%2B7b22636f6e7461696e65724e616d65223a222f707974686f6e2d666f722d646174612d736369656e63652d707974686f6e2d31227d/root/projects/Lectures/05-Signal%20Processing%20for%20EEG/02%20-%20Analyze%20and%20preprocess%20Lab.ipynb#ch0000006vscode-remote?line=0'>1</a>\u001b[0m \u001b[39mimport\u001b[39;00m \u001b[39mpickle\u001b[39;00m\n\u001b[0;32m----> <a href='vscode-notebook-cell://attached-container%2B7b22636f6e7461696e65724e616d65223a222f707974686f6e2d666f722d646174612d736369656e63652d707974686f6e2d31227d/root/projects/Lectures/05-Signal%20Processing%20for%20EEG/02%20-%20Analyze%20and%20preprocess%20Lab.ipynb#ch0000006vscode-remote?line=1'>2</a>\u001b[0m x \u001b[39m=\u001b[39m pickle\u001b[39m.\u001b[39;49mload(\u001b[39mopen\u001b[39;49m(\u001b[39m'\u001b[39;49m\u001b[39mdataset/s01.dat\u001b[39;49m\u001b[39m'\u001b[39;49m, \u001b[39m'\u001b[39;49m\u001b[39mrb\u001b[39;49m\u001b[39m'\u001b[39;49m))\n",
      "\u001b[0;31mUnicodeDecodeError\u001b[0m: 'ascii' codec can't decode byte 0xd7 in position 0: ordinal not in range(128)"
     ]
    }
   ],
   "source": [
    "import pickle\n",
    "x = pickle.load(open('dataset/s01.dat', 'rb'), encoding='latin1')"
   ]
  },
  {
   "cell_type": "markdown",
   "metadata": {},
   "source": []
  }
 ],
 "metadata": {
  "kernelspec": {
   "display_name": "Python 3.8.10 ('.venv': pipenv)",
   "language": "python",
   "name": "python3"
  },
  "language_info": {
   "codemirror_mode": {
    "name": "ipython",
    "version": 3
   },
   "file_extension": ".py",
   "mimetype": "text/x-python",
   "name": "python",
   "nbconvert_exporter": "python",
   "pygments_lexer": "ipython3",
   "version": "3.8.10"
  },
  "orig_nbformat": 4,
  "vscode": {
   "interpreter": {
    "hash": "27768773b483d82a9b2b839e3fa80b1be5789db7fd78df4eedef2df266871616"
   }
  }
 },
 "nbformat": 4,
 "nbformat_minor": 2
}
