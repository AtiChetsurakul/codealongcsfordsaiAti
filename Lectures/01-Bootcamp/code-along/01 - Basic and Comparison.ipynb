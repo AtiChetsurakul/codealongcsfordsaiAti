{
 "cells": [
  {
   "cell_type": "markdown",
   "metadata": {},
   "source": [
    "# Programming for Data Science and Artificial Intelligence\n",
    "\n",
    "## 1 Introduction to Python\n",
    "\n",
    "### Readings: \n",
    "- https://docs.python.org/3/tutorial/"
   ]
  },
  {
   "cell_type": "markdown",
   "metadata": {},
   "source": [
    "### Basics"
   ]
  },
  {
   "cell_type": "markdown",
   "metadata": {},
   "source": [
    "Assigning variables.  By convention, variable names start with a lower-case letter."
   ]
  },
  {
   "cell_type": "code",
   "execution_count": 1,
   "metadata": {},
   "outputs": [],
   "source": []
  },
  {
   "cell_type": "markdown",
   "metadata": {},
   "source": [
    "Various ways to print"
   ]
  },
  {
   "cell_type": "code",
   "execution_count": 2,
   "metadata": {},
   "outputs": [
    {
     "name": "stdout",
     "output_type": "stream",
     "text": [
      "1: X with newline: \n",
      " hello\n",
      "2: X with .format: hello\n",
      "3: X using f-string with hello\n",
      "4: User/Desktop/Home\n",
      "5: Hello6: World\n",
      "7: \\n is used for newline\n",
      "8: \"Hi\n",
      "9: C style printing = 1.000000\n",
      "10: Casting with c style:  value1= 3.14. value2 = 1\n"
     ]
    }
   ],
   "source": []
  },
  {
   "cell_type": "markdown",
   "metadata": {},
   "source": [
    "Booleans"
   ]
  },
  {
   "cell_type": "code",
   "execution_count": 3,
   "metadata": {},
   "outputs": [
    {
     "name": "stdout",
     "output_type": "stream",
     "text": [
      "<class 'bool'>\n",
      "<class 'int'>\n",
      "1: Is a boolean:  True\n",
      "2: Is a2 int:  True\n",
      "4: True and False:  False\n",
      "5: True or False:  True\n",
      "6: Not False:  True\n",
      "7: Not 0:  True\n"
     ]
    }
   ],
   "source": []
  },
  {
   "cell_type": "markdown",
   "metadata": {},
   "source": [
    "Arithmetic operations"
   ]
  },
  {
   "cell_type": "code",
   "execution_count": 4,
   "metadata": {},
   "outputs": [
    {
     "name": "stdout",
     "output_type": "stream",
     "text": [
      "1: 3+3     --> 6\n",
      "2: 3/3     --> 1.0\n",
      "3: 4 // 3  --> 1\n",
      "4: 4 mod 3 --> 1\n",
      "5: 4 ^ 2   --> 16\n",
      "6: With math.  1.0\n"
     ]
    }
   ],
   "source": []
  },
  {
   "cell_type": "markdown",
   "metadata": {},
   "source": [
    "Operation between types"
   ]
  },
  {
   "cell_type": "code",
   "execution_count": 5,
   "metadata": {},
   "outputs": [
    {
     "name": "stdout",
     "output_type": "stream",
     "text": [
      "1: float + int  <class 'float'>\n",
      "2: int + int    <class 'int'>\n"
     ]
    }
   ],
   "source": []
  },
  {
   "cell_type": "markdown",
   "metadata": {},
   "source": [
    "### === Task 1 ===\n",
    "\n",
    "1. Declare two strings with value \"3\" and \"4\". Converting them to int, and then perform addition\n",
    "\n",
    "2. Declare a variable x = 10, and then print a f-string saying \"my variable x = 10\" where 10 is from the x value.\n",
    "\n",
    "3. Perform a calculation of (10 mod 4 / 2) and convert to integer\n",
    "\n",
    "4. Get input from user using input(), and then print the type of the input <br>\n",
    "Hint: https://www.geeksforgeeks.org/taking-input-in-python/\n",
    "\n",
    "5. Declare three strings: \"Chaky\", \"John\", \"Tom\", and concatenate (connect) them into \"Chaky, John, Tom\""
   ]
  },
  {
   "cell_type": "markdown",
   "metadata": {},
   "source": [
    "### Comparison"
   ]
  },
  {
   "cell_type": "markdown",
   "metadata": {},
   "source": [
    "if statement"
   ]
  },
  {
   "cell_type": "code",
   "execution_count": 6,
   "metadata": {},
   "outputs": [
    {
     "name": "stdout",
     "output_type": "stream",
     "text": [
      "3: statement1 and statement2 are False\n",
      "4: Still inside the else block!!\n",
      "5: Now outside the if block!\n"
     ]
    }
   ],
   "source": []
  },
  {
   "cell_type": "markdown",
   "metadata": {},
   "source": [
    "while statement"
   ]
  },
  {
   "cell_type": "code",
   "execution_count": 7,
   "metadata": {},
   "outputs": [
    {
     "name": "stdout",
     "output_type": "stream",
     "text": [
      "Inside while: 0\n",
      "Inside while: 1\n",
      "Inside while: 2\n",
      "Inside while: 3\n",
      "Inside while: 4\n",
      "2: done\n"
     ]
    }
   ],
   "source": []
  },
  {
   "cell_type": "markdown",
   "metadata": {},
   "source": [
    "comparison operators"
   ]
  },
  {
   "cell_type": "code",
   "execution_count": 8,
   "metadata": {},
   "outputs": [
    {
     "data": {
      "text/plain": [
       "(True, False, False, False, True, True, True, False)"
      ]
     },
     "execution_count": 8,
     "metadata": {},
     "output_type": "execute_result"
    }
   ],
   "source": []
  },
  {
   "cell_type": "markdown",
   "metadata": {},
   "source": [
    "### === Task 2 ===\n",
    "\n",
    "1. Get input from user using input().  If the number is less than 5, print \"less than\".  Otherwise, print \"higher than\". <br>\n",
    "Note: input() always returns str\n",
    "\n",
    "2. Write a simple number guessing game.  The program generates a random integer.  It then accepts input from users for a integer.  After the user input, the system outputs one of the three possible states whether the number is higher, lower or equal to the target integer.  If it is wrong, it will keep asking users for input.  Feel free to make any assumption for anything not stated."
   ]
  }
 ],
 "metadata": {
  "kernelspec": {
   "display_name": "Python 3.8.6 ('teaching_env')",
   "language": "python",
   "name": "python3"
  },
  "language_info": {
   "codemirror_mode": {
    "name": "ipython",
    "version": 3
   },
   "file_extension": ".py",
   "mimetype": "text/x-python",
   "name": "python",
   "nbconvert_exporter": "python",
   "pygments_lexer": "ipython3",
   "version": "3.8.6"
  },
  "vscode": {
   "interpreter": {
    "hash": "becc4c8e5ad229b2591d820334d85e3db0111492344629bf57f272470dce75a5"
   }
  }
 },
 "nbformat": 4,
 "nbformat_minor": 4
}
