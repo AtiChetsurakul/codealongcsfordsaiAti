{
 "cells": [
  {
   "cell_type": "markdown",
   "metadata": {},
   "source": [
    "# Programming for Data Science and Artificial Intelligence"
   ]
  },
  {
   "cell_type": "markdown",
   "metadata": {},
   "source": [
    "### Tuples"
   ]
  },
  {
   "cell_type": "markdown",
   "metadata": {},
   "source": [
    "Tuples are like lists, except that they cannot be modified once created, that is they are *immutable*. \n",
    "\n",
    "1. You can't add to tuples, so no extend or append\n",
    "2. You can't remove or insert, so no insert, remove, pop\n",
    "3. You can find, thus \"in\"  or indexing can be used\n",
    "4. Tuples are much faster than list\n",
    "\n",
    "*Make sense* to use tuples for write-protected data\n",
    "\n",
    "In Python, tuples are created using the syntax `(..., ..., ...)`, or even `..., ...`:"
   ]
  },
  {
   "cell_type": "markdown",
   "metadata": {},
   "source": [
    "Creating tuples"
   ]
  },
  {
   "cell_type": "code",
   "execution_count": null,
   "metadata": {},
   "outputs": [],
   "source": []
  },
  {
   "cell_type": "markdown",
   "metadata": {},
   "source": [
    "Unpacking tuples"
   ]
  },
  {
   "cell_type": "code",
   "execution_count": null,
   "metadata": {},
   "outputs": [],
   "source": []
  },
  {
   "cell_type": "markdown",
   "metadata": {},
   "source": [
    "Cannot change"
   ]
  },
  {
   "cell_type": "code",
   "execution_count": 4,
   "metadata": {},
   "outputs": [],
   "source": [
    "#point[0] = 20 #errors"
   ]
  },
  {
   "cell_type": "markdown",
   "metadata": {},
   "source": [
    "### Dictionaries"
   ]
  },
  {
   "cell_type": "markdown",
   "metadata": {},
   "source": [
    "Dictionaries are also like lists, except that each element is a key-value pair. The syntax for dictionaries is `{key1 : value1, ...}`:"
   ]
  },
  {
   "cell_type": "markdown",
   "metadata": {},
   "source": [
    "Creating"
   ]
  },
  {
   "cell_type": "code",
   "execution_count": null,
   "metadata": {},
   "outputs": [],
   "source": []
  },
  {
   "cell_type": "markdown",
   "metadata": {},
   "source": [
    "Accessing"
   ]
  },
  {
   "cell_type": "code",
   "execution_count": null,
   "metadata": {},
   "outputs": [],
   "source": []
  },
  {
   "cell_type": "markdown",
   "metadata": {},
   "source": [
    "Adding new key and value"
   ]
  },
  {
   "cell_type": "code",
   "execution_count": null,
   "metadata": {},
   "outputs": [],
   "source": []
  },
  {
   "cell_type": "markdown",
   "metadata": {},
   "source": [
    "Looping in dictionary"
   ]
  },
  {
   "cell_type": "code",
   "execution_count": null,
   "metadata": {},
   "outputs": [],
   "source": []
  },
  {
   "cell_type": "markdown",
   "metadata": {},
   "source": [
    "### Set\n",
    "\n",
    "Remember Set from high school? Python has the datatype for that.\n",
    " \n",
    "Recall to the characteristic of set, it has *no order* and *no duplication*."
   ]
  },
  {
   "cell_type": "code",
   "execution_count": null,
   "metadata": {},
   "outputs": [],
   "source": []
  },
  {
   "cell_type": "code",
   "execution_count": null,
   "metadata": {},
   "outputs": [],
   "source": []
  },
  {
   "cell_type": "markdown",
   "metadata": {},
   "source": [
    "### Python Collections (Arrays)\n",
    "Here we completed all four basic collections in Python. The differences are as below\n",
    "\n",
    "[quote](https://www.w3schools.com/python/python_sets.asp)\n",
    ">- **List** is a collection which is ordered and changeable. Allows duplicate members.\n",
    ">- **Tuple** is a collection which is ordered and unchangeable. Allows duplicate members.\n",
    ">- **Set** is a collection which is unordered, unchangeable*, and unindexed. No duplicate members.\n",
    ">- **Dictionary** is a collection which is ordered** and changeable. No duplicate members.\n",
    "\n",
    "Can you use them interchangeably? Can you use `List` instead of `Set`? Well, if you try hard enough, you can. \n",
    "\n",
    "Remember, you can use a spoon to build a house, but why don't you use a hammer?\n",
    "\n",
    "Most likely, you don't know what is a hammer in the first place. That is why we should learn all the tools first, and later we can pick the suitable tool for the task."
   ]
  },
  {
   "cell_type": "markdown",
   "metadata": {},
   "source": [
    "### === Task 4 ===\n",
    "\n",
    "1. Create a tuple variable containing a person age, gender, and height, and then attempt to print the gender of the tuple variable.\n",
    "2. Create a dictionary of your age, name, gender, ID number.  Loop the dictionary and print the key - value.\n",
    "3. With a given integral number n, write a program to generate a dictionary that contains (i, i*i) such that is an integral number between 1 and n (both included). and then the program should print the dictionary. Suppose the following input is supplied to the program:\n",
    "\n",
    "        8\n",
    "    \n",
    "Then, the output should be:\n",
    "    \n",
    "        {1: 1, 2: 4, 3: 9, 4: 16, 5: 25, 6: 36, 7: 49, 8: 64}\n",
    "\n",
    "4. You are required to write a program to sort the (name, age, height) tuples by ascending order where name is string, age and height are numbers. The sort criteria is:\n",
    "\n",
    "- Sort based on name;\n",
    "- Then sort based on age;\n",
    "- Then sort by score.\n",
    "    \n",
    "The priority is that name > age > score. If the following tuples are given as input to the program:\n",
    "        \n",
    "        Tom,19,80\n",
    "        John,20,90\n",
    "        Jony,17,91\n",
    "        Jony,17,93\n",
    "        Json,21,85\n",
    "\n",
    "Then, the output of the program should be:\n",
    "\n",
    "        [('John', '20', '90'), ('Jony', '17', '91'), ('Jony', '17', '93'), ('Json', '21', '85'), ('Tom', '19', '80')]\n",
    "\n",
    "Hints: Use itemgetter to enable multiple sort keys.  In addition, sorted takes a argument called key.  Thus you can do sorted(the_tuple, key = itemgetter(0,1,2)), where 0, 1, 2 corresponds to name, age, height\n",
    "\n",
    "5. Write a function that accepts the following arguments\n",
    "- name, and age, where name is keyword argument with default of \"N/A\" two keyword arguments (i.e., default)\n",
    "- list of family salary where the length is unknown (e.g., 20000, 30000, 10000).  Then length is unknown is due to the fact that we never know the size of any family ahead.  Hint: Use `*args`\n",
    "- a dict of kids and their school name Peter = 'Saint Peter\", John = 'Pattaya International School'}.  Again, this size is unknown.  Hint: Use `*kwargs`\n",
    "\n",
    "Print all info in any preferred format.\n",
    "\n",
    "Supposed\n",
    "    \n",
    "`some_func(30, 30000, 40000, name='Chaky', John=\"some_school\", Peter=\"another_school\")`\n",
    "\n",
    "should print\n",
    "    \n",
    "            Chaky has age of 30 with family salary of 70000\n",
    "            The school of John is some_school\n",
    "            The school of Peter is another_school\n",
    "\n",
    "Some info: when working with multiple type of arguments, it is important to keep the order of arguments as follow, otherwise, you will receive a syntax error\n",
    "    \n",
    "`def example2(arg_1, arg_2, *args, kw_1=\"something\", kw_2=\"something\", **kwargs)`\n",
    "\n",
    "where arg_1 and 2 are normal arguments, `*args` are variable-length argument, kw_1 and 2 are keyword arguments, and `*kwargs` are dict variable length argument"
   ]
  }
 ],
 "metadata": {
  "kernelspec": {
   "display_name": "Python 3.8.6 ('teaching_env')",
   "language": "python",
   "name": "python3"
  },
  "language_info": {
   "codemirror_mode": {
    "name": "ipython",
    "version": 3
   },
   "file_extension": ".py",
   "mimetype": "text/x-python",
   "name": "python",
   "nbconvert_exporter": "python",
   "pygments_lexer": "ipython3",
   "version": "3.8.6"
  },
  "vscode": {
   "interpreter": {
    "hash": "becc4c8e5ad229b2591d820334d85e3db0111492344629bf57f272470dce75a5"
   }
  }
 },
 "nbformat": 4,
 "nbformat_minor": 4
}
