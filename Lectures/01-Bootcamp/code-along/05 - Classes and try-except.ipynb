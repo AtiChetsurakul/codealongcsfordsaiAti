{
 "cells": [
  {
   "cell_type": "markdown",
   "metadata": {},
   "source": [
    "# Programming for Data Science and Artificial Intelligence"
   ]
  },
  {
   "cell_type": "markdown",
   "metadata": {},
   "source": [
    "### Classes"
   ]
  },
  {
   "cell_type": "markdown",
   "metadata": {},
   "source": [
    "Classes are the key features of object-oriented programming. A class is a structure for representing an object and the operations that can be performed on the object. \n",
    "\n",
    "In Python a class can contain *attributes* (variables) and *methods* (functions).\n",
    "\n",
    "A class is defined almost like a function, but using the `class` keyword, and the class definition usually contains a number of class method definitions (a function in a class).\n",
    "\n",
    "* **Each class method should have an argument `self` as it first argument. This object is a self-reference.**\n",
    "\n",
    "* Some class method names have special meaning, for example:\n",
    "\n",
    "    * `__init__`: The name of the method that is invoked when the object is first created.\n",
    "    * `__str__` : A method that is invoked when a simple string representation of the class is needed, as for example when printed.\n",
    "    * There are many more, see http://docs.python.org/2/reference/datamodel.html#special-method-names\n",
    "    * https://www.youtube.com/watch?v=rJzjDszODTI"
   ]
  },
  {
   "cell_type": "code",
   "execution_count": null,
   "metadata": {},
   "outputs": [],
   "source": []
  },
  {
   "cell_type": "markdown",
   "metadata": {},
   "source": [
    "To create a new instance of a class:"
   ]
  },
  {
   "cell_type": "code",
   "execution_count": null,
   "metadata": {},
   "outputs": [],
   "source": []
  },
  {
   "cell_type": "markdown",
   "metadata": {},
   "source": [
    "To invoke a class method in the class instance `p`:"
   ]
  },
  {
   "cell_type": "code",
   "execution_count": null,
   "metadata": {},
   "outputs": [],
   "source": []
  },
  {
   "cell_type": "markdown",
   "metadata": {},
   "source": [
    "Another example"
   ]
  },
  {
   "cell_type": "code",
   "execution_count": null,
   "metadata": {},
   "outputs": [],
   "source": []
  },
  {
   "cell_type": "markdown",
   "metadata": {},
   "source": [
    "### === Task 6 ===\n",
    "\n",
    "1. Create a class called `class rectangle()`. This class includes the following functions:\n",
    "\n",
    "- `__init__()` where height and width of your rectangle are initiated. \n",
    "- `setHeight()` and `setWidth()` which allow you to change height and width of your rectangle.\n",
    "- `getArea()` where the area of your rectangle is returned."
   ]
  },
  {
   "cell_type": "markdown",
   "metadata": {},
   "source": [
    "### Try/Except\n",
    "Every programming language has a form of Error handling.\n",
    "\n",
    "[link](https://www.section.io/engineering-education/exceptions-and-error/)\n",
    "\n",
    "What is Error?\n",
    "\n",
    "Here are they."
   ]
  },
  {
   "cell_type": "markdown",
   "metadata": {},
   "source": [
    "#### Error"
   ]
  },
  {
   "cell_type": "code",
   "execution_count": null,
   "metadata": {},
   "outputs": [],
   "source": []
  },
  {
   "cell_type": "code",
   "execution_count": null,
   "metadata": {},
   "outputs": [],
   "source": []
  },
  {
   "cell_type": "code",
   "execution_count": null,
   "metadata": {},
   "outputs": [],
   "source": []
  },
  {
   "cell_type": "markdown",
   "metadata": {},
   "source": [
    "Look closer to the Error. It consists of two sections. (1) Traceback and (2) Message\n",
    "\n",
    "Imagine a code is executing. It executes from top to bottom. If thing runs smoothly, that is happy ending. However, if computer/interpreter facing an unexpected event, what should it do?\n",
    "\n",
    "Imagine you are asked by your mom to go shopping for 1 Kg of tomatoes. Your mom gives you 100 baht to do so. At the time you have arrived the store, the 1 Kg of tomatoes is actually costing 200 baht. Oh no, it does not go as expected. What should you do? (1) you could assume that a 0.5 Kg should be fine and risk that your mom might get upset later when she knows you do not deliver what she wants. Or (2) you could call your mom and tell her what went wrong in the process.\n",
    "\n",
    "The second option is the same as Error message. The computer wants to tell you something went wrong (Error message) and try to explain what happened (Traceback).\n",
    "\n",
    "The above errors I showed you are easy to fix. Once fixed, it most likely never occur again. So did we handle errors yet? Yes and no.\n",
    "\n",
    "Before we understand why, let's see where does these errors come from."
   ]
  },
  {
   "cell_type": "code",
   "execution_count": null,
   "metadata": {},
   "outputs": [],
   "source": []
  },
  {
   "cell_type": "markdown",
   "metadata": {},
   "source": [
    "At some point of the execution, someone writes this, `raise`. This follow by the type of error with error message is causing the red text. This `raise` will stop all the execution and report immediately."
   ]
  },
  {
   "cell_type": "code",
   "execution_count": null,
   "metadata": {},
   "outputs": [],
   "source": []
  },
  {
   "cell_type": "markdown",
   "metadata": {},
   "source": [
    "Facing an error at development phase is fine. It does not affect anything but you, the coder. However, when error happens, the program stops running. This mean every time something goes wrong, the computer will seek your attention.\n",
    "\n",
    "To prevent the code from stop running, we use Try/Except"
   ]
  },
  {
   "cell_type": "code",
   "execution_count": null,
   "metadata": {},
   "outputs": [],
   "source": []
  },
  {
   "cell_type": "markdown",
   "metadata": {},
   "source": [
    "In the above scenario, I use try/except to fix the error during run time. Sure, you can write if/else to check whether you have enough money before buying tomatoes.\n",
    "\n",
    "Here is the equivalent (sort of) piece of code."
   ]
  },
  {
   "cell_type": "code",
   "execution_count": null,
   "metadata": {},
   "outputs": [],
   "source": []
  },
  {
   "cell_type": "markdown",
   "metadata": {},
   "source": [
    "You can always use if/else to pre-handle the error and prevent it from happening. Which is doable. However, to me there are drawbacks.\n",
    "\n",
    "1. Your code will have a hundred of if/else which reduce the readability of your code. When you see a section of if/else, is it a part of business logic or error handling.\n",
    "2. You will never prevent every possible errors.\n",
    "\n",
    "What if there is no tomato? In the try/except you can except *any* error\n",
    "\n",
    "Before that, I will encapsulate the purchasing function for the code to look sensible."
   ]
  },
  {
   "cell_type": "code",
   "execution_count": null,
   "metadata": {},
   "outputs": [],
   "source": []
  },
  {
   "cell_type": "code",
   "execution_count": null,
   "metadata": {},
   "outputs": [],
   "source": []
  },
  {
   "cell_type": "markdown",
   "metadata": {},
   "source": [
    "The `Exception` is the root of all exception/error in Python. \n",
    "\n",
    "![alt](https://www.section.io/engineering-education/exceptions-and-error/exception_hierarchy.png)"
   ]
  },
  {
   "cell_type": "code",
   "execution_count": null,
   "metadata": {},
   "outputs": [],
   "source": []
  },
  {
   "cell_type": "code",
   "execution_count": null,
   "metadata": {},
   "outputs": [],
   "source": []
  },
  {
   "cell_type": "markdown",
   "metadata": {},
   "source": [
    "In some events, there might be an action that is required no matter what. For instance, if you open a file for read and write then the file have to be close at the end no matter what.\n",
    "\n",
    "In this shopping scenario, you have to go home with or without the tomatoes. To do that, we use `finally`."
   ]
  },
  {
   "cell_type": "code",
   "execution_count": null,
   "metadata": {},
   "outputs": [],
   "source": []
  },
  {
   "cell_type": "markdown",
   "metadata": {},
   "source": [
    "Now, you ask. It is always 'happy ending' this mean we don't need `finally` to ensure code execution, right?\n",
    "\n",
    "Then, what happen if you call your mon, and she says no money for you."
   ]
  },
  {
   "cell_type": "code",
   "execution_count": null,
   "metadata": {},
   "outputs": [],
   "source": []
  },
  {
   "cell_type": "markdown",
   "metadata": {},
   "source": [
    "You see, this is not a happy ending because you don't get the money. Therefore, no tomato.\n",
    "\n",
    "But no matter what happen, you go home.\n",
    "\n",
    "Lastly, `else` is used when thing goes smoothly"
   ]
  },
  {
   "cell_type": "code",
   "execution_count": null,
   "metadata": {},
   "outputs": [],
   "source": []
  },
  {
   "cell_type": "markdown",
   "metadata": {},
   "source": [
    "Honestly, I just know there is `else` in `try/except` of Python, and I could not think of how does it really make sense. But then I remember what does `try/except` help for me.\n",
    "\n",
    "`try/except` helps me to read and understand what line does what. If you know all the convention then you don't really need to read my comment. There is less time to figure out what is happening here.\n",
    "\n",
    "In this sense, `try` block is used when this code or section of codes is likely to have an error. `except _ as e` is what the coder knew at the time of writing the code. `except` is usually used for logging information in the production. `finally` is what needed to run no matter what. And, `else` is when try is success and should not have any error anymore or if it does, write another `try/except`."
   ]
  },
  {
   "cell_type": "markdown",
   "metadata": {},
   "source": [
    "### === Task 7 ===\n",
    "\n",
    "1. Write a function to compute 5/0 and use `try/except` to catch the exceptions."
   ]
  },
  {
   "cell_type": "markdown",
   "metadata": {},
   "source": [
    "# Happy Ending"
   ]
  },
  {
   "cell_type": "markdown",
   "metadata": {},
   "source": [
    "Finally, it does not mean that without function, class, and try-except, you can not write a workable code. Because, in the end, what user sees is the output not the code, if the code suck, but it works, it works. \n",
    "\n",
    "But will your project scalable? Will it be easy to debug? Will your teammate be happy to fix your code?\n",
    "\n",
    "Writing a good code is not a must but should. Just like you don't need to be polite, but you should. "
   ]
  }
 ],
 "metadata": {
  "kernelspec": {
   "display_name": "Python 3.8.6 ('teaching_env')",
   "language": "python",
   "name": "python3"
  },
  "language_info": {
   "codemirror_mode": {
    "name": "ipython",
    "version": 3
   },
   "file_extension": ".py",
   "mimetype": "text/x-python",
   "name": "python",
   "nbconvert_exporter": "python",
   "pygments_lexer": "ipython3",
   "version": "3.8.6"
  },
  "vscode": {
   "interpreter": {
    "hash": "becc4c8e5ad229b2591d820334d85e3db0111492344629bf57f272470dce75a5"
   }
  }
 },
 "nbformat": 4,
 "nbformat_minor": 4
}
