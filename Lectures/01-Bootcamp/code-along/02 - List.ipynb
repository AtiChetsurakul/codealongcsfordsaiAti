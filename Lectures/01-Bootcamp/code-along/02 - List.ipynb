{
 "cells": [
  {
   "cell_type": "markdown",
   "metadata": {},
   "source": [
    "# Programming for Data Science and Artificial Intelligence"
   ]
  },
  {
   "cell_type": "markdown",
   "metadata": {},
   "source": [
    "### List"
   ]
  },
  {
   "cell_type": "markdown",
   "metadata": {},
   "source": [
    "String as list"
   ]
  },
  {
   "cell_type": "code",
   "execution_count": 9,
   "metadata": {},
   "outputs": [
    {
     "name": "stdout",
     "output_type": "stream",
     "text": [
      "1: Length:       13\n",
      "2: string[0]:    S\n",
      "3: string[0:2]:  St\n",
      "4: string[:3]:   Str\n",
      "5: string[3:]:   ing is fun\n",
      "6: string[:]:    String is fun\n",
      "7: string[-2:]:  un\n",
      "8: string[-0:]:  String is fun\n",
      "9: string[::2]:  Srn sfn\n",
      "10: string[1::2]:  Srn\n",
      "11: Replace ing with ange:  Strange is fun\n"
     ]
    }
   ],
   "source": []
  },
  {
   "cell_type": "markdown",
   "metadata": {},
   "source": [
    "Making list"
   ]
  },
  {
   "cell_type": "code",
   "execution_count": 10,
   "metadata": {},
   "outputs": [
    {
     "name": "stdout",
     "output_type": "stream",
     "text": [
      "1: Range            [0, 1, 2, 3, 4, 5, 6, 7, 8, 9]\n",
      "2: With step 2      [1, 3, 5, 7, 9]\n",
      "3: With start -10:  [-5, -4, -3, -2, -1, 0, 1, 2, 3, 4]\n",
      "4: 5 zeros:  [0, 0, 0, 0, 0]\n"
     ]
    }
   ],
   "source": []
  },
  {
   "cell_type": "markdown",
   "metadata": {},
   "source": [
    "Changing elements in the list"
   ]
  },
  {
   "cell_type": "code",
   "execution_count": 11,
   "metadata": {},
   "outputs": [
    {
     "name": "stdout",
     "output_type": "stream",
     "text": [
      "1: Changing value at index 0 to 0:  [0, 2, 3]\n",
      "2: Changing using slicing method:  [5, 6, 3]\n"
     ]
    }
   ],
   "source": []
  },
  {
   "cell_type": "markdown",
   "metadata": {},
   "source": [
    "Appending and extending"
   ]
  },
  {
   "cell_type": "code",
   "execution_count": 12,
   "metadata": {},
   "outputs": [
    {
     "name": "stdout",
     "output_type": "stream",
     "text": [
      "1: A append b [1, 2, [3]]\n",
      "2: A extend b [1, 2, [3], 3]\n",
      "3: A append c [1, 2, [3], 3, 3]\n"
     ]
    }
   ],
   "source": []
  },
  {
   "cell_type": "markdown",
   "metadata": {},
   "source": [
    "Sorting"
   ]
  },
  {
   "cell_type": "code",
   "execution_count": 13,
   "metadata": {},
   "outputs": [
    {
     "name": "stdout",
     "output_type": "stream",
     "text": [
      "1: Sorted [3, 19, 5]:  [3, 5, 19]\n",
      "2: Sorted ['Car', 'Apple', 'Boy']:  ['Apple', 'Boy', 'Car']\n",
      "3: Reverse:  None ['Car', 'Boy', 'Apple']\n"
     ]
    }
   ],
   "source": []
  },
  {
   "cell_type": "markdown",
   "metadata": {},
   "source": [
    "Checking presence"
   ]
  },
  {
   "cell_type": "code",
   "execution_count": 14,
   "metadata": {},
   "outputs": [
    {
     "name": "stdout",
     "output_type": "stream",
     "text": [
      "1: 3 in a? True\n",
      "2: 4 in a? False\n"
     ]
    }
   ],
   "source": []
  },
  {
   "cell_type": "markdown",
   "metadata": {},
   "source": [
    "Looping list"
   ]
  },
  {
   "cell_type": "code",
   "execution_count": 15,
   "metadata": {},
   "outputs": [
    {
     "name": "stdout",
     "output_type": "stream",
     "text": [
      "1: I:  0\n",
      "1: I:  1\n",
      "1: I:  2\n",
      "2: 8\n",
      "2: 9\n",
      "2: 10\n",
      "3: 8\n",
      "3: 9\n",
      "3: 10\n",
      "4: Index: 0; value: 8\n",
      "4: Index: 1; value: 9\n",
      "4: Index: 2; value: 10\n"
     ]
    }
   ],
   "source": []
  },
  {
   "cell_type": "markdown",
   "metadata": {},
   "source": [
    "Set in list"
   ]
  },
  {
   "cell_type": "code",
   "execution_count": 16,
   "metadata": {},
   "outputs": [
    {
     "name": "stdout",
     "output_type": "stream",
     "text": [
      "1: Set a - i.e., no duplicates:  {'Bulbasaur', 'Squirtle', 'Charmander'}\n",
      "2: Set intersection:  {'Squirtle'}\n",
      "3: Set a - b:  {'Bulbasaur', 'Charmander'}\n",
      "4: Set b - a:  {'Pidgey', 'Caterpie'}\n",
      "5: Set (a-b) + (b-a):  {'Pidgey', 'Charmander', 'Caterpie', 'Bulbasaur'}\n",
      "6: Set (a-b) + (b-a):  {'Pidgey', 'Charmander', 'Caterpie', 'Bulbasaur'}\n",
      "7: Set a U b {'Pidgey', 'Caterpie', 'Charmander', 'Bulbasaur', 'Squirtle'}\n"
     ]
    }
   ],
   "source": []
  },
  {
   "cell_type": "markdown",
   "metadata": {},
   "source": [
    "Randomization in list"
   ]
  },
  {
   "cell_type": "code",
   "execution_count": 17,
   "metadata": {},
   "outputs": [
    {
     "name": "stdout",
     "output_type": "stream",
     "text": [
      "1: Some random list:  [2, 4, 1, 4, 10, 3, 6, 6, 1, 8]\n",
      "2: Suffled list:  [0, 3, 4, 9, 5, 2, 8, 7, 1, 6]\n",
      "3: Sampled three elements from a list:  [6, 5, 0]\n",
      "4: Choose one element randomly from a list:  4\n",
      "5: Random choice to put in your algorithm:  apple\n"
     ]
    }
   ],
   "source": []
  },
  {
   "cell_type": "markdown",
   "metadata": {},
   "source": [
    "Itertools library"
   ]
  },
  {
   "cell_type": "code",
   "execution_count": 18,
   "metadata": {},
   "outputs": [
    {
     "name": "stdout",
     "output_type": "stream",
     "text": [
      "1: All possible permuations:  [('1', '2', '3'), ('1', '3', '2'), ('2', '1', '3'), ('2', '3', '1'), ('3', '1', '2'), ('3', '2', '1')]\n",
      "2: All possible pairs, ordered-sensitive:  [('1', '2'), ('1', '3'), ('2', '1'), ('2', '3'), ('3', '1'), ('3', '2')]\n",
      "3: All possible pairs, not ordered-sensitive:  [('1', '2'), ('1', '3'), ('2', '3')]\n"
     ]
    }
   ],
   "source": []
  },
  {
   "cell_type": "markdown",
   "metadata": {},
   "source": [
    "List comprehension"
   ]
  },
  {
   "cell_type": "code",
   "execution_count": 19,
   "metadata": {
    "scrolled": true
   },
   "outputs": [
    {
     "name": "stdout",
     "output_type": "stream",
     "text": [
      "1: [2, 3, 4]\n",
      "2: [3, 4, 5]\n"
     ]
    }
   ],
   "source": []
  },
  {
   "cell_type": "markdown",
   "metadata": {},
   "source": [
    "Nested list"
   ]
  },
  {
   "cell_type": "code",
   "execution_count": 20,
   "metadata": {},
   "outputs": [
    {
     "name": "stdout",
     "output_type": "stream",
     "text": [
      "1: L1:  [1, [2, 3], [4, 5], [[6, 7], 8]]\n",
      "2: Length of L1:  4\n",
      "3: l1[3][1]:  8\n"
     ]
    }
   ],
   "source": []
  },
  {
   "cell_type": "markdown",
   "metadata": {},
   "source": [
    "### === Task 3 ===\n",
    "\n",
    "1. Declare a string \"Python is cool\".  Get the first 6 letters \"Python\".\n",
    "\n",
    "2. Similarly, print the last 4 letters \"cool\".\n",
    "\n",
    "3. Print the \"is\"\n",
    "\n",
    "4. Declare a string \"Malkahc\".  Print them reversely.\n",
    "\n",
    "5. Declare a string \"dffdfPkyktkhkokn\".  Print by skipping \"dffdf\", and then from that index onward, skip the even letters, i.e., the \"k\".  It should print \"Python\"\n",
    "\n",
    "6. Generate a list from 0 to 9\n",
    "\n",
    "7. Generate a list from 1 to 9 \n",
    "\n",
    "8. Generate a list from -9 to 9 skipping even numbers\n",
    "\n",
    "9. Continuing, append value 10 to list\n",
    "\n",
    "10. Continuing, check the index of value -1\n",
    "\n",
    "11. Continuing, check the length of list\n",
    "\n",
    "12. Continuing, remove the value 10\n",
    "\n",
    "13. Continuing, remove whatever value at index 5\n",
    "\n",
    "14. Continuing, check whether value -20 is in the list\n",
    "\n",
    "15. Continuing, shuffle the list, and then perform sort()\n",
    "\n",
    "16. Continuing, print all the values of the list by looping them\n",
    "\n",
    "17. Continuing, randomly choose one value from the list\n",
    "\n",
    "18. Continuing, print all the posible paired-permutations\n",
    "\n",
    "19. Continuing, using list comprehension, add 1 to all value in the list\n",
    "\n",
    "20. Continuing, using a for loop and enumerate, print the value in the list, as well as their index\n",
    "\n",
    "21. Create two list of length 3. One list contains your friends name, and another list contains their makeup ID number.  Using zip, print the name along the ID number\n",
    "\n",
    "22. Create a list containing [1, 1, 2, 2].  Using set, print the unique values.  Then print the length of this unique set.\n",
    "\n",
    "23. See below code.  Print only the eeg signal and event separately from this nested list using (1) for loop, (2) list comprehension\n",
    "\n",
    "24. Continuing, print only the eeg signal with event = 2 using list comprehension"
   ]
  },
  {
   "cell_type": "code",
   "execution_count": 21,
   "metadata": {},
   "outputs": [
    {
     "name": "stdout",
     "output_type": "stream",
     "text": [
      "EEG signal:  [[[8, 9], 1], [[3, 3], 2], [[2, 3], 2]]\n"
     ]
    }
   ],
   "source": [
    "two_channel_eeg_signal1 = [8, 9]\n",
    "event1 = 1\n",
    "two_channel_eeg_signal2 = [3, 3]\n",
    "event2 = 2\n",
    "two_channel_eeg_signal3 = [2, 3]\n",
    "event3 = 2\n",
    "some_nested_list = []\n",
    "some_nested_list.append([two_channel_eeg_signal1, event1])\n",
    "some_nested_list.append([two_channel_eeg_signal2, event2])\n",
    "some_nested_list.append([two_channel_eeg_signal3, event3])\n",
    "print(\"EEG signal: \", some_nested_list)"
   ]
  }
 ],
 "metadata": {
  "kernelspec": {
   "display_name": "Python 3.8.10 ('.venv': pipenv)",
   "language": "python",
   "name": "python3"
  },
  "language_info": {
   "codemirror_mode": {
    "name": "ipython",
    "version": 3
   },
   "file_extension": ".py",
   "mimetype": "text/x-python",
   "name": "python",
   "nbconvert_exporter": "python",
   "pygments_lexer": "ipython3",
   "version": "3.8.10"
  },
  "vscode": {
   "interpreter": {
    "hash": "27768773b483d82a9b2b839e3fa80b1be5789db7fd78df4eedef2df266871616"
   }
  }
 },
 "nbformat": 4,
 "nbformat_minor": 4
}
