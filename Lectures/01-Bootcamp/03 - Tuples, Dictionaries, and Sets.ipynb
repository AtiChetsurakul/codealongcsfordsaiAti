{
 "cells": [
  {
   "cell_type": "markdown",
   "metadata": {},
   "source": [
    "# Programming for Data Science and Artificial Intelligence"
   ]
  },
  {
   "cell_type": "markdown",
   "metadata": {},
   "source": [
    "### Tuples"
   ]
  },
  {
   "cell_type": "markdown",
   "metadata": {},
   "source": [
    "Tuples are like lists, except that they cannot be modified once created, that is they are *immutable*. \n",
    "\n",
    "1. You can't add to tuples, so no extend or append\n",
    "2. You can't remove or insert, so no insert, remove, pop\n",
    "3. You can find, thus \"in\"  or indexing can be used\n",
    "4. Tuples are much faster than list\n",
    "\n",
    "*Make sense* to use tuples for write-protected data\n",
    "\n",
    "In Python, tuples are created using the syntax `(..., ..., ...)`, or even `..., ...`:"
   ]
  },
  {
   "cell_type": "markdown",
   "metadata": {},
   "source": [
    "Creating tuples"
   ]
  },
  {
   "cell_type": "code",
   "execution_count": 22,
   "metadata": {},
   "outputs": [
    {
     "name": "stdout",
     "output_type": "stream",
     "text": [
      "1:  (10, 20) <class 'tuple'>\n",
      "2:  (10, 20) <class 'tuple'>\n"
     ]
    }
   ],
   "source": [
    "point  = (10, 20)\n",
    "point2 = 10, 20\n",
    "print(\"1: \", point, type(point))\n",
    "print(\"2: \", point2, type(point2))"
   ]
  },
  {
   "cell_type": "markdown",
   "metadata": {},
   "source": [
    "Unpacking tuples"
   ]
  },
  {
   "cell_type": "code",
   "execution_count": 23,
   "metadata": {},
   "outputs": [
    {
     "name": "stdout",
     "output_type": "stream",
     "text": [
      "1: x = 10\n",
      "2: y = 20\n"
     ]
    }
   ],
   "source": [
    "x, y = point\n",
    "print(\"1: x =\", x)\n",
    "print(\"2: y =\", y)"
   ]
  },
  {
   "cell_type": "markdown",
   "metadata": {},
   "source": [
    "Cannot change"
   ]
  },
  {
   "cell_type": "code",
   "execution_count": 24,
   "metadata": {},
   "outputs": [],
   "source": [
    "#point[0] = 20 #errors"
   ]
  },
  {
   "cell_type": "markdown",
   "metadata": {},
   "source": [
    "### Dictionaries"
   ]
  },
  {
   "cell_type": "markdown",
   "metadata": {},
   "source": [
    "Dictionaries are also like lists, except that each element is a key-value pair. The syntax for dictionaries is `{key1 : value1, ...}`:"
   ]
  },
  {
   "cell_type": "markdown",
   "metadata": {},
   "source": [
    "Creating"
   ]
  },
  {
   "cell_type": "code",
   "execution_count": 25,
   "metadata": {},
   "outputs": [
    {
     "name": "stdout",
     "output_type": "stream",
     "text": [
      "1:  <class 'dict'>\n",
      "2:  {'Pineapple': 12, 'Orange': 10, 'Apple': 15}\n"
     ]
    }
   ],
   "source": [
    "some_dict = {\"Pineapple\" : 12,\n",
    "          \"Orange\" : 10,\n",
    "          \"Apple\" : 15,}\n",
    "\n",
    "print(\"1: \", type(some_dict))\n",
    "print(\"2: \", some_dict)"
   ]
  },
  {
   "cell_type": "markdown",
   "metadata": {},
   "source": [
    "Accessing"
   ]
  },
  {
   "cell_type": "code",
   "execution_count": 26,
   "metadata": {},
   "outputs": [
    {
     "name": "stdout",
     "output_type": "stream",
     "text": [
      "1: Pineapple = 12\n",
      "2: Orange = 10\n",
      "3: Apple = 15\n"
     ]
    }
   ],
   "source": [
    "print(\"1: Pineapple = \" + str(some_dict[\"Pineapple\"]))\n",
    "print(\"2: Orange = \" + str(some_dict[\"Orange\"]))\n",
    "print(\"3: Apple = \" + str(some_dict[\"Apple\"]))"
   ]
  },
  {
   "cell_type": "markdown",
   "metadata": {},
   "source": [
    "Adding new key and value"
   ]
  },
  {
   "cell_type": "code",
   "execution_count": 27,
   "metadata": {},
   "outputs": [],
   "source": [
    "some_dict[\"Durian\"] = 50"
   ]
  },
  {
   "cell_type": "markdown",
   "metadata": {},
   "source": [
    "Looping in dictionary"
   ]
  },
  {
   "cell_type": "code",
   "execution_count": 28,
   "metadata": {},
   "outputs": [
    {
     "name": "stdout",
     "output_type": "stream",
     "text": [
      "1: Pineapple = 12\n",
      "1: Orange = 10\n",
      "1: Apple = 15\n",
      "1: Durian = 50\n",
      "2: Pineapple 12\n",
      "2: Orange 10\n",
      "2: Apple 15\n",
      "2: Durian 50\n",
      "3: Apple 15\n",
      "3: Durian 50\n",
      "3: Orange 10\n",
      "3: Pineapple 12\n",
      "4: 0 Pineapple 12\n",
      "4: 1 Orange 10\n",
      "4: 2 Apple 15\n",
      "4: 3 Durian 50\n"
     ]
    }
   ],
   "source": [
    "for key in some_dict:\n",
    "    print(\"1:\", key + \" = \" + str(some_dict[key]))\n",
    "\n",
    "#With items()\n",
    "for key, value in some_dict.items():\n",
    "    print(\"2:\", key, value)\n",
    "    \n",
    "#With sorted()\n",
    "for key, value in sorted(some_dict.items()):\n",
    "    print(\"3:\", key, value)\n",
    "    \n",
    "#With enumerate...remember that it will return as tuples for the pair\n",
    "for index, (key, value) in enumerate(some_dict.items()):\n",
    "    print(\"4:\", index, key, value)"
   ]
  },
  {
   "cell_type": "markdown",
   "metadata": {},
   "source": [
    "### === Task 4 ===\n",
    "\n",
    "1. Create a tuple variable containing a person age, gender, and height, and then attempt to print the gender of the tuple variable.\n",
    "2. Create a dictionary of your age, name, gender, ID number.  Loop the dictionary and print the key - value."
   ]
  },
  {
   "cell_type": "markdown",
   "metadata": {},
   "source": [
    "### Set\n",
    "\n",
    "Remember Set from high school? Python has the datatype for that.\n",
    " \n",
    "Recall to the characteristic of set, it has *no order* and *no duplication*."
   ]
  },
  {
   "cell_type": "code",
   "execution_count": 4,
   "metadata": {},
   "outputs": [
    {
     "name": "stdout",
     "output_type": "stream",
     "text": [
      "{'a', 'c', 'e', 'b', 'd'}\n",
      "5\n"
     ]
    }
   ],
   "source": [
    "set_a = {'d','e','a','a','a','b','b','c','a'}\n",
    "print(set_a) # all the duplication members are removed\n",
    "print(len(set_a)) # counting a total unique member"
   ]
  },
  {
   "cell_type": "code",
   "execution_count": 20,
   "metadata": {},
   "outputs": [
    {
     "name": "stdout",
     "output_type": "stream",
     "text": [
      "set_a={'a', 'd', 'b', 'c'}\n",
      "set_b={'a', 'd', 'b', 'c'}\n",
      "Is set_a is subset of set_b: True\n",
      "Is set_b is subset of set_a: True\n",
      "Is set_a and set_b are the same: True\n",
      "Intersection: {'a', 'd', 'b', 'c'}\n",
      "Union: {'a', 'c', 'b', 'd'}\n",
      "Difference: set() is an empyty set\n"
     ]
    }
   ],
   "source": [
    "set_a = set({'a','b','c','d'}) # You can explicitly using `set` constructor to declare a set\n",
    "set_b = set(['a','b','c','c','d','d']) # A list is possible to convert in to a set\n",
    "\n",
    "print(f\"{set_a=}\")\n",
    "print(f\"{set_b=}\")\n",
    "\n",
    "# A two set are equal if and only if set_a is a subset of set_b and set_b is a subset of set_a. Remember?\n",
    "print(\"Is set_a is subset of set_b:\", set_a.issubset(set_b))\n",
    "print(\"Is set_b is subset of set_a:\", set_b.issubset(set_a))\n",
    "\n",
    "# Or just use comparison\n",
    "print(\"Is set_a and set_b are the same:\", set_a == set_b) \n",
    "\n",
    "# Set object has the basic functions/operations we all love.\n",
    "print(\"Intersection:\", set_a.intersection(set_b))\n",
    "print(\"Union:\", set_a.union(set_b))\n",
    "print(\"Difference:\", set_a.difference(set_b), \"is an empyty set\")\n"
   ]
  },
  {
   "cell_type": "markdown",
   "metadata": {},
   "source": [
    "### Python Collections (Arrays)\n",
    "Here we completed all four basic collections in Python. The differences are as below\n",
    "\n",
    "[quote](https://www.w3schools.com/python/python_sets.asp)\n",
    ">- **List** is a collection which is ordered and changeable. Allows duplicate members.\n",
    ">- **Tuple** is a collection which is ordered and unchangeable. Allows duplicate members.\n",
    ">- **Set** is a collection which is unordered, unchangeable*, and unindexed. No duplicate members.\n",
    ">- **Dictionary** is a collection which is ordered** and changeable. No duplicate members.\n",
    "\n",
    "Can you use them interchangeably? Can you use `List` instead of `Set`? Well, if you try hard enough, you can. \n",
    "\n",
    "Remember, you can use a spoon to build a house, but why don't you use a hammer?\n",
    "\n",
    "Most likely, you don't know what is a hammer in the first place. That is why we should learn all the tools first, and later we can pick the suitable tool for the task."
   ]
  }
 ],
 "metadata": {
  "kernelspec": {
   "display_name": "Python 3.8.10 ('.venv': pipenv)",
   "language": "python",
   "name": "python3"
  },
  "language_info": {
   "codemirror_mode": {
    "name": "ipython",
    "version": 3
   },
   "file_extension": ".py",
   "mimetype": "text/x-python",
   "name": "python",
   "nbconvert_exporter": "python",
   "pygments_lexer": "ipython3",
   "version": "3.8.10"
  },
  "vscode": {
   "interpreter": {
    "hash": "27768773b483d82a9b2b839e3fa80b1be5789db7fd78df4eedef2df266871616"
   }
  }
 },
 "nbformat": 4,
 "nbformat_minor": 4
}
