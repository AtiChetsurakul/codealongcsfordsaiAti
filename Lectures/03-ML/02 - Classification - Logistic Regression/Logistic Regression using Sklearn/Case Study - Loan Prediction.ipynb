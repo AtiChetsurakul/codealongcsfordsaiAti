{
 "cells": [
  {
   "cell_type": "markdown",
   "metadata": {},
   "source": [
    "# Programming for Data Science and Artificial Intelligence\n",
    "\n",
    "## Case Study - Loan Prediction"
   ]
  },
  {
   "cell_type": "markdown",
   "metadata": {},
   "source": [
    "This dataset is a **classification problem**, concerning whether if the loan was approved or not.\n",
    "\n",
    "- **Loan_ID** - unique loan ID\n",
    "- **Gender** - male/female\n",
    "- **Married** - yes/no\n",
    "- **Dependents** - number of dependents\n",
    "- **Education** - graduate/undergraduate\n",
    "- **Self_Employed** - yes/no\n",
    "- **ApplicantIncome** - applicant income\n",
    "- **CoapplicantIncome** - coapplicant income\n",
    "- **LoanAmount** - loan amount in thousands\n",
    "- **Loan_Amount_Term** - term of lean in months\n",
    "- **Credit_History** - credit history meets guidelines\n",
    "- **Property_Area** - Urban/semi and Rural\n",
    "- **Loan_Status** - approved yes/no \n",
    "\n",
    "We are given 2 set, the training set and the test set.\n",
    "\n",
    "The **training set** contains 614 samples and 13 features, 12 of which are the independent variables and the last feature `Loan_Status` is the dependent variable.\n",
    "\n",
    "The **test set** contains 367 samples with the same 12 features but without the `Loan_Status` columns. So it will be representing the unseen data that we will be implementing our model on."
   ]
  },
  {
   "cell_type": "markdown",
   "metadata": {},
   "source": [
    "## 1. Import data"
   ]
  },
  {
   "cell_type": "code",
   "execution_count": 1,
   "metadata": {},
   "outputs": [],
   "source": [
    "import pandas as pd\n",
    "\n",
    "df_train = pd.read_csv('data/train_LoanPrediction.csv')\n",
    "df_test  = pd.read_csv('data/test_LoanPrediction.csv')"
   ]
  },
  {
   "cell_type": "code",
   "execution_count": 2,
   "metadata": {},
   "outputs": [
    {
     "name": "stdout",
     "output_type": "stream",
     "text": [
      "Training data shape :  (614, 13)\n",
      "Test data shape     :  (367, 12)\n"
     ]
    }
   ],
   "source": [
    "# Check the shape of Training and Test set\n",
    "print('Training data shape : ', df_train.shape)\n",
    "print('Test data shape     : ', df_test.shape)"
   ]
  },
  {
   "cell_type": "code",
   "execution_count": 3,
   "metadata": {
    "scrolled": true
   },
   "outputs": [
    {
     "data": {
      "text/html": [
       "<div>\n",
       "<style scoped>\n",
       "    .dataframe tbody tr th:only-of-type {\n",
       "        vertical-align: middle;\n",
       "    }\n",
       "\n",
       "    .dataframe tbody tr th {\n",
       "        vertical-align: top;\n",
       "    }\n",
       "\n",
       "    .dataframe thead th {\n",
       "        text-align: right;\n",
       "    }\n",
       "</style>\n",
       "<table border=\"1\" class=\"dataframe\">\n",
       "  <thead>\n",
       "    <tr style=\"text-align: right;\">\n",
       "      <th></th>\n",
       "      <th>Loan_ID</th>\n",
       "      <th>Gender</th>\n",
       "      <th>Married</th>\n",
       "      <th>Dependents</th>\n",
       "      <th>Education</th>\n",
       "      <th>Self_Employed</th>\n",
       "      <th>ApplicantIncome</th>\n",
       "      <th>CoapplicantIncome</th>\n",
       "      <th>LoanAmount</th>\n",
       "      <th>Loan_Amount_Term</th>\n",
       "      <th>Credit_History</th>\n",
       "      <th>Property_Area</th>\n",
       "      <th>Loan_Status</th>\n",
       "    </tr>\n",
       "  </thead>\n",
       "  <tbody>\n",
       "    <tr>\n",
       "      <th>0</th>\n",
       "      <td>LP001002</td>\n",
       "      <td>Male</td>\n",
       "      <td>No</td>\n",
       "      <td>0</td>\n",
       "      <td>Graduate</td>\n",
       "      <td>No</td>\n",
       "      <td>5849</td>\n",
       "      <td>0.0</td>\n",
       "      <td>NaN</td>\n",
       "      <td>360.0</td>\n",
       "      <td>1.0</td>\n",
       "      <td>Urban</td>\n",
       "      <td>Y</td>\n",
       "    </tr>\n",
       "    <tr>\n",
       "      <th>1</th>\n",
       "      <td>LP001003</td>\n",
       "      <td>Male</td>\n",
       "      <td>Yes</td>\n",
       "      <td>1</td>\n",
       "      <td>Graduate</td>\n",
       "      <td>No</td>\n",
       "      <td>4583</td>\n",
       "      <td>1508.0</td>\n",
       "      <td>128.0</td>\n",
       "      <td>360.0</td>\n",
       "      <td>1.0</td>\n",
       "      <td>Rural</td>\n",
       "      <td>N</td>\n",
       "    </tr>\n",
       "    <tr>\n",
       "      <th>2</th>\n",
       "      <td>LP001005</td>\n",
       "      <td>Male</td>\n",
       "      <td>Yes</td>\n",
       "      <td>0</td>\n",
       "      <td>Graduate</td>\n",
       "      <td>Yes</td>\n",
       "      <td>3000</td>\n",
       "      <td>0.0</td>\n",
       "      <td>66.0</td>\n",
       "      <td>360.0</td>\n",
       "      <td>1.0</td>\n",
       "      <td>Urban</td>\n",
       "      <td>Y</td>\n",
       "    </tr>\n",
       "    <tr>\n",
       "      <th>3</th>\n",
       "      <td>LP001006</td>\n",
       "      <td>Male</td>\n",
       "      <td>Yes</td>\n",
       "      <td>0</td>\n",
       "      <td>Not Graduate</td>\n",
       "      <td>No</td>\n",
       "      <td>2583</td>\n",
       "      <td>2358.0</td>\n",
       "      <td>120.0</td>\n",
       "      <td>360.0</td>\n",
       "      <td>1.0</td>\n",
       "      <td>Urban</td>\n",
       "      <td>Y</td>\n",
       "    </tr>\n",
       "    <tr>\n",
       "      <th>4</th>\n",
       "      <td>LP001008</td>\n",
       "      <td>Male</td>\n",
       "      <td>No</td>\n",
       "      <td>0</td>\n",
       "      <td>Graduate</td>\n",
       "      <td>No</td>\n",
       "      <td>6000</td>\n",
       "      <td>0.0</td>\n",
       "      <td>141.0</td>\n",
       "      <td>360.0</td>\n",
       "      <td>1.0</td>\n",
       "      <td>Urban</td>\n",
       "      <td>Y</td>\n",
       "    </tr>\n",
       "  </tbody>\n",
       "</table>\n",
       "</div>"
      ],
      "text/plain": [
       "    Loan_ID Gender Married Dependents     Education Self_Employed  \\\n",
       "0  LP001002   Male      No          0      Graduate            No   \n",
       "1  LP001003   Male     Yes          1      Graduate            No   \n",
       "2  LP001005   Male     Yes          0      Graduate           Yes   \n",
       "3  LP001006   Male     Yes          0  Not Graduate            No   \n",
       "4  LP001008   Male      No          0      Graduate            No   \n",
       "\n",
       "   ApplicantIncome  CoapplicantIncome  LoanAmount  Loan_Amount_Term  \\\n",
       "0             5849                0.0         NaN             360.0   \n",
       "1             4583             1508.0       128.0             360.0   \n",
       "2             3000                0.0        66.0             360.0   \n",
       "3             2583             2358.0       120.0             360.0   \n",
       "4             6000                0.0       141.0             360.0   \n",
       "\n",
       "   Credit_History Property_Area Loan_Status  \n",
       "0             1.0         Urban           Y  \n",
       "1             1.0         Rural           N  \n",
       "2             1.0         Urban           Y  \n",
       "3             1.0         Urban           Y  \n",
       "4             1.0         Urban           Y  "
      ]
     },
     "execution_count": 3,
     "metadata": {},
     "output_type": "execute_result"
    }
   ],
   "source": [
    "# Let's see the \"head\" of the training set\n",
    "df_train.head()"
   ]
  },
  {
   "cell_type": "code",
   "execution_count": 4,
   "metadata": {},
   "outputs": [
    {
     "data": {
      "text/html": [
       "<div>\n",
       "<style scoped>\n",
       "    .dataframe tbody tr th:only-of-type {\n",
       "        vertical-align: middle;\n",
       "    }\n",
       "\n",
       "    .dataframe tbody tr th {\n",
       "        vertical-align: top;\n",
       "    }\n",
       "\n",
       "    .dataframe thead th {\n",
       "        text-align: right;\n",
       "    }\n",
       "</style>\n",
       "<table border=\"1\" class=\"dataframe\">\n",
       "  <thead>\n",
       "    <tr style=\"text-align: right;\">\n",
       "      <th></th>\n",
       "      <th>ApplicantIncome</th>\n",
       "      <th>CoapplicantIncome</th>\n",
       "      <th>LoanAmount</th>\n",
       "      <th>Loan_Amount_Term</th>\n",
       "      <th>Credit_History</th>\n",
       "    </tr>\n",
       "  </thead>\n",
       "  <tbody>\n",
       "    <tr>\n",
       "      <th>count</th>\n",
       "      <td>614.000000</td>\n",
       "      <td>614.000000</td>\n",
       "      <td>592.000000</td>\n",
       "      <td>600.00000</td>\n",
       "      <td>564.000000</td>\n",
       "    </tr>\n",
       "    <tr>\n",
       "      <th>mean</th>\n",
       "      <td>5403.459283</td>\n",
       "      <td>1621.245798</td>\n",
       "      <td>146.412162</td>\n",
       "      <td>342.00000</td>\n",
       "      <td>0.842199</td>\n",
       "    </tr>\n",
       "    <tr>\n",
       "      <th>std</th>\n",
       "      <td>6109.041673</td>\n",
       "      <td>2926.248369</td>\n",
       "      <td>85.587325</td>\n",
       "      <td>65.12041</td>\n",
       "      <td>0.364878</td>\n",
       "    </tr>\n",
       "    <tr>\n",
       "      <th>min</th>\n",
       "      <td>150.000000</td>\n",
       "      <td>0.000000</td>\n",
       "      <td>9.000000</td>\n",
       "      <td>12.00000</td>\n",
       "      <td>0.000000</td>\n",
       "    </tr>\n",
       "    <tr>\n",
       "      <th>25%</th>\n",
       "      <td>2877.500000</td>\n",
       "      <td>0.000000</td>\n",
       "      <td>100.000000</td>\n",
       "      <td>360.00000</td>\n",
       "      <td>1.000000</td>\n",
       "    </tr>\n",
       "    <tr>\n",
       "      <th>50%</th>\n",
       "      <td>3812.500000</td>\n",
       "      <td>1188.500000</td>\n",
       "      <td>128.000000</td>\n",
       "      <td>360.00000</td>\n",
       "      <td>1.000000</td>\n",
       "    </tr>\n",
       "    <tr>\n",
       "      <th>75%</th>\n",
       "      <td>5795.000000</td>\n",
       "      <td>2297.250000</td>\n",
       "      <td>168.000000</td>\n",
       "      <td>360.00000</td>\n",
       "      <td>1.000000</td>\n",
       "    </tr>\n",
       "    <tr>\n",
       "      <th>max</th>\n",
       "      <td>81000.000000</td>\n",
       "      <td>41667.000000</td>\n",
       "      <td>700.000000</td>\n",
       "      <td>480.00000</td>\n",
       "      <td>1.000000</td>\n",
       "    </tr>\n",
       "  </tbody>\n",
       "</table>\n",
       "</div>"
      ],
      "text/plain": [
       "       ApplicantIncome  CoapplicantIncome  LoanAmount  Loan_Amount_Term  \\\n",
       "count       614.000000         614.000000  592.000000         600.00000   \n",
       "mean       5403.459283        1621.245798  146.412162         342.00000   \n",
       "std        6109.041673        2926.248369   85.587325          65.12041   \n",
       "min         150.000000           0.000000    9.000000          12.00000   \n",
       "25%        2877.500000           0.000000  100.000000         360.00000   \n",
       "50%        3812.500000        1188.500000  128.000000         360.00000   \n",
       "75%        5795.000000        2297.250000  168.000000         360.00000   \n",
       "max       81000.000000       41667.000000  700.000000         480.00000   \n",
       "\n",
       "       Credit_History  \n",
       "count      564.000000  \n",
       "mean         0.842199  \n",
       "std          0.364878  \n",
       "min          0.000000  \n",
       "25%          1.000000  \n",
       "50%          1.000000  \n",
       "75%          1.000000  \n",
       "max          1.000000  "
      ]
     },
     "execution_count": 4,
     "metadata": {},
     "output_type": "execute_result"
    }
   ],
   "source": [
    "# describe\n",
    "df_train.describe()"
   ]
  },
  {
   "cell_type": "code",
   "execution_count": 5,
   "metadata": {
    "scrolled": true
   },
   "outputs": [
    {
     "name": "stdout",
     "output_type": "stream",
     "text": [
      "<class 'pandas.core.frame.DataFrame'>\n",
      "RangeIndex: 614 entries, 0 to 613\n",
      "Data columns (total 13 columns):\n",
      " #   Column             Non-Null Count  Dtype  \n",
      "---  ------             --------------  -----  \n",
      " 0   Loan_ID            614 non-null    object \n",
      " 1   Gender             601 non-null    object \n",
      " 2   Married            611 non-null    object \n",
      " 3   Dependents         599 non-null    object \n",
      " 4   Education          614 non-null    object \n",
      " 5   Self_Employed      582 non-null    object \n",
      " 6   ApplicantIncome    614 non-null    int64  \n",
      " 7   CoapplicantIncome  614 non-null    float64\n",
      " 8   LoanAmount         592 non-null    float64\n",
      " 9   Loan_Amount_Term   600 non-null    float64\n",
      " 10  Credit_History     564 non-null    float64\n",
      " 11  Property_Area      614 non-null    object \n",
      " 12  Loan_Status        614 non-null    object \n",
      "dtypes: float64(4), int64(1), object(8)\n",
      "memory usage: 62.5+ KB\n"
     ]
    }
   ],
   "source": [
    "# Let's see the \"info\" of the training set\n",
    "# Notice that this will tell us the  Non-null counts and the dtypes of each colum\n",
    "df_train.info()"
   ]
  },
  {
   "cell_type": "code",
   "execution_count": 6,
   "metadata": {},
   "outputs": [
    {
     "data": {
      "text/plain": [
       "Y    0.687296\n",
       "N    0.312704\n",
       "Name: Loan_Status, dtype: float64"
      ]
     },
     "execution_count": 6,
     "metadata": {},
     "output_type": "execute_result"
    }
   ],
   "source": [
    "### also nice to check whether this dataset is imbalanced in the beginning\n",
    "df_train['Loan_Status'].value_counts(normalize=True)  #hmm..imbalanced..."
   ]
  },
  {
   "cell_type": "markdown",
   "metadata": {},
   "source": [
    "## 2. Cleaning"
   ]
  },
  {
   "cell_type": "markdown",
   "metadata": {},
   "source": [
    "### Check missing values"
   ]
  },
  {
   "cell_type": "code",
   "execution_count": 7,
   "metadata": {},
   "outputs": [],
   "source": [
    "def show_missing(train_data, test_data):\n",
    "    print('Missing values in Train data: \\n', train_data.isna().sum())\n",
    "    print(\"=\"*30)\n",
    "    print('Missing values in Test data: \\n', test_data.isna().sum())"
   ]
  },
  {
   "cell_type": "code",
   "execution_count": 8,
   "metadata": {},
   "outputs": [
    {
     "name": "stdout",
     "output_type": "stream",
     "text": [
      "Missing values in Train data: \n",
      " Loan_ID               0\n",
      "Gender               13\n",
      "Married               3\n",
      "Dependents           15\n",
      "Education             0\n",
      "Self_Employed        32\n",
      "ApplicantIncome       0\n",
      "CoapplicantIncome     0\n",
      "LoanAmount           22\n",
      "Loan_Amount_Term     14\n",
      "Credit_History       50\n",
      "Property_Area         0\n",
      "Loan_Status           0\n",
      "dtype: int64\n",
      "==============================\n",
      "Missing values in Test data: \n",
      " Loan_ID               0\n",
      "Gender               11\n",
      "Married               0\n",
      "Dependents           10\n",
      "Education             0\n",
      "Self_Employed        23\n",
      "ApplicantIncome       0\n",
      "CoapplicantIncome     0\n",
      "LoanAmount            5\n",
      "Loan_Amount_Term      6\n",
      "Credit_History       29\n",
      "Property_Area         0\n",
      "dtype: int64\n"
     ]
    }
   ],
   "source": [
    "show_missing(df_train, df_test)"
   ]
  },
  {
   "cell_type": "markdown",
   "metadata": {},
   "source": [
    "### Filling categorical values"
   ]
  },
  {
   "cell_type": "markdown",
   "metadata": {},
   "source": [
    "\n",
    "Let's first focus on the `Married` column. We can see from the table above that the `Married` has 3 missing values in the training set and 0 missing values in the test set so let's fill the training set!\n",
    "\n",
    "We will use the distribution over the train dataset then fill in the missing values in **approximately the same ratio with fillna()**\n",
    "\n",
    "Here are the steps:\n",
    "1. Compute ratio in the **training** set\n",
    "2. Divide the missing values based on ratio\n",
    "3. Fill in the missing values according to the ratio"
   ]
  },
  {
   "cell_type": "code",
   "execution_count": 9,
   "metadata": {},
   "outputs": [
    {
     "name": "stdout",
     "output_type": "stream",
     "text": [
      "Yes    398\n",
      "No     213\n",
      "Name: Married, dtype: int64\n"
     ]
    }
   ],
   "source": [
    "# count the values in 'Married' columns.\n",
    "print(df_train['Married'].value_counts())"
   ]
  },
  {
   "cell_type": "code",
   "execution_count": 10,
   "metadata": {},
   "outputs": [
    {
     "data": {
      "text/plain": [
       "Yes    0.651391\n",
       "No     0.348609\n",
       "Name: Married, dtype: float64"
      ]
     },
     "execution_count": 10,
     "metadata": {},
     "output_type": "execute_result"
    }
   ],
   "source": [
    "# we can get the ratio instead\n",
    "ratio = df_train['Married'].value_counts(normalize=True)\n",
    "ratio"
   ]
  },
  {
   "cell_type": "code",
   "execution_count": 11,
   "metadata": {},
   "outputs": [
    {
     "data": {
      "text/plain": [
       "'No'"
      ]
     },
     "execution_count": 11,
     "metadata": {},
     "output_type": "execute_result"
    }
   ],
   "source": [
    "ratio.index[0]\n",
    "ratio.index[1]"
   ]
  },
  {
   "cell_type": "code",
   "execution_count": 12,
   "metadata": {},
   "outputs": [
    {
     "data": {
      "text/plain": [
       "0.3486088379705401"
      ]
     },
     "execution_count": 12,
     "metadata": {},
     "output_type": "execute_result"
    }
   ],
   "source": [
    "ratio[0]\n",
    "ratio[1]"
   ]
  },
  {
   "cell_type": "code",
   "execution_count": 13,
   "metadata": {},
   "outputs": [
    {
     "data": {
      "text/plain": [
       "[0.6513911620294599, 0.3486088379705401]"
      ]
     },
     "execution_count": 13,
     "metadata": {},
     "output_type": "execute_result"
    }
   ],
   "source": [
    "list(ratio.values)"
   ]
  },
  {
   "cell_type": "code",
   "execution_count": 14,
   "metadata": {},
   "outputs": [
    {
     "data": {
      "text/plain": [
       "['Yes', 'No']"
      ]
     },
     "execution_count": 14,
     "metadata": {},
     "output_type": "execute_result"
    }
   ],
   "source": [
    "list(ratio.index)"
   ]
  },
  {
   "cell_type": "code",
   "execution_count": 15,
   "metadata": {},
   "outputs": [],
   "source": [
    "#let's fill in!\n",
    "import numpy as np\n",
    "\n",
    "#this is a bit advanced, but it's easy technique for filling with ratios....\n",
    "df_train['Married'].fillna(pd.Series(np.random.choice([ratio.index[0], ratio.index[1]], \n",
    "                        p=[ratio[0], ratio[1]], size=len(df_train))), inplace=True)"
   ]
  },
  {
   "cell_type": "code",
   "execution_count": 16,
   "metadata": {},
   "outputs": [
    {
     "name": "stdout",
     "output_type": "stream",
     "text": [
      "Missing values in Train data: \n",
      " Loan_ID               0\n",
      "Gender               13\n",
      "Married               0\n",
      "Dependents           15\n",
      "Education             0\n",
      "Self_Employed        32\n",
      "ApplicantIncome       0\n",
      "CoapplicantIncome     0\n",
      "LoanAmount           22\n",
      "Loan_Amount_Term     14\n",
      "Credit_History       50\n",
      "Property_Area         0\n",
      "Loan_Status           0\n",
      "dtype: int64\n",
      "==============================\n",
      "Missing values in Test data: \n",
      " Loan_ID               0\n",
      "Gender               11\n",
      "Married               0\n",
      "Dependents           10\n",
      "Education             0\n",
      "Self_Employed        23\n",
      "ApplicantIncome       0\n",
      "CoapplicantIncome     0\n",
      "LoanAmount            5\n",
      "Loan_Amount_Term      6\n",
      "Credit_History       29\n",
      "Property_Area         0\n",
      "dtype: int64\n"
     ]
    }
   ],
   "source": [
    "show_missing(df_train, df_test)"
   ]
  },
  {
   "cell_type": "markdown",
   "metadata": {},
   "source": [
    "But we still have other categorical columns.  For some of them we need to fill in both the training and test set!\n",
    "\n",
    "So let's write a function that can calculate the ratio from the training data and fill the missing values accordingly."
   ]
  },
  {
   "cell_type": "code",
   "execution_count": 17,
   "metadata": {},
   "outputs": [
    {
     "data": {
      "text/plain": [
       "Index(['Gender', 'Dependents', 'Self_Employed'], dtype='object')"
      ]
     },
     "execution_count": 17,
     "metadata": {},
     "output_type": "execute_result"
    }
   ],
   "source": [
    "#filter out all categorical columns with missing values\n",
    "categorical = df_train.select_dtypes(include=['object'])\n",
    "cat_with_missing = categorical.columns[categorical.isna().any()] \n",
    "cat_with_missing"
   ]
  },
  {
   "cell_type": "code",
   "execution_count": 18,
   "metadata": {},
   "outputs": [
    {
     "name": "stdout",
     "output_type": "stream",
     "text": [
      "Missing values in Train data: \n",
      " Gender           13\n",
      "Dependents       15\n",
      "Self_Employed    32\n",
      "dtype: int64\n",
      "==============================\n",
      "Missing values in Test data: \n",
      " Gender           11\n",
      "Dependents       10\n",
      "Self_Employed    23\n",
      "dtype: int64\n"
     ]
    }
   ],
   "source": [
    "#check missing value in these columns\n",
    "show_missing(df_train[cat_with_missing], df_test[cat_with_missing])"
   ]
  },
  {
   "cell_type": "code",
   "execution_count": 19,
   "metadata": {},
   "outputs": [],
   "source": [
    "# write a nice function to calculate ratio and fillna\n",
    "def fill_data_with_ratio(train_data, test_data, column_name):\n",
    "    \n",
    "    ratio = train_data[column_name].value_counts(normalize=True)\n",
    "    \n",
    "    train_data[column_name].fillna(\n",
    "        pd.Series(np.random.choice(list(ratio.index), \n",
    "        p=list(ratio.values), \n",
    "        size=len(train_data))), \n",
    "        inplace=True)\n",
    "    \n",
    "    test_data[column_name].fillna(\n",
    "        pd.Series(np.random.choice(list(ratio.index), \n",
    "        p=list(ratio.values), \n",
    "        size=len(test_data))), \n",
    "        inplace=True)"
   ]
  },
  {
   "cell_type": "code",
   "execution_count": 20,
   "metadata": {},
   "outputs": [],
   "source": [
    "# simple loop!\n",
    "for col in cat_with_missing:\n",
    "    fill_data_with_ratio(df_train, df_test, col)"
   ]
  },
  {
   "cell_type": "code",
   "execution_count": 21,
   "metadata": {
    "scrolled": false
   },
   "outputs": [
    {
     "name": "stdout",
     "output_type": "stream",
     "text": [
      "Missing values in Train data: \n",
      " Gender           0\n",
      "Dependents       0\n",
      "Self_Employed    0\n",
      "dtype: int64\n",
      "==============================\n",
      "Missing values in Test data: \n",
      " Gender           0\n",
      "Dependents       0\n",
      "Self_Employed    0\n",
      "dtype: int64\n"
     ]
    }
   ],
   "source": [
    "show_missing(df_train[cat_with_missing], df_test[cat_with_missing])"
   ]
  },
  {
   "cell_type": "markdown",
   "metadata": {},
   "source": [
    "### Filling \"numerical\" categorical values\n",
    "\n",
    "There are two hidden categorical column but which is numerical."
   ]
  },
  {
   "cell_type": "code",
   "execution_count": 22,
   "metadata": {},
   "outputs": [
    {
     "data": {
      "text/plain": [
       "array([ 1.,  0., nan])"
      ]
     },
     "execution_count": 22,
     "metadata": {},
     "output_type": "execute_result"
    }
   ],
   "source": [
    "df_train['Credit_History'].unique()"
   ]
  },
  {
   "cell_type": "code",
   "execution_count": 23,
   "metadata": {},
   "outputs": [
    {
     "data": {
      "text/plain": [
       "array([360., 120., 240.,  nan, 180.,  60., 300., 480.,  36.,  84.,  12.])"
      ]
     },
     "execution_count": 23,
     "metadata": {},
     "output_type": "execute_result"
    }
   ],
   "source": [
    "df_train['Loan_Amount_Term'].unique()"
   ]
  },
  {
   "cell_type": "markdown",
   "metadata": {},
   "source": [
    "Thus, let's also fill them accordingly..."
   ]
  },
  {
   "cell_type": "code",
   "execution_count": 24,
   "metadata": {},
   "outputs": [],
   "source": [
    "for col in ['Credit_History', 'Loan_Amount_Term']:\n",
    "    fill_data_with_ratio(df_train, df_test, col)"
   ]
  },
  {
   "cell_type": "code",
   "execution_count": 25,
   "metadata": {},
   "outputs": [
    {
     "name": "stdout",
     "output_type": "stream",
     "text": [
      "Missing values in Train data: \n",
      " Loan_ID               0\n",
      "Gender                0\n",
      "Married               0\n",
      "Dependents            0\n",
      "Education             0\n",
      "Self_Employed         0\n",
      "ApplicantIncome       0\n",
      "CoapplicantIncome     0\n",
      "LoanAmount           22\n",
      "Loan_Amount_Term      0\n",
      "Credit_History        0\n",
      "Property_Area         0\n",
      "Loan_Status           0\n",
      "dtype: int64\n",
      "==============================\n",
      "Missing values in Test data: \n",
      " Loan_ID              0\n",
      "Gender               0\n",
      "Married              0\n",
      "Dependents           0\n",
      "Education            0\n",
      "Self_Employed        0\n",
      "ApplicantIncome      0\n",
      "CoapplicantIncome    0\n",
      "LoanAmount           5\n",
      "Loan_Amount_Term     0\n",
      "Credit_History       0\n",
      "Property_Area        0\n",
      "dtype: int64\n"
     ]
    }
   ],
   "source": [
    "show_missing(df_train, df_test)"
   ]
  },
  {
   "cell_type": "markdown",
   "metadata": {},
   "source": [
    "### Filling Numerical Values\n",
    "\n",
    "`LoanAmount` still has some missing values.\n",
    "\n",
    "We should check the distribution of the data before deciding how to fill them."
   ]
  },
  {
   "cell_type": "code",
   "execution_count": 26,
   "metadata": {},
   "outputs": [
    {
     "data": {
      "image/png": "[encoded data removed]",
      "text/plain": [
       "<Figure size 360x360 with 1 Axes>"
      ]
     },
     "metadata": {
      "needs_background": "light"
     },
     "output_type": "display_data"
    }
   ],
   "source": [
    "# plot a histogram to see the data distribution of 'LoanAmount'\n",
    "import matplotlib.pyplot as plt\n",
    "import seaborn as sns\n",
    "\n",
    "sns.displot(df_train['LoanAmount'])\n",
    "plt.title('LoanAmount distribution', size=16)\n",
    "plt.ylabel('count')\n",
    "plt.show()"
   ]
  },
  {
   "cell_type": "code",
   "execution_count": 27,
   "metadata": {},
   "outputs": [
    {
     "data": {
      "text/plain": [
       "<AxesSubplot:>"
      ]
     },
     "execution_count": 27,
     "metadata": {},
     "output_type": "execute_result"
    },
    {
     "data": {
      "image/png": "[encoded data removed]",
      "text/plain": [
       "<Figure size 216x288 with 1 Axes>"
      ]
     },
     "metadata": {
      "needs_background": "light"
     },
     "output_type": "display_data"
    }
   ],
   "source": [
    "# also try plot a box plot\n",
    "df_train['LoanAmount'].plot(kind='box', figsize=(3,4))"
   ]
  },
  {
   "cell_type": "markdown",
   "metadata": {},
   "source": [
    "There are some outliers so we will be using the median over the training set to fill the missing values to avoid effects of outliers on the center value."
   ]
  },
  {
   "cell_type": "code",
   "execution_count": 28,
   "metadata": {},
   "outputs": [],
   "source": [
    "# Use the median of the Training set to fill both the training and test set.\n",
    "df_train['LoanAmount'].fillna((df_train['LoanAmount'].median()), inplace=True)\n",
    "df_test['LoanAmount'].fillna((df_test['LoanAmount'].median()), inplace=True)"
   ]
  },
  {
   "cell_type": "code",
   "execution_count": 29,
   "metadata": {
    "scrolled": true
   },
   "outputs": [
    {
     "name": "stdout",
     "output_type": "stream",
     "text": [
      "Missing values in Train data: \n",
      " Loan_ID              0\n",
      "Gender               0\n",
      "Married              0\n",
      "Dependents           0\n",
      "Education            0\n",
      "Self_Employed        0\n",
      "ApplicantIncome      0\n",
      "CoapplicantIncome    0\n",
      "LoanAmount           0\n",
      "Loan_Amount_Term     0\n",
      "Credit_History       0\n",
      "Property_Area        0\n",
      "Loan_Status          0\n",
      "dtype: int64\n",
      "==============================\n",
      "Missing values in Test data: \n",
      " Loan_ID              0\n",
      "Gender               0\n",
      "Married              0\n",
      "Dependents           0\n",
      "Education            0\n",
      "Self_Employed        0\n",
      "ApplicantIncome      0\n",
      "CoapplicantIncome    0\n",
      "LoanAmount           0\n",
      "Loan_Amount_Term     0\n",
      "Credit_History       0\n",
      "Property_Area        0\n",
      "dtype: int64\n"
     ]
    }
   ],
   "source": [
    "show_missing(df_train, df_test)"
   ]
  },
  {
   "cell_type": "markdown",
   "metadata": {},
   "source": [
    "### Filling some inconsistent column\n",
    "\n",
    "Dependent has some weird value which is 3+, which will not allow the machine learning to work properly.  So let's replace all 3+ with 4."
   ]
  },
  {
   "cell_type": "code",
   "execution_count": 30,
   "metadata": {},
   "outputs": [
    {
     "data": {
      "text/plain": [
       "array(['0', '1', '2', '3+'], dtype=object)"
      ]
     },
     "execution_count": 30,
     "metadata": {},
     "output_type": "execute_result"
    }
   ],
   "source": [
    "df_train['Dependents'].unique()"
   ]
  },
  {
   "cell_type": "code",
   "execution_count": 31,
   "metadata": {},
   "outputs": [
    {
     "data": {
      "text/plain": [
       "array(['0', '1', '2', '3+'], dtype=object)"
      ]
     },
     "execution_count": 31,
     "metadata": {},
     "output_type": "execute_result"
    }
   ],
   "source": [
    "df_test['Dependents'].unique()"
   ]
  },
  {
   "cell_type": "code",
   "execution_count": 32,
   "metadata": {},
   "outputs": [],
   "source": [
    "df_train['Dependents'].replace('3+', '4', inplace = True)\n",
    "df_test['Dependents'].replace('3+', '4', inplace = True)"
   ]
  },
  {
   "cell_type": "markdown",
   "metadata": {},
   "source": [
    "We are finally done with filling na!"
   ]
  },
  {
   "cell_type": "markdown",
   "metadata": {},
   "source": [
    "### Dropping Loan ID\n",
    "\n",
    "We have one column which does not seem to be useful later on for our prediction, i.e., Loan ID.  So let's remove that."
   ]
  },
  {
   "cell_type": "code",
   "execution_count": 33,
   "metadata": {
    "scrolled": true
   },
   "outputs": [
    {
     "data": {
      "text/plain": [
       "Index(['Gender', 'Married', 'Dependents', 'Education', 'Self_Employed',\n",
       "       'ApplicantIncome', 'CoapplicantIncome', 'LoanAmount',\n",
       "       'Loan_Amount_Term', 'Credit_History', 'Property_Area', 'Loan_Status'],\n",
       "      dtype='object')"
      ]
     },
     "execution_count": 33,
     "metadata": {},
     "output_type": "execute_result"
    }
   ],
   "source": [
    "df_train.drop(columns=['Loan_ID'], inplace=True)\n",
    "df_test.drop(columns=['Loan_ID'], inplace=True)\n",
    "\n",
    "df_train.columns"
   ]
  },
  {
   "cell_type": "code",
   "execution_count": 34,
   "metadata": {},
   "outputs": [],
   "source": [
    "# Convert values in 'Dependents' to int\n",
    "df_train['Dependents'] = df_train['Dependents'].astype(int)\n",
    "df_test['Dependents']  = df_test['Dependents'].astype(int)"
   ]
  },
  {
   "cell_type": "markdown",
   "metadata": {},
   "source": [
    "### Label encoding\n",
    "\n",
    "Let's start with Gender."
   ]
  },
  {
   "cell_type": "code",
   "execution_count": 35,
   "metadata": {},
   "outputs": [
    {
     "data": {
      "text/plain": [
       "array([1, 0])"
      ]
     },
     "execution_count": 35,
     "metadata": {},
     "output_type": "execute_result"
    }
   ],
   "source": [
    "from sklearn.preprocessing import LabelEncoder\n",
    "\n",
    "le = LabelEncoder()\n",
    "df_train[\"Gender\"] = le.fit_transform(df_train[\"Gender\"])\n",
    "df_test[\"Gender\"]  = le.transform(df_test[\"Gender\"])\n",
    "\n",
    "#check the mapping\n",
    "le.transform(['Male', 'Female'])"
   ]
  },
  {
   "cell_type": "markdown",
   "metadata": {},
   "source": [
    "There are also other categorical columns that need to be convert to integer"
   ]
  },
  {
   "cell_type": "code",
   "execution_count": 36,
   "metadata": {},
   "outputs": [
    {
     "name": "stdout",
     "output_type": "stream",
     "text": [
      "<class 'pandas.core.frame.DataFrame'>\n",
      "RangeIndex: 614 entries, 0 to 613\n",
      "Data columns (total 12 columns):\n",
      " #   Column             Non-Null Count  Dtype  \n",
      "---  ------             --------------  -----  \n",
      " 0   Gender             614 non-null    int64  \n",
      " 1   Married            614 non-null    object \n",
      " 2   Dependents         614 non-null    int64  \n",
      " 3   Education          614 non-null    object \n",
      " 4   Self_Employed      614 non-null    object \n",
      " 5   ApplicantIncome    614 non-null    int64  \n",
      " 6   CoapplicantIncome  614 non-null    float64\n",
      " 7   LoanAmount         614 non-null    float64\n",
      " 8   Loan_Amount_Term   614 non-null    float64\n",
      " 9   Credit_History     614 non-null    float64\n",
      " 10  Property_Area      614 non-null    object \n",
      " 11  Loan_Status        614 non-null    object \n",
      "dtypes: float64(4), int64(3), object(5)\n",
      "memory usage: 57.7+ KB\n"
     ]
    }
   ],
   "source": [
    "df_train.info()"
   ]
  },
  {
   "cell_type": "code",
   "execution_count": 37,
   "metadata": {},
   "outputs": [],
   "source": [
    "categorical = df_train.select_dtypes(include=['object'])"
   ]
  },
  {
   "cell_type": "markdown",
   "metadata": {},
   "source": [
    "Ok...now let's make one simple function that would convert everything to integer.  Note that we gonna skip those that have more than 2 categories.  I will later tell you why."
   ]
  },
  {
   "cell_type": "code",
   "execution_count": 38,
   "metadata": {},
   "outputs": [
    {
     "name": "stdout",
     "output_type": "stream",
     "text": [
      "<class 'pandas.core.frame.DataFrame'>\n",
      "RangeIndex: 614 entries, 0 to 613\n",
      "Data columns (total 12 columns):\n",
      " #   Column             Non-Null Count  Dtype  \n",
      "---  ------             --------------  -----  \n",
      " 0   Gender             614 non-null    int64  \n",
      " 1   Married            614 non-null    int8   \n",
      " 2   Dependents         614 non-null    int64  \n",
      " 3   Education          614 non-null    int8   \n",
      " 4   Self_Employed      614 non-null    int8   \n",
      " 5   ApplicantIncome    614 non-null    int64  \n",
      " 6   CoapplicantIncome  614 non-null    float64\n",
      " 7   LoanAmount         614 non-null    float64\n",
      " 8   Loan_Amount_Term   614 non-null    float64\n",
      " 9   Credit_History     614 non-null    float64\n",
      " 10  Property_Area      614 non-null    object \n",
      " 11  Loan_Status        614 non-null    int8   \n",
      "dtypes: float64(4), int64(3), int8(4), object(1)\n",
      "memory usage: 40.9+ KB\n"
     ]
    }
   ],
   "source": [
    "for col in df_train.columns:\n",
    "    if(df_train[col].dtype == 'object'):\n",
    "        if len(df_train[col].unique()) < 3:\n",
    "            df_train[col]= df_train[col].astype('category') #first convert to category\n",
    "            df_train[col] = df_train[col].cat.codes  #exploit cat.codes\n",
    "        \n",
    "df_train.info()"
   ]
  },
  {
   "cell_type": "markdown",
   "metadata": {},
   "source": [
    "Repeat this for test_data"
   ]
  },
  {
   "cell_type": "code",
   "execution_count": 39,
   "metadata": {
    "scrolled": false
   },
   "outputs": [
    {
     "name": "stdout",
     "output_type": "stream",
     "text": [
      "<class 'pandas.core.frame.DataFrame'>\n",
      "RangeIndex: 367 entries, 0 to 366\n",
      "Data columns (total 11 columns):\n",
      " #   Column             Non-Null Count  Dtype  \n",
      "---  ------             --------------  -----  \n",
      " 0   Gender             367 non-null    int64  \n",
      " 1   Married            367 non-null    int8   \n",
      " 2   Dependents         367 non-null    int64  \n",
      " 3   Education          367 non-null    int8   \n",
      " 4   Self_Employed      367 non-null    int8   \n",
      " 5   ApplicantIncome    367 non-null    int64  \n",
      " 6   CoapplicantIncome  367 non-null    int64  \n",
      " 7   LoanAmount         367 non-null    float64\n",
      " 8   Loan_Amount_Term   367 non-null    float64\n",
      " 9   Credit_History     367 non-null    float64\n",
      " 10  Property_Area      367 non-null    object \n",
      "dtypes: float64(3), int64(4), int8(3), object(1)\n",
      "memory usage: 24.1+ KB\n"
     ]
    }
   ],
   "source": [
    "for col in df_test.columns:\n",
    "    if(df_test[col].dtype == 'object'):\n",
    "        if len(df_train[col].unique()) < 3:\n",
    "            df_test[col]= df_test[col].astype('category') #first convert to category\n",
    "            df_test[col] = df_test[col].cat.codes  #exploit cat.codes\n",
    "        \n",
    "df_test.info()"
   ]
  },
  {
   "cell_type": "markdown",
   "metadata": {},
   "source": [
    "### One-hot encoding"
   ]
  },
  {
   "cell_type": "markdown",
   "metadata": {},
   "source": [
    "Now we just got one more column which is property area, which has 3 categories.  "
   ]
  },
  {
   "cell_type": "code",
   "execution_count": 40,
   "metadata": {},
   "outputs": [
    {
     "data": {
      "text/plain": [
       "array(['Urban', 'Rural', 'Semiurban'], dtype=object)"
      ]
     },
     "execution_count": 40,
     "metadata": {},
     "output_type": "execute_result"
    }
   ],
   "source": [
    "df_train['Property_Area'].unique()"
   ]
  },
  {
   "cell_type": "markdown",
   "metadata": {},
   "source": [
    "For any categorical variable of more than 2 categories, it is better to use **one-hot encoding**.  \n",
    "\n",
    "Why?\n",
    "\n",
    "Previously, we simply convert Gender to 0 and 1.  This is also called **label encoding**.  However, this is actually NOT recommended **for those having more than 2 category levels**, because you introduce a numeric relationship, i.e., 0 < 1 < 2, which does not make sense for categorical variables.\n",
    "\n",
    "In fact, it is better to convert using one hot encoding.  Let's see code."
   ]
  },
  {
   "cell_type": "code",
   "execution_count": 41,
   "metadata": {},
   "outputs": [
    {
     "data": {
      "text/html": [
       "<div>\n",
       "<style scoped>\n",
       "    .dataframe tbody tr th:only-of-type {\n",
       "        vertical-align: middle;\n",
       "    }\n",
       "\n",
       "    .dataframe tbody tr th {\n",
       "        vertical-align: top;\n",
       "    }\n",
       "\n",
       "    .dataframe thead th {\n",
       "        text-align: right;\n",
       "    }\n",
       "</style>\n",
       "<table border=\"1\" class=\"dataframe\">\n",
       "  <thead>\n",
       "    <tr style=\"text-align: right;\">\n",
       "      <th></th>\n",
       "      <th>0</th>\n",
       "      <th>1</th>\n",
       "    </tr>\n",
       "  </thead>\n",
       "  <tbody>\n",
       "    <tr>\n",
       "      <th>0</th>\n",
       "      <td>0.0</td>\n",
       "      <td>1.0</td>\n",
       "    </tr>\n",
       "    <tr>\n",
       "      <th>1</th>\n",
       "      <td>0.0</td>\n",
       "      <td>0.0</td>\n",
       "    </tr>\n",
       "    <tr>\n",
       "      <th>2</th>\n",
       "      <td>0.0</td>\n",
       "      <td>1.0</td>\n",
       "    </tr>\n",
       "    <tr>\n",
       "      <th>3</th>\n",
       "      <td>0.0</td>\n",
       "      <td>1.0</td>\n",
       "    </tr>\n",
       "    <tr>\n",
       "      <th>4</th>\n",
       "      <td>0.0</td>\n",
       "      <td>1.0</td>\n",
       "    </tr>\n",
       "  </tbody>\n",
       "</table>\n",
       "</div>"
      ],
      "text/plain": [
       "     0    1\n",
       "0  0.0  1.0\n",
       "1  0.0  0.0\n",
       "2  0.0  1.0\n",
       "3  0.0  1.0\n",
       "4  0.0  1.0"
      ]
     },
     "execution_count": 41,
     "metadata": {},
     "output_type": "execute_result"
    }
   ],
   "source": [
    "from sklearn.preprocessing import OneHotEncoder\n",
    "\n",
    "ohe = OneHotEncoder(sparse=False, drop='first') #drop='first' help remove one unnecessary column\n",
    "\n",
    "df_train_ohe_property = pd.DataFrame(ohe.fit_transform(df_train[['Property_Area']]))\n",
    "df_test_ohe_property  = pd.DataFrame(ohe.fit_transform(df_test[['Property_Area']]))\n",
    "\n",
    "df_train_ohe_property.head()"
   ]
  },
  {
   "cell_type": "code",
   "execution_count": 42,
   "metadata": {},
   "outputs": [
    {
     "data": {
      "text/plain": [
       "array([[0., 0.],\n",
       "       [1., 0.],\n",
       "       [0., 1.]])"
      ]
     },
     "execution_count": 42,
     "metadata": {},
     "output_type": "execute_result"
    }
   ],
   "source": [
    "#find out the mapping\n",
    "ohe.transform(np.array([['Rural'], ['Semiurban'], ['Urban']]))"
   ]
  },
  {
   "cell_type": "code",
   "execution_count": 43,
   "metadata": {},
   "outputs": [],
   "source": [
    "# set the column name for good\n",
    "df_train_ohe_property.columns = ['Semiurban', 'Urban']\n",
    "df_test_ohe_property.columns = ['Semiurban', 'Urban']"
   ]
  },
  {
   "cell_type": "code",
   "execution_count": 44,
   "metadata": {},
   "outputs": [],
   "source": [
    "# delete the old column before joining\n",
    "df_train.drop(columns = ['Property_Area'], inplace=True)\n",
    "df_test.drop(columns = ['Property_Area'], inplace=True)"
   ]
  },
  {
   "cell_type": "code",
   "execution_count": 45,
   "metadata": {},
   "outputs": [
    {
     "data": {
      "text/html": [
       "<div>\n",
       "<style scoped>\n",
       "    .dataframe tbody tr th:only-of-type {\n",
       "        vertical-align: middle;\n",
       "    }\n",
       "\n",
       "    .dataframe tbody tr th {\n",
       "        vertical-align: top;\n",
       "    }\n",
       "\n",
       "    .dataframe thead th {\n",
       "        text-align: right;\n",
       "    }\n",
       "</style>\n",
       "<table border=\"1\" class=\"dataframe\">\n",
       "  <thead>\n",
       "    <tr style=\"text-align: right;\">\n",
       "      <th></th>\n",
       "      <th>Gender</th>\n",
       "      <th>Married</th>\n",
       "      <th>Dependents</th>\n",
       "      <th>Education</th>\n",
       "      <th>Self_Employed</th>\n",
       "      <th>ApplicantIncome</th>\n",
       "      <th>CoapplicantIncome</th>\n",
       "      <th>LoanAmount</th>\n",
       "      <th>Loan_Amount_Term</th>\n",
       "      <th>Credit_History</th>\n",
       "      <th>Loan_Status</th>\n",
       "      <th>Semiurban</th>\n",
       "      <th>Urban</th>\n",
       "    </tr>\n",
       "  </thead>\n",
       "  <tbody>\n",
       "    <tr>\n",
       "      <th>0</th>\n",
       "      <td>1</td>\n",
       "      <td>0</td>\n",
       "      <td>0</td>\n",
       "      <td>0</td>\n",
       "      <td>0</td>\n",
       "      <td>5849</td>\n",
       "      <td>0.0</td>\n",
       "      <td>128.0</td>\n",
       "      <td>360.0</td>\n",
       "      <td>1.0</td>\n",
       "      <td>1</td>\n",
       "      <td>0.0</td>\n",
       "      <td>1.0</td>\n",
       "    </tr>\n",
       "    <tr>\n",
       "      <th>1</th>\n",
       "      <td>1</td>\n",
       "      <td>1</td>\n",
       "      <td>1</td>\n",
       "      <td>0</td>\n",
       "      <td>0</td>\n",
       "      <td>4583</td>\n",
       "      <td>1508.0</td>\n",
       "      <td>128.0</td>\n",
       "      <td>360.0</td>\n",
       "      <td>1.0</td>\n",
       "      <td>0</td>\n",
       "      <td>0.0</td>\n",
       "      <td>0.0</td>\n",
       "    </tr>\n",
       "    <tr>\n",
       "      <th>2</th>\n",
       "      <td>1</td>\n",
       "      <td>1</td>\n",
       "      <td>0</td>\n",
       "      <td>0</td>\n",
       "      <td>1</td>\n",
       "      <td>3000</td>\n",
       "      <td>0.0</td>\n",
       "      <td>66.0</td>\n",
       "      <td>360.0</td>\n",
       "      <td>1.0</td>\n",
       "      <td>1</td>\n",
       "      <td>0.0</td>\n",
       "      <td>1.0</td>\n",
       "    </tr>\n",
       "    <tr>\n",
       "      <th>3</th>\n",
       "      <td>1</td>\n",
       "      <td>1</td>\n",
       "      <td>0</td>\n",
       "      <td>1</td>\n",
       "      <td>0</td>\n",
       "      <td>2583</td>\n",
       "      <td>2358.0</td>\n",
       "      <td>120.0</td>\n",
       "      <td>360.0</td>\n",
       "      <td>1.0</td>\n",
       "      <td>1</td>\n",
       "      <td>0.0</td>\n",
       "      <td>1.0</td>\n",
       "    </tr>\n",
       "    <tr>\n",
       "      <th>4</th>\n",
       "      <td>1</td>\n",
       "      <td>0</td>\n",
       "      <td>0</td>\n",
       "      <td>0</td>\n",
       "      <td>0</td>\n",
       "      <td>6000</td>\n",
       "      <td>0.0</td>\n",
       "      <td>141.0</td>\n",
       "      <td>360.0</td>\n",
       "      <td>1.0</td>\n",
       "      <td>1</td>\n",
       "      <td>0.0</td>\n",
       "      <td>1.0</td>\n",
       "    </tr>\n",
       "  </tbody>\n",
       "</table>\n",
       "</div>"
      ],
      "text/plain": [
       "   Gender  Married  Dependents  Education  Self_Employed  ApplicantIncome  \\\n",
       "0       1        0           0          0              0             5849   \n",
       "1       1        1           1          0              0             4583   \n",
       "2       1        1           0          0              1             3000   \n",
       "3       1        1           0          1              0             2583   \n",
       "4       1        0           0          0              0             6000   \n",
       "\n",
       "   CoapplicantIncome  LoanAmount  Loan_Amount_Term  Credit_History  \\\n",
       "0                0.0       128.0             360.0             1.0   \n",
       "1             1508.0       128.0             360.0             1.0   \n",
       "2                0.0        66.0             360.0             1.0   \n",
       "3             2358.0       120.0             360.0             1.0   \n",
       "4                0.0       141.0             360.0             1.0   \n",
       "\n",
       "   Loan_Status  Semiurban  Urban  \n",
       "0            1        0.0    1.0  \n",
       "1            0        0.0    0.0  \n",
       "2            1        0.0    1.0  \n",
       "3            1        0.0    1.0  \n",
       "4            1        0.0    1.0  "
      ]
     },
     "execution_count": 45,
     "metadata": {},
     "output_type": "execute_result"
    }
   ],
   "source": [
    "# join the ohe table\n",
    "df_train = df_train.join(df_train_ohe_property)\n",
    "df_test = df_test.join(df_test_ohe_property)\n",
    "\n",
    "df_train.head()"
   ]
  },
  {
   "cell_type": "code",
   "execution_count": 46,
   "metadata": {},
   "outputs": [
    {
     "name": "stdout",
     "output_type": "stream",
     "text": [
      "<class 'pandas.core.frame.DataFrame'>\n",
      "RangeIndex: 614 entries, 0 to 613\n",
      "Data columns (total 13 columns):\n",
      " #   Column             Non-Null Count  Dtype  \n",
      "---  ------             --------------  -----  \n",
      " 0   Gender             614 non-null    int64  \n",
      " 1   Married            614 non-null    int8   \n",
      " 2   Dependents         614 non-null    int64  \n",
      " 3   Education          614 non-null    int8   \n",
      " 4   Self_Employed      614 non-null    int8   \n",
      " 5   ApplicantIncome    614 non-null    int64  \n",
      " 6   CoapplicantIncome  614 non-null    float64\n",
      " 7   LoanAmount         614 non-null    float64\n",
      " 8   Loan_Amount_Term   614 non-null    float64\n",
      " 9   Credit_History     614 non-null    float64\n",
      " 10  Loan_Status        614 non-null    int8   \n",
      " 11  Semiurban          614 non-null    float64\n",
      " 12  Urban              614 non-null    float64\n",
      "dtypes: float64(6), int64(3), int8(4)\n",
      "memory usage: 45.7 KB\n"
     ]
    }
   ],
   "source": [
    "df_train.info()"
   ]
  },
  {
   "cell_type": "code",
   "execution_count": 47,
   "metadata": {},
   "outputs": [
    {
     "name": "stdout",
     "output_type": "stream",
     "text": [
      "<class 'pandas.core.frame.DataFrame'>\n",
      "RangeIndex: 367 entries, 0 to 366\n",
      "Data columns (total 12 columns):\n",
      " #   Column             Non-Null Count  Dtype  \n",
      "---  ------             --------------  -----  \n",
      " 0   Gender             367 non-null    int64  \n",
      " 1   Married            367 non-null    int8   \n",
      " 2   Dependents         367 non-null    int64  \n",
      " 3   Education          367 non-null    int8   \n",
      " 4   Self_Employed      367 non-null    int8   \n",
      " 5   ApplicantIncome    367 non-null    int64  \n",
      " 6   CoapplicantIncome  367 non-null    int64  \n",
      " 7   LoanAmount         367 non-null    float64\n",
      " 8   Loan_Amount_Term   367 non-null    float64\n",
      " 9   Credit_History     367 non-null    float64\n",
      " 10  Semiurban          367 non-null    float64\n",
      " 11  Urban              367 non-null    float64\n",
      "dtypes: float64(5), int64(4), int8(3)\n",
      "memory usage: 27.0 KB\n"
     ]
    }
   ],
   "source": [
    "df_test.info()"
   ]
  },
  {
   "cell_type": "markdown",
   "metadata": {},
   "source": [
    "## 3. Exploratory Data Analysis\n",
    "\n",
    "Last time we used correlation matrix and predictive score.  However, both are not so useful in classification problem.  Instead, we shall use boxplot to quickly plot relationship between variables."
   ]
  },
  {
   "cell_type": "code",
   "execution_count": 48,
   "metadata": {},
   "outputs": [
    {
     "data": {
      "image/png": "[encoded data removed]",
      "text/plain": [
       "<Figure size 432x288 with 1 Axes>"
      ]
     },
     "metadata": {
      "needs_background": "light"
     },
     "output_type": "display_data"
    },
    {
     "data": {
      "image/png": "[encoded data removed]",
      "text/plain": [
       "<Figure size 432x288 with 1 Axes>"
      ]
     },
     "metadata": {
      "needs_background": "light"
     },
     "output_type": "display_data"
    },
    {
     "data": {
      "image/png": "[encoded data removed]",
      "text/plain": [
       "<Figure size 432x288 with 1 Axes>"
      ]
     },
     "metadata": {
      "needs_background": "light"
     },
     "output_type": "display_data"
    },
    {
     "data": {
      "image/png": "[encoded data removed]",
      "text/plain": [
       "<Figure size 432x288 with 1 Axes>"
      ]
     },
     "metadata": {
      "needs_background": "light"
     },
     "output_type": "display_data"
    },
    {
     "data": {
      "image/png": "[encoded data removed]",
      "text/plain": [
       "<Figure size 432x288 with 1 Axes>"
      ]
     },
     "metadata": {
      "needs_background": "light"
     },
     "output_type": "display_data"
    },
    {
     "data": {
      "image/png": "[encoded data removed]",
      "text/plain": [
       "<Figure size 432x288 with 1 Axes>"
      ]
     },
     "metadata": {
      "needs_background": "light"
     },
     "output_type": "display_data"
    },
    {
     "data": {
      "image/png": "[encoded data removed]",
      "text/plain": [
       "<Figure size 432x288 with 1 Axes>"
      ]
     },
     "metadata": {
      "needs_background": "light"
     },
     "output_type": "display_data"
    },
    {
     "data": {
      "image/png": "[encoded data removed]",
      "text/plain": [
       "<Figure size 432x288 with 1 Axes>"
      ]
     },
     "metadata": {
      "needs_background": "light"
     },
     "output_type": "display_data"
    },
    {
     "data": {
      "image/png": "[encoded data removed]",
      "text/plain": [
       "<Figure size 432x288 with 1 Axes>"
      ]
     },
     "metadata": {
      "needs_background": "light"
     },
     "output_type": "display_data"
    }
   ],
   "source": [
    "categorical = ['Gender', 'Married', 'Dependents', 'Education', 'Self_Employed', 'Loan_Amount_Term', 'Credit_History', 'Semiurban', 'Urban']\n",
    "\n",
    "for col in categorical:\n",
    "    sns.countplot(x=col,data=df_train,hue='Loan_Status')\n",
    "    plt.show()"
   ]
  },
  {
   "cell_type": "markdown",
   "metadata": {},
   "source": [
    "What we learn:\n",
    "    \n",
    "1. Male are more likely to get loans\n",
    "2. Married people are more likely to get loans\n",
    "3. No dependents are more likely to get loans\n",
    "4. Graduates are more likely to get loans\n",
    "5. Not self-employed is more likely to get loans\n",
    "6. Majority of loans are 360 months\n",
    "7. People with credit history are more likely to get loans\n",
    "8. Semiurban and urban people are more likely to get loans\n",
    "\n",
    "Let's also look at numerical column."
   ]
  },
  {
   "cell_type": "code",
   "execution_count": 49,
   "metadata": {},
   "outputs": [
    {
     "name": "stdout",
     "output_type": "stream",
     "text": [
      "<class 'pandas.core.frame.DataFrame'>\n",
      "RangeIndex: 614 entries, 0 to 613\n",
      "Data columns (total 13 columns):\n",
      " #   Column             Non-Null Count  Dtype  \n",
      "---  ------             --------------  -----  \n",
      " 0   Gender             614 non-null    int64  \n",
      " 1   Married            614 non-null    int8   \n",
      " 2   Dependents         614 non-null    int64  \n",
      " 3   Education          614 non-null    int8   \n",
      " 4   Self_Employed      614 non-null    int8   \n",
      " 5   ApplicantIncome    614 non-null    int64  \n",
      " 6   CoapplicantIncome  614 non-null    float64\n",
      " 7   LoanAmount         614 non-null    float64\n",
      " 8   Loan_Amount_Term   614 non-null    float64\n",
      " 9   Credit_History     614 non-null    float64\n",
      " 10  Loan_Status        614 non-null    int8   \n",
      " 11  Semiurban          614 non-null    float64\n",
      " 12  Urban              614 non-null    float64\n",
      "dtypes: float64(6), int64(3), int8(4)\n",
      "memory usage: 45.7 KB\n"
     ]
    }
   ],
   "source": [
    "df_train.info()"
   ]
  },
  {
   "cell_type": "code",
   "execution_count": 50,
   "metadata": {
    "scrolled": true
   },
   "outputs": [
    {
     "data": {
      "image/png": "[encoded data removed]",
      "text/plain": [
       "<Figure size 432x288 with 1 Axes>"
      ]
     },
     "metadata": {
      "needs_background": "light"
     },
     "output_type": "display_data"
    },
    {
     "data": {
      "image/png": "[encoded data removed]",
      "text/plain": [
       "<Figure size 432x288 with 1 Axes>"
      ]
     },
     "metadata": {
      "needs_background": "light"
     },
     "output_type": "display_data"
    },
    {
     "data": {
      "image/png": "[encoded data removed]",
      "text/plain": [
       "<Figure size 432x288 with 1 Axes>"
      ]
     },
     "metadata": {
      "needs_background": "light"
     },
     "output_type": "display_data"
    }
   ],
   "source": [
    "numerical = ['ApplicantIncome', 'CoapplicantIncome', 'LoanAmount']\n",
    "\n",
    "for col in numerical:\n",
    "    sns.boxplot(y=col,data=df_train,x='Loan_Status')\n",
    "    plt.show()"
   ]
  },
  {
   "cell_type": "markdown",
   "metadata": {},
   "source": [
    "It's clear that numerical columns have little relationship...."
   ]
  },
  {
   "cell_type": "markdown",
   "metadata": {},
   "source": [
    "## 4) Modeling\n",
    "\n",
    "Before we can do modeling, let's change everything to int"
   ]
  },
  {
   "cell_type": "markdown",
   "metadata": {},
   "source": [
    "### Setting X and y\n",
    "\n",
    "Let's set X and y.  For X, we shall drop Loan_Status, and all numeric data based on our box plot analysis (for now, we not gonna trust the ppsscore).  For y, it is Loan_Status"
   ]
  },
  {
   "cell_type": "code",
   "execution_count": 51,
   "metadata": {},
   "outputs": [],
   "source": [
    "X_train = df_train.drop(columns=['LoanAmount', 'ApplicantIncome', 'CoapplicantIncome', 'Loan_Status'])\n",
    "y_train = df_train['Loan_Status']"
   ]
  },
  {
   "cell_type": "code",
   "execution_count": 52,
   "metadata": {},
   "outputs": [],
   "source": [
    "X_test  = df_test.drop(columns=numerical)\n",
    "#note that our test set has no loan_status because this is what we have..."
   ]
  },
  {
   "cell_type": "markdown",
   "metadata": {},
   "source": [
    "### Scaling"
   ]
  },
  {
   "cell_type": "code",
   "execution_count": 53,
   "metadata": {},
   "outputs": [],
   "source": [
    "# split X and y into X_train, X_val, y_train, y_val\n",
    "from sklearn.preprocessing import StandardScaler\n",
    "\n",
    "sc = StandardScaler()\n",
    "X_train = sc.fit_transform(X_train)\n",
    "X_test  = sc.transform(X_test)"
   ]
  },
  {
   "cell_type": "markdown",
   "metadata": {},
   "source": [
    "### Train a classification model"
   ]
  },
  {
   "cell_type": "code",
   "execution_count": 54,
   "metadata": {},
   "outputs": [],
   "source": [
    "from sklearn.linear_model import LogisticRegression as lr\n",
    "from sklearn.tree import DecisionTreeClassifier as dt\n",
    "from sklearn.neighbors import KNeighborsClassifier as knn\n",
    "from sklearn.ensemble import RandomForestClassifier as rf\n",
    "from sklearn.svm import SVC as sv\n",
    "\n",
    "from sklearn.metrics import classification_report\n",
    "\n",
    "# models that we will be using, put them in a list\n",
    "algorithms = [lr(), dt(), knn(), rf(), sv()]\n",
    "\n",
    "# The names of the models\n",
    "algorithm_names = [\"Logistic Regression\", \"Decision Tree\", \"KNeighbors\", \"Random-Forest Regressor\", \"Support Vector Machine\"]"
   ]
  },
  {
   "cell_type": "markdown",
   "metadata": {},
   "source": [
    "Let's do some simple cross-validation here....(note that you can also do nested cv here...but I am too lazy)"
   ]
  },
  {
   "cell_type": "code",
   "execution_count": 55,
   "metadata": {},
   "outputs": [
    {
     "name": "stdout",
     "output_type": "stream",
     "text": [
      "Logistic Regression - Score: [0.83739837 0.7804878  0.77235772 0.82926829 0.81967213]; Mean: 0.8078368652538984\n",
      "Decision Tree - Score: [0.74796748 0.75609756 0.69105691 0.7398374  0.72131148]; Mean: 0.7312541650006663\n",
      "KNeighbors - Score: [0.79674797 0.74796748 0.82113821 0.82926829 0.80327869]; Mean: 0.7996801279488205\n",
      "Random-Forest Regressor - Score: [0.78861789 0.75609756 0.77235772 0.78861789 0.76229508]; Mean: 0.7735972277755564\n",
      "Support Vector Machine - Score: [0.80487805 0.76422764 0.80487805 0.81300813 0.85245902]; Mean: 0.8078901772624283\n"
     ]
    }
   ],
   "source": [
    "from sklearn.model_selection import KFold, cross_val_score\n",
    "\n",
    "#lists for keeping mse\n",
    "train_mse = []\n",
    "test_mse = []\n",
    "\n",
    "#defining splits\n",
    "kfold = KFold(n_splits=5, shuffle=True)\n",
    "\n",
    "for i, model in enumerate(algorithms):\n",
    "    scores = cross_val_score(model, X_train, y_train, cv=kfold, scoring='accuracy')\n",
    "    print(f\"{algorithm_names[i]} - Score: {scores}; Mean: {scores.mean()}\")"
   ]
  },
  {
   "cell_type": "markdown",
   "metadata": {},
   "source": [
    "### Grid Search"
   ]
  },
  {
   "cell_type": "code",
   "execution_count": 56,
   "metadata": {
    "scrolled": true
   },
   "outputs": [
    {
     "data": {
      "text/plain": [
       "GridSearchCV(cv=KFold(n_splits=5, random_state=None, shuffle=True),\n",
       "             estimator=LogisticRegression(),\n",
       "             param_grid={'solver': ['newton-cg', 'lbfgs', 'liblinear']},\n",
       "             scoring='f1_macro')"
      ]
     },
     "execution_count": 56,
     "metadata": {},
     "output_type": "execute_result"
    }
   ],
   "source": [
    "from sklearn.model_selection import GridSearchCV\n",
    "\n",
    "model = lr()\n",
    "\n",
    "param_grid = dict()\n",
    "param_grid['solver'] = ['newton-cg', 'lbfgs', 'liblinear']\n",
    "\n",
    "grid = GridSearchCV(model, param_grid, cv=kfold, refit=True, scoring='f1_macro')\n",
    "grid.fit(X_train, y_train)"
   ]
  },
  {
   "cell_type": "code",
   "execution_count": 57,
   "metadata": {},
   "outputs": [
    {
     "data": {
      "text/plain": [
       "{'solver': 'newton-cg'}"
      ]
     },
     "execution_count": 57,
     "metadata": {},
     "output_type": "execute_result"
    }
   ],
   "source": [
    "grid.best_params_"
   ]
  },
  {
   "cell_type": "code",
   "execution_count": 58,
   "metadata": {},
   "outputs": [],
   "source": [
    "# Find your grid_search's best score\n",
    "best_accuracy = grid.best_score_"
   ]
  },
  {
   "cell_type": "code",
   "execution_count": 59,
   "metadata": {},
   "outputs": [
    {
     "data": {
      "text/plain": [
       "0.7318900535362534"
      ]
     },
     "execution_count": 59,
     "metadata": {},
     "output_type": "execute_result"
    }
   ],
   "source": [
    "best_accuracy"
   ]
  },
  {
   "cell_type": "markdown",
   "metadata": {},
   "source": [
    "### Feature Importance\n",
    "\n",
    "Unfortunately, Logistic Regression by sklearn does not provide feature importance, thus we cannot use <code>Shap</code>.  Since we also don't have y_test, we also cannot use permutation technique.\n",
    "\n",
    "The good news is that computing feature importance of logistic regression is simple, i.e., based on its weights on the feature.  The bigger weight on that feature indicates higher importance."
   ]
  },
  {
   "cell_type": "code",
   "execution_count": 60,
   "metadata": {},
   "outputs": [
    {
     "data": {
      "text/plain": [
       "array([-0.00234937,  0.24890748,  0.00388824, -0.11664171,  0.00954858,\n",
       "       -0.0555614 ,  1.25762612,  0.42418527,  0.0979244 ])"
      ]
     },
     "execution_count": 60,
     "metadata": {},
     "output_type": "execute_result"
    }
   ],
   "source": [
    "#obtain the weights\n",
    "model = grid.best_estimator_\n",
    "weights = model.coef_\n",
    "\n",
    "weights[0]"
   ]
  },
  {
   "cell_type": "code",
   "execution_count": 61,
   "metadata": {},
   "outputs": [
    {
     "data": {
      "text/plain": [
       "Index(['Gender', 'Married', 'Dependents', 'Education', 'Self_Employed',\n",
       "       'Loan_Amount_Term', 'Credit_History', 'Semiurban', 'Urban'],\n",
       "      dtype='object')"
      ]
     },
     "execution_count": 61,
     "metadata": {},
     "output_type": "execute_result"
    }
   ],
   "source": [
    "#obtain column name\n",
    "our_df = df_train.drop(columns=['LoanAmount', 'ApplicantIncome', 'CoapplicantIncome', 'Loan_Status'])\n",
    "column_names = our_df.columns\n",
    "column_names"
   ]
  },
  {
   "cell_type": "code",
   "execution_count": 62,
   "metadata": {
    "scrolled": true
   },
   "outputs": [
    {
     "data": {
      "image/png": "[encoded data removed]",
      "text/plain": [
       "<Figure size 432x288 with 1 Axes>"
      ]
     },
     "metadata": {
      "needs_background": "light"
     },
     "output_type": "display_data"
    }
   ],
   "source": [
    "import math\n",
    "\n",
    "feature_importance = pd.DataFrame(column_names, columns = [\"feature\"])\n",
    "feature_importance[\"importance\"] = pow(math.e, weights[0])\n",
    "feature_importance = feature_importance.sort_values(by = [\"importance\"], ascending=True)\n",
    "\n",
    "ax = feature_importance.plot.barh(x='feature', y='importance')\n",
    "plt.show()"
   ]
  },
  {
   "cell_type": "markdown",
   "metadata": {},
   "source": [
    "**Very important note**: before using technique, make sure to use <code>StandardScaler()</code> first to put everything in same scale, if not, your feature importance would give wrong results.  Luckily, we have done this as common practice throughout the course."
   ]
  },
  {
   "cell_type": "markdown",
   "metadata": {},
   "source": [
    "### Inference"
   ]
  },
  {
   "cell_type": "code",
   "execution_count": 63,
   "metadata": {},
   "outputs": [
    {
     "name": "stdout",
     "output_type": "stream",
     "text": [
      "[1 1 1 0 1 1 1 0 1 1 1 1 1 0 1 1 1 1 1 1 1 1 1 1 1 0 1 1 0 1 1 1 1 1 1 0 1\n",
      " 1 1 1 1 1 1 1 1 1 1 1 1 1 1 1 1 1 1 0 1 1 0 1 1 1 1 0 1 1 0 0 1 0 1 1 1 1\n",
      " 1 1 1 1 1 1 0 1 0 1 0 1 1 1 1 1 1 1 1 1 0 1 1 1 1 1 1 0 1 1 1 1 0 1 1 1 1\n",
      " 1 1 1 1 1 1 0 0 0 1 1 1 0 0 1 0 1 1 1 1 1 1 1 1 1 1 1 1 1 0 1 0 1 1 1 1 0\n",
      " 1 1 1 1 1 0 1 1 1 1 1 1 1 0 1 1 1 0 0 1 0 1 1 1 1 0 0 1 1 1 1 1 1 1 1 1 1\n",
      " 1 1 1 1 1 1 1 0 0 1 1 0 1 0 1 1 1 1 1 1 1 1 1 1 1 1 0 1 1 1 1 1 1 1 1 1 1\n",
      " 1 1 0 1 1 1 1 0 1 1 1 1 1 0 0 1 1 1 1 0 1 0 1 0 1 1 1 1 0 1 1 1 1 0 1 1 1\n",
      " 1 1 1 1 1 1 1 0 1 0 1 1 1 1 0 0 1 1 1 0 1 1 1 1 1 1 1 1 1 1 1 1 1 1 0 1 1\n",
      " 1 1 1 1 1 0 1 1 1 1 1 1 1 1 1 0 1 1 1 1 1 0 1 1 1 1 1 1 1 0 1 1 1 1 1 1 1\n",
      " 1 1 1 1 1 1 0 1 1 1 1 1 1 0 1 1 1 1 1 1 1 0 1 1 1 1 1 1 1 1 1 0 1 1]\n"
     ]
    }
   ],
   "source": [
    "yhat = grid.predict(X_test)\n",
    "print(yhat)  #submit this to kaggle"
   ]
  },
  {
   "cell_type": "markdown",
   "metadata": {},
   "source": [
    "### Inference using probability\n",
    "\n",
    "Sometimes, your production requires you to output probabilities, instead of exact class, which is more liberal.  Most classification algorithm has a function <code>predict_proba</code>."
   ]
  },
  {
   "cell_type": "code",
   "execution_count": 64,
   "metadata": {},
   "outputs": [
    {
     "name": "stdout",
     "output_type": "stream",
     "text": [
      "[[0.19479676 0.80520324]\n",
      " [0.19429654 0.80570346]\n",
      " [0.1937973  0.8062027 ]\n",
      " [0.88766626 0.11233374]\n",
      " [0.35105876 0.64894124]\n",
      " [0.23796468 0.76203532]\n",
      " [0.21596285 0.78403715]\n",
      " [0.92810442 0.07189558]\n",
      " [0.17429517 0.82570483]\n",
      " [0.21753053 0.78246947]\n",
      " [0.35105876 0.64894124]\n",
      " [0.10763013 0.89236987]\n",
      " [0.25658193 0.74341807]\n",
      " [0.80240506 0.19759494]\n",
      " [0.17242353 0.82757647]\n",
      " [0.28905651 0.71094349]\n",
      " [0.1937973  0.8062027 ]\n",
      " [0.10932698 0.89067302]\n",
      " [0.19479676 0.80520324]\n",
      " [0.15228785 0.84771215]\n",
      " [0.24233133 0.75766867]\n",
      " [0.31271375 0.68728625]\n",
      " [0.28971297 0.71028703]\n",
      " [0.34968353 0.65031647]\n",
      " [0.19479676 0.80520324]\n",
      " [0.94290685 0.05709315]\n",
      " [0.1937973  0.8062027 ]\n",
      " [0.19479676 0.80520324]\n",
      " [0.80341538 0.19658462]\n",
      " [0.25902515 0.74097485]\n",
      " [0.21650386 0.78349614]\n",
      " [0.1937973  0.8062027 ]\n",
      " [0.17328739 0.82671261]\n",
      " [0.19479676 0.80520324]\n",
      " [0.19479676 0.80520324]\n",
      " [0.87326473 0.12673527]\n",
      " [0.17082587 0.82917413]\n",
      " [0.19057773 0.80942227]\n",
      " [0.28416367 0.71583633]\n",
      " [0.28971297 0.71028703]\n",
      " [0.19479676 0.80520324]\n",
      " [0.28847122 0.71152878]\n",
      " [0.14155003 0.85844997]\n",
      " [0.17328739 0.82671261]\n",
      " [0.28847122 0.71152878]\n",
      " [0.19479676 0.80520324]\n",
      " [0.24233133 0.75766867]\n",
      " [0.21753053 0.78246947]\n",
      " [0.28971297 0.71028703]\n",
      " [0.1367716  0.8632284 ]\n",
      " [0.19429654 0.80570346]\n",
      " [0.14000551 0.85999449]\n",
      " [0.11026301 0.88973699]\n",
      " [0.17082587 0.82917413]\n",
      " [0.23796468 0.76203532]\n",
      " [0.93059502 0.06940498]\n",
      " [0.39842961 0.60157039]\n",
      " [0.09573724 0.90426276]\n",
      " [0.80144534 0.19855466]\n",
      " [0.09518595 0.90481405]\n",
      " [0.14155003 0.85844997]\n",
      " [0.19057773 0.80942227]\n",
      " [0.1715144  0.8284856 ]\n",
      " [0.94258072 0.05741928]\n",
      " [0.24057731 0.75942269]\n",
      " [0.11057658 0.88942342]\n",
      " [0.84424637 0.15575363]\n",
      " [0.80341538 0.19658462]\n",
      " [0.11057658 0.88942342]\n",
      " [0.90736888 0.09263112]\n",
      " [0.17242353 0.82757647]\n",
      " [0.17328739 0.82671261]\n",
      " [0.15717027 0.84282973]\n",
      " [0.22481171 0.77518829]\n",
      " [0.14155003 0.85844997]\n",
      " [0.28971297 0.71028703]\n",
      " [0.19479676 0.80520324]\n",
      " [0.32838836 0.67161164]\n",
      " [0.11026301 0.88973699]\n",
      " [0.19385081 0.80614919]\n",
      " [0.88702805 0.11297195]\n",
      " [0.19280173 0.80719827]\n",
      " [0.93467178 0.06532822]\n",
      " [0.22957367 0.77042633]\n",
      " [0.77790789 0.22209211]\n",
      " [0.20239898 0.79760102]\n",
      " [0.19479676 0.80520324]\n",
      " [0.17328739 0.82671261]\n",
      " [0.21644577 0.78355423]\n",
      " [0.3330544  0.6669456 ]\n",
      " [0.22481171 0.77518829]\n",
      " [0.22732302 0.77267698]\n",
      " [0.11026301 0.88973699]\n",
      " [0.140776   0.859224  ]\n",
      " [0.80291071 0.19708929]\n",
      " [0.10874003 0.89125997]\n",
      " [0.19429654 0.80570346]\n",
      " [0.11057658 0.88942342]\n",
      " [0.19280173 0.80719827]\n",
      " [0.10932698 0.89067302]\n",
      " [0.33439786 0.66560214]\n",
      " [0.81825641 0.18174359]\n",
      " [0.19429654 0.80570346]\n",
      " [0.25181085 0.74818915]\n",
      " [0.17328739 0.82671261]\n",
      " [0.10998375 0.89001625]\n",
      " [0.93020376 0.06979624]\n",
      " [0.22732302 0.77267698]\n",
      " [0.11057658 0.88942342]\n",
      " [0.24291794 0.75708206]\n",
      " [0.16858761 0.83141239]\n",
      " [0.11057658 0.88942342]\n",
      " [0.28847122 0.71152878]\n",
      " [0.10936034 0.89063966]\n",
      " [0.22957367 0.77042633]\n",
      " [0.17146574 0.82853426]\n",
      " [0.21650386 0.78349614]\n",
      " [0.90710022 0.09289978]\n",
      " [0.93020376 0.06979624]\n",
      " [0.90683086 0.09316914]\n",
      " [0.28971297 0.71028703]\n",
      " [0.22957367 0.77042633]\n",
      " [0.19280173 0.80719827]\n",
      " [0.94290685 0.05709315]\n",
      " [0.93020376 0.06979624]\n",
      " [0.17328739 0.82671261]\n",
      " [0.93059502 0.06940498]\n",
      " [0.1937973  0.8062027 ]\n",
      " [0.25902515 0.74097485]\n",
      " [0.14116257 0.85883743]\n",
      " [0.19479676 0.80520324]\n",
      " [0.33439786 0.66560214]\n",
      " [0.22425588 0.77574412]\n",
      " [0.28781644 0.71218356]\n",
      " [0.24354983 0.75645017]\n",
      " [0.19479676 0.80520324]\n",
      " [0.22844639 0.77155361]\n",
      " [0.22900954 0.77099046]\n",
      " [0.17237466 0.82762534]\n",
      " [0.17060908 0.82939092]\n",
      " [0.94290685 0.05709315]\n",
      " [0.20976689 0.79023311]\n",
      " [0.91238637 0.08761363]\n",
      " [0.10793712 0.89206288]\n",
      " [0.17617663 0.82382337]\n",
      " [0.27803262 0.72196738]\n",
      " [0.21753053 0.78246947]\n",
      " [0.95519307 0.04480693]\n",
      " [0.11026301 0.88973699]\n",
      " [0.28971297 0.71028703]\n",
      " [0.28971297 0.71028703]\n",
      " [0.19479676 0.80520324]\n",
      " [0.33439786 0.66560214]\n",
      " [0.9131489  0.0868511 ]\n",
      " [0.22844639 0.77155361]\n",
      " [0.20445827 0.79554173]\n",
      " [0.18959481 0.81040519]\n",
      " [0.22806138 0.77193862]\n",
      " [0.17283055 0.82716945]\n",
      " [0.28326362 0.71673638]\n",
      " [0.33439786 0.66560214]\n",
      " [0.87023246 0.12976754]\n",
      " [0.28971297 0.71028703]\n",
      " [0.3330544  0.6669456 ]\n",
      " [0.31122578 0.68877422]\n",
      " [0.90136893 0.09863107]\n",
      " [0.94643827 0.05356173]\n",
      " [0.19479676 0.80520324]\n",
      " [0.79605942 0.20394058]\n",
      " [0.22794449 0.77205551]\n",
      " [0.3330544  0.6669456 ]\n",
      " [0.2819692  0.7180308 ]\n",
      " [0.22957367 0.77042633]\n",
      " [0.91994519 0.08005481]\n",
      " [0.92852927 0.07147073]\n",
      " [0.22844639 0.77155361]\n",
      " [0.24174569 0.75825431]\n",
      " [0.3330544  0.6669456 ]\n",
      " [0.22844639 0.77155361]\n",
      " [0.19280173 0.80719827]\n",
      " [0.10995023 0.89004977]\n",
      " [0.11057658 0.88942342]\n",
      " [0.1937973  0.8062027 ]\n",
      " [0.22794449 0.77205551]\n",
      " [0.19280173 0.80719827]\n",
      " [0.14155003 0.85844997]\n",
      " [0.140776   0.859224  ]\n",
      " [0.10995023 0.89004977]\n",
      " [0.28326362 0.71673638]\n",
      " [0.22844639 0.77155361]\n",
      " [0.18900461 0.81099539]\n",
      " [0.28971297 0.71028703]\n",
      " [0.92627346 0.07372654]\n",
      " [0.92767723 0.07232277]\n",
      " [0.11026301 0.88973699]\n",
      " [0.28416367 0.71583633]\n",
      " [0.80291071 0.19708929]\n",
      " [0.28326362 0.71673638]\n",
      " [0.88766626 0.11233374]\n",
      " [0.22481171 0.77518829]\n",
      " [0.24323941 0.75676059]\n",
      " [0.24057731 0.75942269]\n",
      " [0.19280173 0.80719827]\n",
      " [0.10998375 0.89001625]\n",
      " [0.17242353 0.82757647]\n",
      " [0.11057658 0.88942342]\n",
      " [0.11026301 0.88973699]\n",
      " [0.11026301 0.88973699]\n",
      " [0.28847122 0.71152878]\n",
      " [0.39911285 0.60088715]\n",
      " [0.28847122 0.71152878]\n",
      " [0.94290685 0.05709315]\n",
      " [0.10671377 0.89328623]\n",
      " [0.33439786 0.66560214]\n",
      " [0.28326362 0.71673638]\n",
      " [0.23358657 0.76641343]\n",
      " [0.1110413  0.8889587 ]\n",
      " [0.22957367 0.77042633]\n",
      " [0.22425588 0.77574412]\n",
      " [0.19429654 0.80570346]\n",
      " [0.19479676 0.80520324]\n",
      " [0.28326362 0.71673638]\n",
      " [0.26109394 0.73890606]\n",
      " [0.32103577 0.67896423]\n",
      " [0.86882269 0.13117731]\n",
      " [0.28847122 0.71152878]\n",
      " [0.19479676 0.80520324]\n",
      " [0.22900954 0.77099046]\n",
      " [0.33439786 0.66560214]\n",
      " [0.91238637 0.08761363]\n",
      " [0.17328739 0.82671261]\n",
      " [0.28416367 0.71583633]\n",
      " [0.20343162 0.79656838]\n",
      " [0.17196849 0.82803151]\n",
      " [0.19385081 0.80614919]\n",
      " [0.93059502 0.06940498]\n",
      " [0.87259453 0.12740547]\n",
      " [0.2819692  0.7180308 ]\n",
      " [0.140776   0.859224  ]\n",
      " [0.31132405 0.68867595]\n",
      " [0.35105876 0.64894124]\n",
      " [0.80341538 0.19658462]\n",
      " [0.11057658 0.88942342]\n",
      " [0.90736888 0.09263112]\n",
      " [0.21650386 0.78349614]\n",
      " [0.77790789 0.22209211]\n",
      " [0.18959481 0.81040519]\n",
      " [0.19429654 0.80570346]\n",
      " [0.13828619 0.86171381]\n",
      " [0.30098251 0.69901749]\n",
      " [0.89693089 0.10306911]\n",
      " [0.10561971 0.89438029]\n",
      " [0.17196849 0.82803151]\n",
      " [0.1937973  0.8062027 ]\n",
      " [0.19335244 0.80664756]\n",
      " [0.94290685 0.05709315]\n",
      " [0.22850677 0.77149323]\n",
      " [0.19479676 0.80520324]\n",
      " [0.22957367 0.77042633]\n",
      " [0.33234568 0.66765432]\n",
      " [0.14000551 0.85999449]\n",
      " [0.11057658 0.88942342]\n",
      " [0.33439786 0.66560214]\n",
      " [0.22900954 0.77099046]\n",
      " [0.22844639 0.77155361]\n",
      " [0.17146574 0.82853426]\n",
      " [0.92052515 0.07947485]\n",
      " [0.39766473 0.60233527]\n",
      " [0.90683086 0.09316914]\n",
      " [0.33439786 0.66560214]\n",
      " [0.23947516 0.76052484]\n",
      " [0.32705718 0.67294282]\n",
      " [0.17283055 0.82716945]\n",
      " [0.80240506 0.19759494]\n",
      " [0.87259453 0.12740547]\n",
      " [0.10932698 0.89067302]\n",
      " [0.19479676 0.80520324]\n",
      " [0.15150948 0.84849052]\n",
      " [0.84255992 0.15744008]\n",
      " [0.17242353 0.82757647]\n",
      " [0.17328739 0.82671261]\n",
      " [0.22957367 0.77042633]\n",
      " [0.28847122 0.71152878]\n",
      " [0.39987867 0.60012133]\n",
      " [0.19285504 0.80714496]\n",
      " [0.19008578 0.80991422]\n",
      " [0.28326362 0.71673638]\n",
      " [0.33439786 0.66560214]\n",
      " [0.28971297 0.71028703]\n",
      " [0.19429654 0.80570346]\n",
      " [0.11057658 0.88942342]\n",
      " [0.1937973  0.8062027 ]\n",
      " [0.39987867 0.60012133]\n",
      " [0.88770041 0.11229959]\n",
      " [0.24233133 0.75766867]\n",
      " [0.12046171 0.87953829]\n",
      " [0.17328739 0.82671261]\n",
      " [0.39987867 0.60012133]\n",
      " [0.14004675 0.85995325]\n",
      " [0.22844639 0.77155361]\n",
      " [0.19008578 0.80991422]\n",
      " [0.88798418 0.11201582]\n",
      " [0.32635499 0.67364501]\n",
      " [0.27714956 0.72285044]\n",
      " [0.11057658 0.88942342]\n",
      " [0.21644577 0.78355423]\n",
      " [0.22370103 0.77629897]\n",
      " [0.2819692  0.7180308 ]\n",
      " [0.22900954 0.77099046]\n",
      " [0.11057658 0.88942342]\n",
      " [0.28971297 0.71028703]\n",
      " [0.94188571 0.05811429]\n",
      " [0.24354983 0.75645017]\n",
      " [0.22844639 0.77155361]\n",
      " [0.27803262 0.72196738]\n",
      " [0.0957669  0.9042331 ]\n",
      " [0.22850677 0.77149323]\n",
      " [0.91340174 0.08659826]\n",
      " [0.39842961 0.60157039]\n",
      " [0.28971297 0.71028703]\n",
      " [0.22900954 0.77099046]\n",
      " [0.24180848 0.75819152]\n",
      " [0.16279312 0.83720688]\n",
      " [0.17283055 0.82716945]\n",
      " [0.22957367 0.77042633]\n",
      " [0.83572454 0.16427546]\n",
      " [0.14116257 0.85883743]\n",
      " [0.1937973  0.8062027 ]\n",
      " [0.22259425 0.77740575]\n",
      " [0.11026301 0.88973699]\n",
      " [0.22957367 0.77042633]\n",
      " [0.19280173 0.80719827]\n",
      " [0.2412237  0.7587763 ]\n",
      " [0.10998375 0.89001625]\n",
      " [0.11057658 0.88942342]\n",
      " [0.28840093 0.71159907]\n",
      " [0.34968353 0.65031647]\n",
      " [0.19479676 0.80520324]\n",
      " [0.20687321 0.79312679]\n",
      " [0.94258072 0.05741928]\n",
      " [0.09395689 0.90604311]\n",
      " [0.32838836 0.67161164]\n",
      " [0.25060989 0.74939011]\n",
      " [0.19429654 0.80570346]\n",
      " [0.33439786 0.66560214]\n",
      " [0.19280173 0.80719827]\n",
      " [0.90736888 0.09263112]\n",
      " [0.35105876 0.64894124]\n",
      " [0.24174569 0.75825431]\n",
      " [0.21597746 0.78402254]\n",
      " [0.22844639 0.77155361]\n",
      " [0.33439786 0.66560214]\n",
      " [0.19479676 0.80520324]\n",
      " [0.22957367 0.77042633]\n",
      " [0.82099993 0.17900007]\n",
      " [0.19280173 0.80719827]\n",
      " [0.19429654 0.80570346]\n",
      " [0.28971297 0.71028703]\n",
      " [0.2819692  0.7180308 ]\n",
      " [0.17328739 0.82671261]\n",
      " [0.19385081 0.80614919]\n",
      " [0.11026301 0.88973699]\n",
      " [0.23565692 0.76434308]\n",
      " [0.19479676 0.80520324]\n",
      " [0.87326473 0.12673527]\n",
      " [0.22957367 0.77042633]\n",
      " [0.29530709 0.70469291]]\n"
     ]
    }
   ],
   "source": [
    "yhat_prob = grid.predict_proba(X_test)\n",
    "print(yhat_prob)  "
   ]
  },
  {
   "cell_type": "markdown",
   "metadata": {},
   "source": [
    "### Save model for deployment"
   ]
  },
  {
   "cell_type": "code",
   "execution_count": 65,
   "metadata": {},
   "outputs": [],
   "source": [
    "import pickle\n",
    "\n",
    "# save the model to disk\n",
    "filename = 'model/loan.model'\n",
    "pickle.dump(grid, open(filename, 'wb'))"
   ]
  },
  {
   "cell_type": "markdown",
   "metadata": {},
   "source": [
    "### Loading model"
   ]
  },
  {
   "cell_type": "code",
   "execution_count": 66,
   "metadata": {},
   "outputs": [],
   "source": [
    "# load the model from disk\n",
    "loaded_model = pickle.load(open(filename, 'rb'))\n",
    "yhat = loaded_model.predict(X_test)"
   ]
  }
 ],
 "metadata": {
  "kernelspec": {
   "display_name": "Python 3",
   "language": "python",
   "name": "python3"
  },
  "language_info": {
   "codemirror_mode": {
    "name": "ipython",
    "version": 3
   },
   "file_extension": ".py",
   "mimetype": "text/x-python",
   "name": "python",
   "nbconvert_exporter": "python",
   "pygments_lexer": "ipython3",
   "version": "3.8.6"
  }
 },
 "nbformat": 4,
 "nbformat_minor": 5
}
