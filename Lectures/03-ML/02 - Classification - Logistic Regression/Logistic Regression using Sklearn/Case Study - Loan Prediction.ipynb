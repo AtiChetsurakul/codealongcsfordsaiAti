{
 "cells": [
  {
   "cell_type": "markdown",
   "metadata": {},
   "source": [
    "# Programming for Data Science and Artificial Intelligence\n",
    "\n",
    "## Case Study - Loan Prediction"
   ]
  },
  {
   "cell_type": "markdown",
   "metadata": {},
   "source": [
    "This dataset concern the data of loan application and the result whether if the loan was approved or not.\n",
    "\n",
    "- **Loan_ID** - unique loan ID\n",
    "- **Gender** - male/female\n",
    "- **Married** - yes/no\n",
    "- **Dependents** - number of dependents\n",
    "- **Education** - graduate/undergraduate\n",
    "- **Self_Employed** - yes/no\n",
    "- **ApplicantIncome** - applicant income\n",
    "- **CoapplicantIncome** - coapplicant income\n",
    "- **LoanAmount** - loan amount in thousands\n",
    "- **Loan_Amount_Term** - term of lean in months\n",
    "- **Credit_History** - credit history meets guidelines\n",
    "- **Property_Area** - Urban/semi and Rural\n",
    "- **Loan_Status** - approved yes/no \n",
    "\n",
    "We are given 2 set, the training set and the test set.\n",
    "\n",
    "The **training set** contains 614 samples and 13 features, 12 of which are the independent variables and the last feature `Loan_Status` is the dependent variable.\n",
    "\n",
    "The **test set** contains 367 samples with the same 12 features but without the `Loan_Status` columns. So it will be representing the unseen data that we will be implementing our model on."
   ]
  },
  {
   "cell_type": "markdown",
   "metadata": {},
   "source": [
    "## 1. Import data"
   ]
  },
  {
   "cell_type": "code",
   "execution_count": 1,
   "metadata": {},
   "outputs": [],
   "source": [
    "import pandas as pd\n",
    "\n",
    "df_train = pd.read_csv('data/train_LoanPrediction.csv')\n",
    "df_test  = pd.read_csv('data/test_LoanPrediction.csv')"
   ]
  },
  {
   "cell_type": "code",
   "execution_count": 2,
   "metadata": {},
   "outputs": [
    {
     "name": "stdout",
     "output_type": "stream",
     "text": [
      "Training data shape :  (614, 13)\n",
      "Test data shape     :  (367, 12)\n"
     ]
    }
   ],
   "source": [
    "# Check the shape of Training and Test set\n",
    "print('Training data shape : ', df_train.shape)\n",
    "print('Test data shape     : ', df_test.shape)"
   ]
  },
  {
   "cell_type": "code",
   "execution_count": 3,
   "metadata": {
    "scrolled": true
   },
   "outputs": [
    {
     "data": {
      "text/html": [
       "<div>\n",
       "<style scoped>\n",
       "    .dataframe tbody tr th:only-of-type {\n",
       "        vertical-align: middle;\n",
       "    }\n",
       "\n",
       "    .dataframe tbody tr th {\n",
       "        vertical-align: top;\n",
       "    }\n",
       "\n",
       "    .dataframe thead th {\n",
       "        text-align: right;\n",
       "    }\n",
       "</style>\n",
       "<table border=\"1\" class=\"dataframe\">\n",
       "  <thead>\n",
       "    <tr style=\"text-align: right;\">\n",
       "      <th></th>\n",
       "      <th>Loan_ID</th>\n",
       "      <th>Gender</th>\n",
       "      <th>Married</th>\n",
       "      <th>Dependents</th>\n",
       "      <th>Education</th>\n",
       "      <th>Self_Employed</th>\n",
       "      <th>ApplicantIncome</th>\n",
       "      <th>CoapplicantIncome</th>\n",
       "      <th>LoanAmount</th>\n",
       "      <th>Loan_Amount_Term</th>\n",
       "      <th>Credit_History</th>\n",
       "      <th>Property_Area</th>\n",
       "      <th>Loan_Status</th>\n",
       "    </tr>\n",
       "  </thead>\n",
       "  <tbody>\n",
       "    <tr>\n",
       "      <th>0</th>\n",
       "      <td>LP001002</td>\n",
       "      <td>Male</td>\n",
       "      <td>No</td>\n",
       "      <td>0</td>\n",
       "      <td>Graduate</td>\n",
       "      <td>No</td>\n",
       "      <td>5849</td>\n",
       "      <td>0.0</td>\n",
       "      <td>NaN</td>\n",
       "      <td>360.0</td>\n",
       "      <td>1.0</td>\n",
       "      <td>Urban</td>\n",
       "      <td>Y</td>\n",
       "    </tr>\n",
       "    <tr>\n",
       "      <th>1</th>\n",
       "      <td>LP001003</td>\n",
       "      <td>Male</td>\n",
       "      <td>Yes</td>\n",
       "      <td>1</td>\n",
       "      <td>Graduate</td>\n",
       "      <td>No</td>\n",
       "      <td>4583</td>\n",
       "      <td>1508.0</td>\n",
       "      <td>128.0</td>\n",
       "      <td>360.0</td>\n",
       "      <td>1.0</td>\n",
       "      <td>Rural</td>\n",
       "      <td>N</td>\n",
       "    </tr>\n",
       "    <tr>\n",
       "      <th>2</th>\n",
       "      <td>LP001005</td>\n",
       "      <td>Male</td>\n",
       "      <td>Yes</td>\n",
       "      <td>0</td>\n",
       "      <td>Graduate</td>\n",
       "      <td>Yes</td>\n",
       "      <td>3000</td>\n",
       "      <td>0.0</td>\n",
       "      <td>66.0</td>\n",
       "      <td>360.0</td>\n",
       "      <td>1.0</td>\n",
       "      <td>Urban</td>\n",
       "      <td>Y</td>\n",
       "    </tr>\n",
       "    <tr>\n",
       "      <th>3</th>\n",
       "      <td>LP001006</td>\n",
       "      <td>Male</td>\n",
       "      <td>Yes</td>\n",
       "      <td>0</td>\n",
       "      <td>Not Graduate</td>\n",
       "      <td>No</td>\n",
       "      <td>2583</td>\n",
       "      <td>2358.0</td>\n",
       "      <td>120.0</td>\n",
       "      <td>360.0</td>\n",
       "      <td>1.0</td>\n",
       "      <td>Urban</td>\n",
       "      <td>Y</td>\n",
       "    </tr>\n",
       "    <tr>\n",
       "      <th>4</th>\n",
       "      <td>LP001008</td>\n",
       "      <td>Male</td>\n",
       "      <td>No</td>\n",
       "      <td>0</td>\n",
       "      <td>Graduate</td>\n",
       "      <td>No</td>\n",
       "      <td>6000</td>\n",
       "      <td>0.0</td>\n",
       "      <td>141.0</td>\n",
       "      <td>360.0</td>\n",
       "      <td>1.0</td>\n",
       "      <td>Urban</td>\n",
       "      <td>Y</td>\n",
       "    </tr>\n",
       "  </tbody>\n",
       "</table>\n",
       "</div>"
      ],
      "text/plain": [
       "    Loan_ID Gender Married Dependents     Education Self_Employed  \\\n",
       "0  LP001002   Male      No          0      Graduate            No   \n",
       "1  LP001003   Male     Yes          1      Graduate            No   \n",
       "2  LP001005   Male     Yes          0      Graduate           Yes   \n",
       "3  LP001006   Male     Yes          0  Not Graduate            No   \n",
       "4  LP001008   Male      No          0      Graduate            No   \n",
       "\n",
       "   ApplicantIncome  CoapplicantIncome  LoanAmount  Loan_Amount_Term  \\\n",
       "0             5849                0.0         NaN             360.0   \n",
       "1             4583             1508.0       128.0             360.0   \n",
       "2             3000                0.0        66.0             360.0   \n",
       "3             2583             2358.0       120.0             360.0   \n",
       "4             6000                0.0       141.0             360.0   \n",
       "\n",
       "   Credit_History Property_Area Loan_Status  \n",
       "0             1.0         Urban           Y  \n",
       "1             1.0         Rural           N  \n",
       "2             1.0         Urban           Y  \n",
       "3             1.0         Urban           Y  \n",
       "4             1.0         Urban           Y  "
      ]
     },
     "execution_count": 3,
     "metadata": {},
     "output_type": "execute_result"
    }
   ],
   "source": [
    "# Let's see the \"head\" of the training set\n",
    "df_train.head()"
   ]
  },
  {
   "cell_type": "code",
   "execution_count": 4,
   "metadata": {},
   "outputs": [
    {
     "data": {
      "text/html": [
       "<div>\n",
       "<style scoped>\n",
       "    .dataframe tbody tr th:only-of-type {\n",
       "        vertical-align: middle;\n",
       "    }\n",
       "\n",
       "    .dataframe tbody tr th {\n",
       "        vertical-align: top;\n",
       "    }\n",
       "\n",
       "    .dataframe thead th {\n",
       "        text-align: right;\n",
       "    }\n",
       "</style>\n",
       "<table border=\"1\" class=\"dataframe\">\n",
       "  <thead>\n",
       "    <tr style=\"text-align: right;\">\n",
       "      <th></th>\n",
       "      <th>ApplicantIncome</th>\n",
       "      <th>CoapplicantIncome</th>\n",
       "      <th>LoanAmount</th>\n",
       "      <th>Loan_Amount_Term</th>\n",
       "      <th>Credit_History</th>\n",
       "    </tr>\n",
       "  </thead>\n",
       "  <tbody>\n",
       "    <tr>\n",
       "      <th>count</th>\n",
       "      <td>614.000000</td>\n",
       "      <td>614.000000</td>\n",
       "      <td>592.000000</td>\n",
       "      <td>600.00000</td>\n",
       "      <td>564.000000</td>\n",
       "    </tr>\n",
       "    <tr>\n",
       "      <th>mean</th>\n",
       "      <td>5403.459283</td>\n",
       "      <td>1621.245798</td>\n",
       "      <td>146.412162</td>\n",
       "      <td>342.00000</td>\n",
       "      <td>0.842199</td>\n",
       "    </tr>\n",
       "    <tr>\n",
       "      <th>std</th>\n",
       "      <td>6109.041673</td>\n",
       "      <td>2926.248369</td>\n",
       "      <td>85.587325</td>\n",
       "      <td>65.12041</td>\n",
       "      <td>0.364878</td>\n",
       "    </tr>\n",
       "    <tr>\n",
       "      <th>min</th>\n",
       "      <td>150.000000</td>\n",
       "      <td>0.000000</td>\n",
       "      <td>9.000000</td>\n",
       "      <td>12.00000</td>\n",
       "      <td>0.000000</td>\n",
       "    </tr>\n",
       "    <tr>\n",
       "      <th>25%</th>\n",
       "      <td>2877.500000</td>\n",
       "      <td>0.000000</td>\n",
       "      <td>100.000000</td>\n",
       "      <td>360.00000</td>\n",
       "      <td>1.000000</td>\n",
       "    </tr>\n",
       "    <tr>\n",
       "      <th>50%</th>\n",
       "      <td>3812.500000</td>\n",
       "      <td>1188.500000</td>\n",
       "      <td>128.000000</td>\n",
       "      <td>360.00000</td>\n",
       "      <td>1.000000</td>\n",
       "    </tr>\n",
       "    <tr>\n",
       "      <th>75%</th>\n",
       "      <td>5795.000000</td>\n",
       "      <td>2297.250000</td>\n",
       "      <td>168.000000</td>\n",
       "      <td>360.00000</td>\n",
       "      <td>1.000000</td>\n",
       "    </tr>\n",
       "    <tr>\n",
       "      <th>max</th>\n",
       "      <td>81000.000000</td>\n",
       "      <td>41667.000000</td>\n",
       "      <td>700.000000</td>\n",
       "      <td>480.00000</td>\n",
       "      <td>1.000000</td>\n",
       "    </tr>\n",
       "  </tbody>\n",
       "</table>\n",
       "</div>"
      ],
      "text/plain": [
       "       ApplicantIncome  CoapplicantIncome  LoanAmount  Loan_Amount_Term  \\\n",
       "count       614.000000         614.000000  592.000000         600.00000   \n",
       "mean       5403.459283        1621.245798  146.412162         342.00000   \n",
       "std        6109.041673        2926.248369   85.587325          65.12041   \n",
       "min         150.000000           0.000000    9.000000          12.00000   \n",
       "25%        2877.500000           0.000000  100.000000         360.00000   \n",
       "50%        3812.500000        1188.500000  128.000000         360.00000   \n",
       "75%        5795.000000        2297.250000  168.000000         360.00000   \n",
       "max       81000.000000       41667.000000  700.000000         480.00000   \n",
       "\n",
       "       Credit_History  \n",
       "count      564.000000  \n",
       "mean         0.842199  \n",
       "std          0.364878  \n",
       "min          0.000000  \n",
       "25%          1.000000  \n",
       "50%          1.000000  \n",
       "75%          1.000000  \n",
       "max          1.000000  "
      ]
     },
     "execution_count": 4,
     "metadata": {},
     "output_type": "execute_result"
    }
   ],
   "source": [
    "# describe\n",
    "df_train.describe()"
   ]
  },
  {
   "cell_type": "code",
   "execution_count": 5,
   "metadata": {
    "scrolled": true
   },
   "outputs": [
    {
     "name": "stdout",
     "output_type": "stream",
     "text": [
      "<class 'pandas.core.frame.DataFrame'>\n",
      "RangeIndex: 614 entries, 0 to 613\n",
      "Data columns (total 13 columns):\n",
      " #   Column             Non-Null Count  Dtype  \n",
      "---  ------             --------------  -----  \n",
      " 0   Loan_ID            614 non-null    object \n",
      " 1   Gender             601 non-null    object \n",
      " 2   Married            611 non-null    object \n",
      " 3   Dependents         599 non-null    object \n",
      " 4   Education          614 non-null    object \n",
      " 5   Self_Employed      582 non-null    object \n",
      " 6   ApplicantIncome    614 non-null    int64  \n",
      " 7   CoapplicantIncome  614 non-null    float64\n",
      " 8   LoanAmount         592 non-null    float64\n",
      " 9   Loan_Amount_Term   600 non-null    float64\n",
      " 10  Credit_History     564 non-null    float64\n",
      " 11  Property_Area      614 non-null    object \n",
      " 12  Loan_Status        614 non-null    object \n",
      "dtypes: float64(4), int64(1), object(8)\n",
      "memory usage: 62.5+ KB\n"
     ]
    }
   ],
   "source": [
    "# Let's see the \"info\" of the training set\n",
    "# Notice that this will tell us the  Non-null counts and the dtypes of each colum\n",
    "df_train.info()"
   ]
  },
  {
   "cell_type": "code",
   "execution_count": 6,
   "metadata": {},
   "outputs": [
    {
     "data": {
      "text/plain": [
       "Y    0.687296\n",
       "N    0.312704\n",
       "Name: Loan_Status, dtype: float64"
      ]
     },
     "execution_count": 6,
     "metadata": {},
     "output_type": "execute_result"
    }
   ],
   "source": [
    "### also nice to check whether this dataset is imbalanced in the beginning\n",
    "df_train['Loan_Status'].value_counts(normalize=True)  #hmm..imbalanced..."
   ]
  },
  {
   "cell_type": "markdown",
   "metadata": {},
   "source": [
    "## 2. Cleaning"
   ]
  },
  {
   "cell_type": "markdown",
   "metadata": {},
   "source": [
    "### Check missing values"
   ]
  },
  {
   "cell_type": "code",
   "execution_count": 7,
   "metadata": {},
   "outputs": [],
   "source": [
    "def show_missing(train_data, test_data):\n",
    "    print('Missing values in Train data: \\n', train_data.isna().sum())\n",
    "    print(\"=\"*30)\n",
    "    print('Missing values in Test data: \\n', test_data.isna().sum())"
   ]
  },
  {
   "cell_type": "code",
   "execution_count": 8,
   "metadata": {},
   "outputs": [
    {
     "name": "stdout",
     "output_type": "stream",
     "text": [
      "Missing values in Train data: \n",
      " Loan_ID               0\n",
      "Gender               13\n",
      "Married               3\n",
      "Dependents           15\n",
      "Education             0\n",
      "Self_Employed        32\n",
      "ApplicantIncome       0\n",
      "CoapplicantIncome     0\n",
      "LoanAmount           22\n",
      "Loan_Amount_Term     14\n",
      "Credit_History       50\n",
      "Property_Area         0\n",
      "Loan_Status           0\n",
      "dtype: int64\n",
      "==============================\n",
      "Missing values in Test data: \n",
      " Loan_ID               0\n",
      "Gender               11\n",
      "Married               0\n",
      "Dependents           10\n",
      "Education             0\n",
      "Self_Employed        23\n",
      "ApplicantIncome       0\n",
      "CoapplicantIncome     0\n",
      "LoanAmount            5\n",
      "Loan_Amount_Term      6\n",
      "Credit_History       29\n",
      "Property_Area         0\n",
      "dtype: int64\n"
     ]
    }
   ],
   "source": [
    "show_missing(df_train, df_test)"
   ]
  },
  {
   "cell_type": "markdown",
   "metadata": {},
   "source": [
    "### Filling categorical values"
   ]
  },
  {
   "cell_type": "markdown",
   "metadata": {},
   "source": [
    "\n",
    "Let's first focus on the `Married` column. We can see from the table above that the `Married` has 3 missing values in the training set and 0 missing values in the test set so let's fill the training set!\n",
    "\n",
    "We will use the distribution over the train dataset then fill in the missing values in **approximately the same ratio with fillna()**\n",
    "\n",
    "Here are the steps:\n",
    "1. Compute ratio in the **training** set\n",
    "2. Divide the missing values based on ratio\n",
    "3. Fill in the missing values according to the ratio"
   ]
  },
  {
   "cell_type": "code",
   "execution_count": 9,
   "metadata": {},
   "outputs": [
    {
     "name": "stdout",
     "output_type": "stream",
     "text": [
      "Yes    398\n",
      "No     213\n",
      "Name: Married, dtype: int64\n"
     ]
    }
   ],
   "source": [
    "# count the values in 'Married' columns.\n",
    "print(df_train['Married'].value_counts())"
   ]
  },
  {
   "cell_type": "code",
   "execution_count": 10,
   "metadata": {},
   "outputs": [
    {
     "data": {
      "text/plain": [
       "Yes    0.651391\n",
       "No     0.348609\n",
       "Name: Married, dtype: float64"
      ]
     },
     "execution_count": 10,
     "metadata": {},
     "output_type": "execute_result"
    }
   ],
   "source": [
    "# we can get the ratio instead\n",
    "ratio = df_train['Married'].value_counts(normalize=True)\n",
    "ratio"
   ]
  },
  {
   "cell_type": "code",
   "execution_count": 11,
   "metadata": {},
   "outputs": [
    {
     "data": {
      "text/plain": [
       "'No'"
      ]
     },
     "execution_count": 11,
     "metadata": {},
     "output_type": "execute_result"
    }
   ],
   "source": [
    "ratio.index[0]\n",
    "ratio.index[1]"
   ]
  },
  {
   "cell_type": "code",
   "execution_count": 12,
   "metadata": {},
   "outputs": [
    {
     "data": {
      "text/plain": [
       "0.3486088379705401"
      ]
     },
     "execution_count": 12,
     "metadata": {},
     "output_type": "execute_result"
    }
   ],
   "source": [
    "ratio[0]\n",
    "ratio[1]"
   ]
  },
  {
   "cell_type": "code",
   "execution_count": 13,
   "metadata": {},
   "outputs": [
    {
     "data": {
      "text/plain": [
       "[0.6513911620294599, 0.3486088379705401]"
      ]
     },
     "execution_count": 13,
     "metadata": {},
     "output_type": "execute_result"
    }
   ],
   "source": [
    "list(ratio.values)"
   ]
  },
  {
   "cell_type": "code",
   "execution_count": 14,
   "metadata": {},
   "outputs": [
    {
     "data": {
      "text/plain": [
       "['Yes', 'No']"
      ]
     },
     "execution_count": 14,
     "metadata": {},
     "output_type": "execute_result"
    }
   ],
   "source": [
    "list(ratio.index)"
   ]
  },
  {
   "cell_type": "code",
   "execution_count": 15,
   "metadata": {},
   "outputs": [],
   "source": [
    "#let's fill in!\n",
    "import numpy as np\n",
    "\n",
    "#this is a bit advanced, but it's easy technique for filling with ratios....\n",
    "df_train['Married'].fillna(pd.Series(np.random.choice([ratio.index[0], ratio.index[1]], \n",
    "                        p=[ratio[0], ratio[1]], size=len(df_train))), inplace=True)"
   ]
  },
  {
   "cell_type": "code",
   "execution_count": 16,
   "metadata": {},
   "outputs": [
    {
     "name": "stdout",
     "output_type": "stream",
     "text": [
      "Missing values in Train data: \n",
      " Loan_ID               0\n",
      "Gender               13\n",
      "Married               0\n",
      "Dependents           15\n",
      "Education             0\n",
      "Self_Employed        32\n",
      "ApplicantIncome       0\n",
      "CoapplicantIncome     0\n",
      "LoanAmount           22\n",
      "Loan_Amount_Term     14\n",
      "Credit_History       50\n",
      "Property_Area         0\n",
      "Loan_Status           0\n",
      "dtype: int64\n",
      "==============================\n",
      "Missing values in Test data: \n",
      " Loan_ID               0\n",
      "Gender               11\n",
      "Married               0\n",
      "Dependents           10\n",
      "Education             0\n",
      "Self_Employed        23\n",
      "ApplicantIncome       0\n",
      "CoapplicantIncome     0\n",
      "LoanAmount            5\n",
      "Loan_Amount_Term      6\n",
      "Credit_History       29\n",
      "Property_Area         0\n",
      "dtype: int64\n"
     ]
    }
   ],
   "source": [
    "show_missing(df_train, df_test)"
   ]
  },
  {
   "cell_type": "markdown",
   "metadata": {},
   "source": [
    "But we still have other categorical columns.  For some of them we need to fill in both the training and test set!\n",
    "\n",
    "So let's write a function that can calculate the ratio from the training data and fill the missing values accordingly."
   ]
  },
  {
   "cell_type": "code",
   "execution_count": 17,
   "metadata": {},
   "outputs": [
    {
     "data": {
      "text/plain": [
       "Index(['Gender', 'Dependents', 'Self_Employed'], dtype='object')"
      ]
     },
     "execution_count": 17,
     "metadata": {},
     "output_type": "execute_result"
    }
   ],
   "source": [
    "#filter out all categorical columns with missing values\n",
    "categorical = df_train.select_dtypes(include=['object'])\n",
    "cat_with_missing = categorical.columns[categorical.isna().any()] \n",
    "cat_with_missing"
   ]
  },
  {
   "cell_type": "code",
   "execution_count": 18,
   "metadata": {},
   "outputs": [
    {
     "name": "stdout",
     "output_type": "stream",
     "text": [
      "Missing values in Train data: \n",
      " Gender           13\n",
      "Dependents       15\n",
      "Self_Employed    32\n",
      "dtype: int64\n",
      "==============================\n",
      "Missing values in Test data: \n",
      " Gender           11\n",
      "Dependents       10\n",
      "Self_Employed    23\n",
      "dtype: int64\n"
     ]
    }
   ],
   "source": [
    "#check missing value in these columns\n",
    "show_missing(df_train[cat_with_missing], df_test[cat_with_missing])"
   ]
  },
  {
   "cell_type": "code",
   "execution_count": 19,
   "metadata": {},
   "outputs": [],
   "source": [
    "# write a nice function to calculate ratio and fillna\n",
    "def fill_data_with_ratio(train_data, test_data, column_name):\n",
    "    \n",
    "    ratio = train_data[column_name].value_counts(normalize=True)\n",
    "    \n",
    "    train_data[column_name].fillna(\n",
    "        pd.Series(np.random.choice(list(ratio.index), \n",
    "        p=list(ratio.values), \n",
    "        size=len(train_data))), \n",
    "        inplace=True)\n",
    "    \n",
    "    test_data[column_name].fillna(\n",
    "        pd.Series(np.random.choice(list(ratio.index), \n",
    "        p=list(ratio.values), \n",
    "        size=len(test_data))), \n",
    "        inplace=True)"
   ]
  },
  {
   "cell_type": "code",
   "execution_count": 20,
   "metadata": {},
   "outputs": [],
   "source": [
    "# simple loop!\n",
    "for col in cat_with_missing:\n",
    "    fill_data_with_ratio(df_train, df_test, col)"
   ]
  },
  {
   "cell_type": "code",
   "execution_count": 21,
   "metadata": {
    "scrolled": false
   },
   "outputs": [
    {
     "name": "stdout",
     "output_type": "stream",
     "text": [
      "Missing values in Train data: \n",
      " Gender           0\n",
      "Dependents       0\n",
      "Self_Employed    0\n",
      "dtype: int64\n",
      "==============================\n",
      "Missing values in Test data: \n",
      " Gender           0\n",
      "Dependents       0\n",
      "Self_Employed    0\n",
      "dtype: int64\n"
     ]
    }
   ],
   "source": [
    "show_missing(df_train[cat_with_missing], df_test[cat_with_missing])"
   ]
  },
  {
   "cell_type": "markdown",
   "metadata": {},
   "source": [
    "### Filling \"numerical\" categorical values\n",
    "\n",
    "There are two hidden categorical column but which is numerical."
   ]
  },
  {
   "cell_type": "code",
   "execution_count": 22,
   "metadata": {},
   "outputs": [
    {
     "data": {
      "text/plain": [
       "array([ 1.,  0., nan])"
      ]
     },
     "execution_count": 22,
     "metadata": {},
     "output_type": "execute_result"
    }
   ],
   "source": [
    "df_train['Credit_History'].unique()"
   ]
  },
  {
   "cell_type": "code",
   "execution_count": 23,
   "metadata": {},
   "outputs": [
    {
     "data": {
      "text/plain": [
       "array([360., 120., 240.,  nan, 180.,  60., 300., 480.,  36.,  84.,  12.])"
      ]
     },
     "execution_count": 23,
     "metadata": {},
     "output_type": "execute_result"
    }
   ],
   "source": [
    "df_train['Loan_Amount_Term'].unique()"
   ]
  },
  {
   "cell_type": "markdown",
   "metadata": {},
   "source": [
    "Thus, let's also fill them accordingly..."
   ]
  },
  {
   "cell_type": "code",
   "execution_count": 24,
   "metadata": {},
   "outputs": [],
   "source": [
    "for col in ['Credit_History', 'Loan_Amount_Term']:\n",
    "    fill_data_with_ratio(df_train, df_test, col)"
   ]
  },
  {
   "cell_type": "code",
   "execution_count": 25,
   "metadata": {},
   "outputs": [
    {
     "name": "stdout",
     "output_type": "stream",
     "text": [
      "Missing values in Train data: \n",
      " Loan_ID               0\n",
      "Gender                0\n",
      "Married               0\n",
      "Dependents            0\n",
      "Education             0\n",
      "Self_Employed         0\n",
      "ApplicantIncome       0\n",
      "CoapplicantIncome     0\n",
      "LoanAmount           22\n",
      "Loan_Amount_Term      0\n",
      "Credit_History        0\n",
      "Property_Area         0\n",
      "Loan_Status           0\n",
      "dtype: int64\n",
      "==============================\n",
      "Missing values in Test data: \n",
      " Loan_ID              0\n",
      "Gender               0\n",
      "Married              0\n",
      "Dependents           0\n",
      "Education            0\n",
      "Self_Employed        0\n",
      "ApplicantIncome      0\n",
      "CoapplicantIncome    0\n",
      "LoanAmount           5\n",
      "Loan_Amount_Term     0\n",
      "Credit_History       0\n",
      "Property_Area        0\n",
      "dtype: int64\n"
     ]
    }
   ],
   "source": [
    "show_missing(df_train, df_test)"
   ]
  },
  {
   "cell_type": "markdown",
   "metadata": {},
   "source": [
    "### Filling Numerical Values\n",
    "\n",
    "`LoanAmount` still has some missing values.\n",
    "\n",
    "We should check the distribution of the data before deciding how to fill them."
   ]
  },
  {
   "cell_type": "code",
   "execution_count": 26,
   "metadata": {},
   "outputs": [
    {
     "data": {
      "image/png": "[encoded data removed]",
      "text/plain": [
       "<Figure size 360x360 with 1 Axes>"
      ]
     },
     "metadata": {
      "needs_background": "light"
     },
     "output_type": "display_data"
    }
   ],
   "source": [
    "# plot a histogram to see the data distribution of 'LoanAmount'\n",
    "import matplotlib.pyplot as plt\n",
    "import seaborn as sns\n",
    "\n",
    "sns.displot(df_train['LoanAmount'])\n",
    "plt.title('LoanAmount distribution', size=16)\n",
    "plt.ylabel('count')\n",
    "plt.show()"
   ]
  },
  {
   "cell_type": "code",
   "execution_count": 27,
   "metadata": {},
   "outputs": [
    {
     "data": {
      "text/plain": [
       "<AxesSubplot:>"
      ]
     },
     "execution_count": 27,
     "metadata": {},
     "output_type": "execute_result"
    },
    {
     "data": {
      "image/png": "[encoded data removed]",
      "text/plain": [
       "<Figure size 216x288 with 1 Axes>"
      ]
     },
     "metadata": {
      "needs_background": "light"
     },
     "output_type": "display_data"
    }
   ],
   "source": [
    "# also try plot a box plot\n",
    "df_train['LoanAmount'].plot(kind='box', figsize=(3,4))"
   ]
  },
  {
   "cell_type": "markdown",
   "metadata": {},
   "source": [
    "There are some outliers so we will be using the median over the training set to fill the missing values to avoid effects of outliers on the center value."
   ]
  },
  {
   "cell_type": "code",
   "execution_count": 28,
   "metadata": {},
   "outputs": [],
   "source": [
    "# Use the median of the Training set to fill both the training and test set.\n",
    "df_train['LoanAmount'].fillna((df_train['LoanAmount'].median()), inplace=True)\n",
    "df_test['LoanAmount'].fillna((df_test['LoanAmount'].median()), inplace=True)"
   ]
  },
  {
   "cell_type": "code",
   "execution_count": 29,
   "metadata": {
    "scrolled": true
   },
   "outputs": [
    {
     "name": "stdout",
     "output_type": "stream",
     "text": [
      "Missing values in Train data: \n",
      " Loan_ID              0\n",
      "Gender               0\n",
      "Married              0\n",
      "Dependents           0\n",
      "Education            0\n",
      "Self_Employed        0\n",
      "ApplicantIncome      0\n",
      "CoapplicantIncome    0\n",
      "LoanAmount           0\n",
      "Loan_Amount_Term     0\n",
      "Credit_History       0\n",
      "Property_Area        0\n",
      "Loan_Status          0\n",
      "dtype: int64\n",
      "==============================\n",
      "Missing values in Test data: \n",
      " Loan_ID              0\n",
      "Gender               0\n",
      "Married              0\n",
      "Dependents           0\n",
      "Education            0\n",
      "Self_Employed        0\n",
      "ApplicantIncome      0\n",
      "CoapplicantIncome    0\n",
      "LoanAmount           0\n",
      "Loan_Amount_Term     0\n",
      "Credit_History       0\n",
      "Property_Area        0\n",
      "dtype: int64\n"
     ]
    }
   ],
   "source": [
    "show_missing(df_train, df_test)"
   ]
  },
  {
   "cell_type": "markdown",
   "metadata": {},
   "source": [
    "### Filling some inconsistent column\n",
    "\n",
    "Dependent has some weird value which is 3+, which will not allow the machine learning to work properly.  So let's replace all 3+ with 4."
   ]
  },
  {
   "cell_type": "code",
   "execution_count": 30,
   "metadata": {},
   "outputs": [
    {
     "data": {
      "text/plain": [
       "array(['0', '1', '2', '3+'], dtype=object)"
      ]
     },
     "execution_count": 30,
     "metadata": {},
     "output_type": "execute_result"
    }
   ],
   "source": [
    "df_train['Dependents'].unique()"
   ]
  },
  {
   "cell_type": "code",
   "execution_count": 31,
   "metadata": {},
   "outputs": [
    {
     "data": {
      "text/plain": [
       "array(['0', '1', '2', '3+'], dtype=object)"
      ]
     },
     "execution_count": 31,
     "metadata": {},
     "output_type": "execute_result"
    }
   ],
   "source": [
    "df_test['Dependents'].unique()"
   ]
  },
  {
   "cell_type": "code",
   "execution_count": 32,
   "metadata": {},
   "outputs": [],
   "source": [
    "df_train['Dependents'].replace('3+', '4', inplace = True)\n",
    "df_test['Dependents'].replace('3+', '4', inplace = True)"
   ]
  },
  {
   "cell_type": "markdown",
   "metadata": {},
   "source": [
    "We are finally done with filling na!"
   ]
  },
  {
   "cell_type": "markdown",
   "metadata": {},
   "source": [
    "### Dropping Loan ID\n",
    "\n",
    "We have one column which does not seem to be useful later on for our prediction, i.e., Loan ID.  So let's remove that."
   ]
  },
  {
   "cell_type": "code",
   "execution_count": 33,
   "metadata": {
    "scrolled": true
   },
   "outputs": [
    {
     "data": {
      "text/plain": [
       "Index(['Gender', 'Married', 'Dependents', 'Education', 'Self_Employed',\n",
       "       'ApplicantIncome', 'CoapplicantIncome', 'LoanAmount',\n",
       "       'Loan_Amount_Term', 'Credit_History', 'Property_Area', 'Loan_Status'],\n",
       "      dtype='object')"
      ]
     },
     "execution_count": 33,
     "metadata": {},
     "output_type": "execute_result"
    }
   ],
   "source": [
    "df_train.drop(columns=['Loan_ID'], inplace=True)\n",
    "df_test.drop(columns=['Loan_ID'], inplace=True)\n",
    "\n",
    "df_train.columns"
   ]
  },
  {
   "cell_type": "code",
   "execution_count": 34,
   "metadata": {},
   "outputs": [],
   "source": [
    "# Convert values in 'Dependents' to int\n",
    "df_train['Dependents'] = df_train['Dependents'].astype(int)\n",
    "df_test['Dependents']  = df_test['Dependents'].astype(int)"
   ]
  },
  {
   "cell_type": "markdown",
   "metadata": {},
   "source": [
    "## 3. Exploratory Data Analysis\n",
    "\n",
    "Last time we used correlation matrix.  However, correlation matrix is not so useful in classification problem.  Instead, we shall use boxplot to quickly plot relationship between variables."
   ]
  },
  {
   "cell_type": "code",
   "execution_count": 35,
   "metadata": {},
   "outputs": [
    {
     "data": {
      "image/png": "[encoded data removed]",
      "text/plain": [
       "<Figure size 432x288 with 1 Axes>"
      ]
     },
     "metadata": {
      "needs_background": "light"
     },
     "output_type": "display_data"
    },
    {
     "data": {
      "image/png": "[encoded data removed]",
      "text/plain": [
       "<Figure size 432x288 with 1 Axes>"
      ]
     },
     "metadata": {
      "needs_background": "light"
     },
     "output_type": "display_data"
    },
    {
     "data": {
      "image/png": "[encoded data removed]",
      "text/plain": [
       "<Figure size 432x288 with 1 Axes>"
      ]
     },
     "metadata": {
      "needs_background": "light"
     },
     "output_type": "display_data"
    },
    {
     "data": {
      "image/png": "[encoded data removed]",
      "text/plain": [
       "<Figure size 432x288 with 1 Axes>"
      ]
     },
     "metadata": {
      "needs_background": "light"
     },
     "output_type": "display_data"
    },
    {
     "data": {
      "image/png": "[encoded data removed]",
      "text/plain": [
       "<Figure size 432x288 with 1 Axes>"
      ]
     },
     "metadata": {
      "needs_background": "light"
     },
     "output_type": "display_data"
    },
    {
     "data": {
      "image/png": "[encoded data removed]",
      "text/plain": [
       "<Figure size 432x288 with 1 Axes>"
      ]
     },
     "metadata": {
      "needs_background": "light"
     },
     "output_type": "display_data"
    },
    {
     "data": {
      "image/png": "[encoded data removed]",
      "text/plain": [
       "<Figure size 432x288 with 1 Axes>"
      ]
     },
     "metadata": {
      "needs_background": "light"
     },
     "output_type": "display_data"
    },
    {
     "data": {
      "image/png": "[encoded data removed]",
      "text/plain": [
       "<Figure size 432x288 with 1 Axes>"
      ]
     },
     "metadata": {
      "needs_background": "light"
     },
     "output_type": "display_data"
    }
   ],
   "source": [
    "categorical = ['Gender', 'Married', 'Dependents', 'Education', 'Self_Employed', 'Loan_Amount_Term', 'Credit_History', 'Property_Area']\n",
    "\n",
    "for col in categorical:\n",
    "    sns.countplot(x=col,data=df_train,hue='Loan_Status')\n",
    "    plt.show()"
   ]
  },
  {
   "cell_type": "markdown",
   "metadata": {},
   "source": [
    "What we learn:\n",
    "    \n",
    "1. Male are more likely to get loans\n",
    "2. Married people are more likely to get loans\n",
    "3. No dependents are more likely to get loans\n",
    "4. Graduates are more likely to get loans\n",
    "5. Not self-employed is more likely to get loans\n",
    "6. Majority of loans are 360 months\n",
    "7. People with credit history are more likely to get loans\n",
    "8. Semiurban people are more likely to get loans\n",
    "\n",
    "Let's also look at numerical column."
   ]
  },
  {
   "cell_type": "code",
   "execution_count": 36,
   "metadata": {},
   "outputs": [
    {
     "name": "stdout",
     "output_type": "stream",
     "text": [
      "<class 'pandas.core.frame.DataFrame'>\n",
      "RangeIndex: 614 entries, 0 to 613\n",
      "Data columns (total 12 columns):\n",
      " #   Column             Non-Null Count  Dtype  \n",
      "---  ------             --------------  -----  \n",
      " 0   Gender             614 non-null    object \n",
      " 1   Married            614 non-null    object \n",
      " 2   Dependents         614 non-null    int64  \n",
      " 3   Education          614 non-null    object \n",
      " 4   Self_Employed      614 non-null    object \n",
      " 5   ApplicantIncome    614 non-null    int64  \n",
      " 6   CoapplicantIncome  614 non-null    float64\n",
      " 7   LoanAmount         614 non-null    float64\n",
      " 8   Loan_Amount_Term   614 non-null    float64\n",
      " 9   Credit_History     614 non-null    float64\n",
      " 10  Property_Area      614 non-null    object \n",
      " 11  Loan_Status        614 non-null    object \n",
      "dtypes: float64(4), int64(2), object(6)\n",
      "memory usage: 57.7+ KB\n"
     ]
    }
   ],
   "source": [
    "df_train.info()"
   ]
  },
  {
   "cell_type": "code",
   "execution_count": 37,
   "metadata": {
    "scrolled": true
   },
   "outputs": [
    {
     "data": {
      "image/png": "[encoded data removed]",
      "text/plain": [
       "<Figure size 432x288 with 1 Axes>"
      ]
     },
     "metadata": {
      "needs_background": "light"
     },
     "output_type": "display_data"
    },
    {
     "data": {
      "image/png": "[encoded data removed]",
      "text/plain": [
       "<Figure size 432x288 with 1 Axes>"
      ]
     },
     "metadata": {
      "needs_background": "light"
     },
     "output_type": "display_data"
    },
    {
     "data": {
      "image/png": "[encoded data removed]",
      "text/plain": [
       "<Figure size 432x288 with 1 Axes>"
      ]
     },
     "metadata": {
      "needs_background": "light"
     },
     "output_type": "display_data"
    }
   ],
   "source": [
    "numerical = ['ApplicantIncome', 'CoapplicantIncome', 'LoanAmount']\n",
    "\n",
    "for col in numerical:\n",
    "    sns.boxplot(y=col,data=df_train,x='Loan_Status')\n",
    "    plt.show()"
   ]
  },
  {
   "cell_type": "markdown",
   "metadata": {},
   "source": [
    "It's clear that numerical columns have little relationship...."
   ]
  },
  {
   "cell_type": "markdown",
   "metadata": {},
   "source": [
    "### Predictive Power Score\n",
    "\n",
    "Let's try our pps"
   ]
  },
  {
   "cell_type": "code",
   "execution_count": 38,
   "metadata": {
    "scrolled": true
   },
   "outputs": [
    {
     "data": {
      "text/plain": [
       "<AxesSubplot:xlabel='x', ylabel='y'>"
      ]
     },
     "execution_count": 38,
     "metadata": {},
     "output_type": "execute_result"
    },
    {
     "data": {
      "image/png": "[encoded data removed]",
      "text/plain": [
       "<Figure size 1080x576 with 2 Axes>"
      ]
     },
     "metadata": {
      "needs_background": "light"
     },
     "output_type": "display_data"
    }
   ],
   "source": [
    "import ppscore as pps\n",
    "\n",
    "#this needs some minor preprocessing because seaborn.heatmap unfortunately does not accept tidy data\n",
    "matrix_df = pps.matrix(df_train)[['x', 'y', 'ppscore']].pivot(columns='x', index='y', values='ppscore')\n",
    "\n",
    "#plot\n",
    "plt.figure(figsize = (15,8))\n",
    "sns.heatmap(matrix_df, vmin=0, vmax=1, cmap=\"Blues\", linewidths=0.5, annot=True)"
   ]
  },
  {
   "cell_type": "markdown",
   "metadata": {},
   "source": [
    "Hmm...many thing contradicts to what we see in the boxplot...you can try play around removing them one by one, and try modeling..."
   ]
  },
  {
   "cell_type": "markdown",
   "metadata": {},
   "source": [
    "## 4) Modeling\n",
    "\n",
    "Before we can do modeling, let's change everything to int"
   ]
  },
  {
   "cell_type": "markdown",
   "metadata": {},
   "source": [
    "### Changing string to int\n",
    "\n",
    "PS: I intentionally put it under this section, because our EDA would make more sense....but usually this happens during cleaning/preprocessing."
   ]
  },
  {
   "cell_type": "code",
   "execution_count": 39,
   "metadata": {},
   "outputs": [],
   "source": [
    "# Next, let's convert the `Gender` column to 0.0 for Male and 1.0 for Female\n",
    "df_train['Gender'].replace('Male', 0.0, inplace = True)\n",
    "df_train['Gender'].replace('Female', 1.0, inplace = True)\n",
    "\n",
    "df_test['Gender'].replace('Male', 0.0, inplace = True)\n",
    "df_test['Gender'].replace('Female', 1.0, inplace = True)"
   ]
  },
  {
   "cell_type": "markdown",
   "metadata": {},
   "source": [
    "It's tiring to run one by one...thus, let's first check which column is still not integer yet"
   ]
  },
  {
   "cell_type": "code",
   "execution_count": 40,
   "metadata": {},
   "outputs": [
    {
     "name": "stdout",
     "output_type": "stream",
     "text": [
      "<class 'pandas.core.frame.DataFrame'>\n",
      "RangeIndex: 614 entries, 0 to 613\n",
      "Data columns (total 12 columns):\n",
      " #   Column             Non-Null Count  Dtype  \n",
      "---  ------             --------------  -----  \n",
      " 0   Gender             614 non-null    float64\n",
      " 1   Married            614 non-null    object \n",
      " 2   Dependents         614 non-null    int64  \n",
      " 3   Education          614 non-null    object \n",
      " 4   Self_Employed      614 non-null    object \n",
      " 5   ApplicantIncome    614 non-null    int64  \n",
      " 6   CoapplicantIncome  614 non-null    float64\n",
      " 7   LoanAmount         614 non-null    float64\n",
      " 8   Loan_Amount_Term   614 non-null    float64\n",
      " 9   Credit_History     614 non-null    float64\n",
      " 10  Property_Area      614 non-null    object \n",
      " 11  Loan_Status        614 non-null    object \n",
      "dtypes: float64(5), int64(2), object(5)\n",
      "memory usage: 57.7+ KB\n"
     ]
    }
   ],
   "source": [
    "df_train.info()"
   ]
  },
  {
   "cell_type": "markdown",
   "metadata": {},
   "source": [
    "Ok...now let's make some magic function that would convert everything to integer"
   ]
  },
  {
   "cell_type": "code",
   "execution_count": 41,
   "metadata": {},
   "outputs": [
    {
     "name": "stdout",
     "output_type": "stream",
     "text": [
      "<class 'pandas.core.frame.DataFrame'>\n",
      "RangeIndex: 614 entries, 0 to 613\n",
      "Data columns (total 12 columns):\n",
      " #   Column             Non-Null Count  Dtype  \n",
      "---  ------             --------------  -----  \n",
      " 0   Gender             614 non-null    float64\n",
      " 1   Married            614 non-null    int8   \n",
      " 2   Dependents         614 non-null    int64  \n",
      " 3   Education          614 non-null    int8   \n",
      " 4   Self_Employed      614 non-null    int8   \n",
      " 5   ApplicantIncome    614 non-null    int64  \n",
      " 6   CoapplicantIncome  614 non-null    float64\n",
      " 7   LoanAmount         614 non-null    float64\n",
      " 8   Loan_Amount_Term   614 non-null    float64\n",
      " 9   Credit_History     614 non-null    float64\n",
      " 10  Property_Area      614 non-null    int8   \n",
      " 11  Loan_Status        614 non-null    int8   \n",
      "dtypes: float64(5), int64(2), int8(5)\n",
      "memory usage: 36.7 KB\n"
     ]
    }
   ],
   "source": [
    "for col in df_train.columns:\n",
    "    if(df_train[col].dtype == 'object'):\n",
    "        df_train[col]= df_train[col].astype('category') #first convert to category\n",
    "        df_train[col] = df_train[col].cat.codes  #exploit cat.codes\n",
    "        \n",
    "df_train.info()"
   ]
  },
  {
   "cell_type": "markdown",
   "metadata": {},
   "source": [
    "Repeat this for test_data"
   ]
  },
  {
   "cell_type": "code",
   "execution_count": 42,
   "metadata": {
    "scrolled": true
   },
   "outputs": [
    {
     "name": "stdout",
     "output_type": "stream",
     "text": [
      "<class 'pandas.core.frame.DataFrame'>\n",
      "RangeIndex: 367 entries, 0 to 366\n",
      "Data columns (total 11 columns):\n",
      " #   Column             Non-Null Count  Dtype  \n",
      "---  ------             --------------  -----  \n",
      " 0   Gender             367 non-null    float64\n",
      " 1   Married            367 non-null    int8   \n",
      " 2   Dependents         367 non-null    int64  \n",
      " 3   Education          367 non-null    int8   \n",
      " 4   Self_Employed      367 non-null    int8   \n",
      " 5   ApplicantIncome    367 non-null    int64  \n",
      " 6   CoapplicantIncome  367 non-null    int64  \n",
      " 7   LoanAmount         367 non-null    float64\n",
      " 8   Loan_Amount_Term   367 non-null    float64\n",
      " 9   Credit_History     367 non-null    float64\n",
      " 10  Property_Area      367 non-null    int8   \n",
      "dtypes: float64(4), int64(3), int8(4)\n",
      "memory usage: 21.6 KB\n"
     ]
    }
   ],
   "source": [
    "for col in df_test.columns:\n",
    "    if(df_test[col].dtype == 'object'):\n",
    "        df_test[col]= df_test[col].astype('category') #first convert to category\n",
    "        df_test[col] = df_test[col].cat.codes  #exploit cat.codes\n",
    "        \n",
    "df_test.info()"
   ]
  },
  {
   "cell_type": "markdown",
   "metadata": {},
   "source": [
    "### Setting X and y\n",
    "\n",
    "Let's set X and y.  For X, we shall drop Loan_Status, and all numeric data based on our box plot analysis (for now, we not gonna trust the ppsscore).  For y, it is Loan_Status"
   ]
  },
  {
   "cell_type": "code",
   "execution_count": 43,
   "metadata": {},
   "outputs": [],
   "source": [
    "X_train = df_train.drop(columns=['LoanAmount', 'ApplicantIncome', 'CoapplicantIncome', 'Loan_Status'])\n",
    "y_train = df_train['Loan_Status']"
   ]
  },
  {
   "cell_type": "code",
   "execution_count": 44,
   "metadata": {},
   "outputs": [],
   "source": [
    "X_test  = df_test.drop(columns=numerical)\n",
    "#note that our test set has no loan_status because this is what we have..."
   ]
  },
  {
   "cell_type": "markdown",
   "metadata": {},
   "source": [
    "### Scaling"
   ]
  },
  {
   "cell_type": "code",
   "execution_count": 45,
   "metadata": {},
   "outputs": [],
   "source": [
    "# split X and y into X_train, X_val, y_train, y_val\n",
    "from sklearn.preprocessing import StandardScaler\n",
    "\n",
    "sc = StandardScaler()\n",
    "X_train = sc.fit_transform(X_train)\n",
    "X_test  = sc.transform(X_test)"
   ]
  },
  {
   "cell_type": "markdown",
   "metadata": {},
   "source": [
    "### Train a classification model"
   ]
  },
  {
   "cell_type": "code",
   "execution_count": 46,
   "metadata": {},
   "outputs": [],
   "source": [
    "from sklearn.linear_model import LogisticRegression as lr\n",
    "from sklearn.tree import DecisionTreeClassifier as dt\n",
    "from sklearn.neighbors import KNeighborsClassifier as knn\n",
    "from sklearn.ensemble import RandomForestClassifier as rf\n",
    "from sklearn.svm import SVC as sv\n",
    "\n",
    "from sklearn.metrics import classification_report\n",
    "\n",
    "# models that we will be using, put them in a list\n",
    "algorithms = [lr(), dt(), knn(), rf(), sv()]\n",
    "\n",
    "# The names of the models\n",
    "algorithm_names = [\"Logistic Regression\", \"Decision Tree\", \"KNeighbors\", \"Random-Forest Regressor\", \"Support Vector Machine\"]"
   ]
  },
  {
   "cell_type": "markdown",
   "metadata": {},
   "source": [
    "Let's do some simple cross-validation here....(note that you can also do nested cv here...but I am too lazy)"
   ]
  },
  {
   "cell_type": "code",
   "execution_count": 47,
   "metadata": {},
   "outputs": [
    {
     "name": "stdout",
     "output_type": "stream",
     "text": [
      "Logistic Regression - Score: [0.81300813 0.7804878  0.75609756 0.85365854 0.77868852]; Mean: 0.7963881114220979\n",
      "Decision Tree - Score: [0.76422764 0.72357724 0.7398374  0.75609756 0.68032787]; Mean: 0.7328135412501665\n",
      "KNeighbors - Score: [0.76422764 0.7398374  0.7398374  0.82113821 0.71311475]; Mean: 0.755631080900973\n",
      "Random-Forest Regressor - Score: [0.75609756 0.76422764 0.81300813 0.73170732 0.71311475]; Mean: 0.755631080900973\n",
      "Support Vector Machine - Score: [0.75609756 0.82113821 0.77235772 0.77235772 0.81147541]; Mean: 0.7866853258696522\n"
     ]
    }
   ],
   "source": [
    "from sklearn.model_selection import KFold, cross_val_score\n",
    "\n",
    "#lists for keeping mse\n",
    "train_mse = []\n",
    "test_mse = []\n",
    "\n",
    "#defining splits\n",
    "kfold = KFold(n_splits=5, shuffle=True)\n",
    "\n",
    "for i, model in enumerate(algorithms):\n",
    "    scores = cross_val_score(model, X_train, y_train, cv=kfold, scoring='accuracy')\n",
    "    print(f\"{algorithm_names[i]} - Score: {scores}; Mean: {scores.mean()}\")"
   ]
  },
  {
   "cell_type": "markdown",
   "metadata": {},
   "source": [
    "### Grid Search"
   ]
  },
  {
   "cell_type": "code",
   "execution_count": 48,
   "metadata": {
    "scrolled": true
   },
   "outputs": [
    {
     "data": {
      "text/plain": [
       "GridSearchCV(cv=KFold(n_splits=5, random_state=None, shuffle=True),\n",
       "             estimator=LogisticRegression(),\n",
       "             param_grid={'solver': ['newton-cg', 'lbfgs', 'liblinear']},\n",
       "             scoring='f1_macro')"
      ]
     },
     "execution_count": 48,
     "metadata": {},
     "output_type": "execute_result"
    }
   ],
   "source": [
    "from sklearn.model_selection import GridSearchCV\n",
    "\n",
    "model = lr()\n",
    "\n",
    "param_grid = dict()\n",
    "param_grid['solver'] = ['newton-cg', 'lbfgs', 'liblinear']\n",
    "\n",
    "grid = GridSearchCV(model, param_grid, cv=kfold, refit=True, scoring='f1_macro')\n",
    "grid.fit(X_train, y_train)"
   ]
  },
  {
   "cell_type": "code",
   "execution_count": 49,
   "metadata": {},
   "outputs": [
    {
     "data": {
      "text/plain": [
       "{'solver': 'newton-cg'}"
      ]
     },
     "execution_count": 49,
     "metadata": {},
     "output_type": "execute_result"
    }
   ],
   "source": [
    "grid.best_params_"
   ]
  },
  {
   "cell_type": "code",
   "execution_count": 50,
   "metadata": {},
   "outputs": [],
   "source": [
    "# Find your grid_search's best score\n",
    "best_accuracy = grid.best_score_"
   ]
  },
  {
   "cell_type": "code",
   "execution_count": 51,
   "metadata": {},
   "outputs": [
    {
     "data": {
      "text/plain": [
       "0.7182169996014774"
      ]
     },
     "execution_count": 51,
     "metadata": {},
     "output_type": "execute_result"
    }
   ],
   "source": [
    "best_accuracy"
   ]
  },
  {
   "cell_type": "markdown",
   "metadata": {},
   "source": [
    "### Feature Importance\n",
    "\n",
    "Unfortunately, Logistic Regression by sklearn does not provide feature importance, thus we cannot use <code>Shap</code>.  Since we also don't have y_test, we also cannot use permutation technique.\n",
    "\n",
    "The good news is that computing feature importance of logistic regression is simple, i.e., based on its weights on the feature.  The bigger weight on that feature indicates higher importance."
   ]
  },
  {
   "cell_type": "code",
   "execution_count": 52,
   "metadata": {},
   "outputs": [
    {
     "data": {
      "text/plain": [
       "array([ 0.07330959,  0.29093072, -0.03191097, -0.13674637, -0.02735623,\n",
       "       -0.02132389,  1.08861446,  0.05937288])"
      ]
     },
     "execution_count": 52,
     "metadata": {},
     "output_type": "execute_result"
    }
   ],
   "source": [
    "#obtain the weights\n",
    "model = grid.best_estimator_\n",
    "weights = model.coef_\n",
    "\n",
    "weights[0]"
   ]
  },
  {
   "cell_type": "code",
   "execution_count": 53,
   "metadata": {},
   "outputs": [
    {
     "data": {
      "text/plain": [
       "Index(['Gender', 'Married', 'Dependents', 'Education', 'Self_Employed',\n",
       "       'Loan_Amount_Term', 'Credit_History', 'Property_Area'],\n",
       "      dtype='object')"
      ]
     },
     "execution_count": 53,
     "metadata": {},
     "output_type": "execute_result"
    }
   ],
   "source": [
    "#obtain column name\n",
    "our_df = df_train.drop(columns=['LoanAmount', 'ApplicantIncome', 'CoapplicantIncome', 'Loan_Status'])\n",
    "column_names = our_df.columns\n",
    "column_names"
   ]
  },
  {
   "cell_type": "code",
   "execution_count": 54,
   "metadata": {
    "scrolled": true
   },
   "outputs": [
    {
     "data": {
      "image/png": "[encoded data removed]",
      "text/plain": [
       "<Figure size 432x288 with 1 Axes>"
      ]
     },
     "metadata": {
      "needs_background": "light"
     },
     "output_type": "display_data"
    }
   ],
   "source": [
    "import math\n",
    "\n",
    "feature_importance = pd.DataFrame(column_names, columns = [\"feature\"])\n",
    "feature_importance[\"importance\"] = pow(math.e, weights[0])\n",
    "feature_importance = feature_importance.sort_values(by = [\"importance\"], ascending=True)\n",
    "\n",
    "ax = feature_importance.plot.barh(x='feature', y='importance')\n",
    "plt.show()"
   ]
  },
  {
   "cell_type": "markdown",
   "metadata": {},
   "source": [
    "**Very important note**: before using technique, make sure to use <code>StandardScaler()</code> first to put everything in same scale, if not, your feature importance would give wrong results.  Luckily, we have done this as common practice throughout the course."
   ]
  },
  {
   "cell_type": "markdown",
   "metadata": {},
   "source": [
    "### Inference"
   ]
  },
  {
   "cell_type": "code",
   "execution_count": 55,
   "metadata": {},
   "outputs": [
    {
     "name": "stdout",
     "output_type": "stream",
     "text": [
      "[1 1 1 1 1 1 1 0 1 1 1 1 0 0 1 1 1 1 1 1 1 1 1 1 1 0 0 1 1 1 1 1 1 1 1 0 1\n",
      " 1 1 1 1 1 1 1 1 1 1 1 1 1 1 1 1 1 1 0 1 1 0 1 1 1 1 0 1 1 0 0 1 0 1 1 1 1\n",
      " 1 1 1 1 1 1 0 1 0 1 0 1 1 1 1 1 1 1 1 1 0 1 1 1 1 1 1 0 1 1 1 1 0 1 1 1 1\n",
      " 1 1 1 1 1 1 0 0 0 1 1 1 0 0 1 0 1 1 1 1 1 1 1 1 1 1 1 1 0 0 1 0 0 1 1 1 0\n",
      " 1 1 1 1 1 0 1 1 1 1 1 1 1 0 1 1 1 0 0 1 0 1 1 1 1 0 0 1 1 1 1 0 1 1 1 1 1\n",
      " 1 1 1 1 1 1 1 0 0 1 1 0 1 0 1 1 1 1 1 1 1 1 1 1 1 1 0 1 1 1 1 1 1 1 1 1 1\n",
      " 1 1 0 1 1 1 1 0 1 1 1 1 1 0 0 1 1 1 1 0 1 0 1 0 1 1 1 1 0 1 1 1 1 0 1 1 1\n",
      " 1 1 1 1 1 1 1 0 1 0 1 1 1 1 0 0 1 1 1 0 1 1 1 1 1 1 1 1 1 1 1 1 1 1 0 1 1\n",
      " 1 1 1 1 1 0 1 1 1 1 1 1 1 1 1 0 1 1 1 1 1 0 1 1 1 1 1 1 1 0 1 1 1 1 1 1 1\n",
      " 1 1 1 1 1 1 0 1 1 1 1 1 1 0 1 1 1 1 0 1 1 0 1 1 1 1 1 1 1 1 1 1 1 1]\n"
     ]
    }
   ],
   "source": [
    "yhat = grid.predict(X_test)\n",
    "print(yhat)  #submit this to kaggle"
   ]
  },
  {
   "cell_type": "markdown",
   "metadata": {},
   "source": [
    "### Inference using probability\n",
    "\n",
    "Sometimes, your production requires you to output probabilities, instead of exact class, which is more liberal.  Most classification algorithm has a function <code>predict_proba</code>."
   ]
  },
  {
   "cell_type": "code",
   "execution_count": 56,
   "metadata": {},
   "outputs": [
    {
     "name": "stdout",
     "output_type": "stream",
     "text": [
      "[[0.15652945 0.84347055]\n",
      " [0.16003632 0.83996368]\n",
      " [0.16360652 0.83639348]\n",
      " [0.16360652 0.83639348]\n",
      " [0.32256703 0.67743297]\n",
      " [0.2185061  0.7814939 ]\n",
      " [0.30390854 0.69609146]\n",
      " [0.85942767 0.14057233]\n",
      " [0.15826666 0.84173334]\n",
      " [0.33927151 0.66072849]\n",
      " [0.32256703 0.67743297]\n",
      " [0.17044164 0.82955836]\n",
      " [0.87359321 0.12640679]\n",
      " [0.80282163 0.19717837]\n",
      " [0.2339499  0.7660501 ]\n",
      " [0.25985159 0.74014841]\n",
      " [0.16360652 0.83639348]\n",
      " [0.18189938 0.81810062]\n",
      " [0.15652945 0.84347055]\n",
      " [0.25789729 0.74210271]\n",
      " [0.20967352 0.79032648]\n",
      " [0.29223305 0.70776695]\n",
      " [0.25482102 0.74517898]\n",
      " [0.28281628 0.71718372]\n",
      " [0.15652945 0.84347055]\n",
      " [0.88473486 0.11526514]\n",
      " [0.79060342 0.20939658]\n",
      " [0.15652945 0.84347055]\n",
      " [0.16675202 0.83324798]\n",
      " [0.24372149 0.75627851]\n",
      " [0.29836888 0.70163112]\n",
      " [0.16360652 0.83639348]\n",
      " [0.26941243 0.73058757]\n",
      " [0.15652945 0.84347055]\n",
      " [0.15652945 0.84347055]\n",
      " [0.87681359 0.12318641]\n",
      " [0.15565023 0.84434977]\n",
      " [0.16722033 0.83277967]\n",
      " [0.2700756  0.7299244 ]\n",
      " [0.25482102 0.74517898]\n",
      " [0.15652945 0.84347055]\n",
      " [0.22069894 0.77930106]\n",
      " [0.21793175 0.78206825]\n",
      " [0.26941243 0.73058757]\n",
      " [0.22069894 0.77930106]\n",
      " [0.16182197 0.83817803]\n",
      " [0.20967352 0.79032648]\n",
      " [0.33927151 0.66072849]\n",
      " [0.25482102 0.74517898]\n",
      " [0.25093266 0.74906734]\n",
      " [0.16003632 0.83996368]\n",
      " [0.23640912 0.76359088]\n",
      " [0.17044164 0.82955836]\n",
      " [0.15565023 0.84434977]\n",
      " [0.2185061  0.7814939 ]\n",
      " [0.8684289  0.1315711 ]\n",
      " [0.31440182 0.68559818]\n",
      " [0.16582667 0.83417333]\n",
      " [0.77126871 0.22873129]\n",
      " [0.17323776 0.82676224]\n",
      " [0.21793175 0.78206825]\n",
      " [0.16722033 0.83277967]\n",
      " [0.24351675 0.75648325]\n",
      " [0.86407051 0.13592949]\n",
      " [0.22305943 0.77694057]\n",
      " [0.16675202 0.83324798]\n",
      " [0.84322753 0.15677247]\n",
      " [0.79435481 0.20564519]\n",
      " [0.16675202 0.83324798]\n",
      " [0.80640773 0.19359227]\n",
      " [0.2339499  0.7660501 ]\n",
      " [0.26941243 0.73058757]\n",
      " [0.14718838 0.85281162]\n",
      " [0.18930351 0.81069649]\n",
      " [0.21793175 0.78206825]\n",
      " [0.25482102 0.74517898]\n",
      " [0.15652945 0.84347055]\n",
      " [0.30083509 0.69916491]\n",
      " [0.17044164 0.82955836]\n",
      " [0.13321626 0.86678374]\n",
      " [0.79918565 0.20081435]\n",
      " [0.17093872 0.82906128]\n",
      " [0.86413785 0.13586215]\n",
      " [0.17750171 0.82249829]\n",
      " [0.78449522 0.21550478]\n",
      " [0.17652935 0.82347065]\n",
      " [0.15652945 0.84347055]\n",
      " [0.26941243 0.73058757]\n",
      " [0.35117089 0.64882911]\n",
      " [0.24774353 0.75225647]\n",
      " [0.18930351 0.81069649]\n",
      " [0.1933989  0.8066011 ]\n",
      " [0.17044164 0.82955836]\n",
      " [0.2270377  0.7729623 ]\n",
      " [0.7986215  0.2013785 ]\n",
      " [0.15550426 0.84449574]\n",
      " [0.16003632 0.83996368]\n",
      " [0.16675202 0.83324798]\n",
      " [0.17093872 0.82906128]\n",
      " [0.18189938 0.81810062]\n",
      " [0.28452035 0.71547965]\n",
      " [0.76894969 0.23105031]\n",
      " [0.16003632 0.83996368]\n",
      " [0.22988204 0.77011796]\n",
      " [0.26941243 0.73058757]\n",
      " [0.14217293 0.85782707]\n",
      " [0.8684289  0.1315711 ]\n",
      " [0.1933989  0.8066011 ]\n",
      " [0.16675202 0.83324798]\n",
      " [0.20534486 0.79465514]\n",
      " [0.2483715  0.7516285 ]\n",
      " [0.16675202 0.83324798]\n",
      " [0.22069894 0.77930106]\n",
      " [0.14871535 0.85128465]\n",
      " [0.17750171 0.82249829]\n",
      " [0.29063255 0.70936745]\n",
      " [0.29836888 0.70163112]\n",
      " [0.81048401 0.18951599]\n",
      " [0.84535225 0.15464775]\n",
      " [0.8144942  0.1855058 ]\n",
      " [0.25482102 0.74517898]\n",
      " [0.17750171 0.82249829]\n",
      " [0.17093872 0.82906128]\n",
      " [0.88473486 0.11526514]\n",
      " [0.84535225 0.15464775]\n",
      " [0.26941243 0.73058757]\n",
      " [0.8684289  0.1315711 ]\n",
      " [0.16360652 0.83639348]\n",
      " [0.24372149 0.75627851]\n",
      " [0.22245146 0.77754854]\n",
      " [0.15652945 0.84347055]\n",
      " [0.28452035 0.71547965]\n",
      " [0.1933763  0.8066237 ]\n",
      " [0.22525952 0.77474048]\n",
      " [0.23793738 0.76206262]\n",
      " [0.15652945 0.84347055]\n",
      " [0.18531866 0.81468134]\n",
      " [0.18137741 0.81862259]\n",
      " [0.26941243 0.73058757]\n",
      " [0.86753675 0.13246325]\n",
      " [0.88473486 0.11526514]\n",
      " [0.18730442 0.81269558]\n",
      " [0.84713123 0.15286877]\n",
      " [0.80693277 0.19306723]\n",
      " [0.17996529 0.82003471]\n",
      " [0.21731687 0.78268313]\n",
      " [0.33927151 0.66072849]\n",
      " [0.9204107  0.0795893 ]\n",
      " [0.17044164 0.82955836]\n",
      " [0.25482102 0.74517898]\n",
      " [0.25482102 0.74517898]\n",
      " [0.15652945 0.84347055]\n",
      " [0.28452035 0.71547965]\n",
      " [0.83662215 0.16337785]\n",
      " [0.18531866 0.81468134]\n",
      " [0.35263155 0.64736845]\n",
      " [0.17468066 0.82531934]\n",
      " [0.17702109 0.82297891]\n",
      " [0.2746249  0.7253751 ]\n",
      " [0.23106582 0.76893418]\n",
      " [0.28452035 0.71547965]\n",
      " [0.87681359 0.12318641]\n",
      " [0.25482102 0.74517898]\n",
      " [0.24774353 0.75225647]\n",
      " [0.28183603 0.71816397]\n",
      " [0.90835052 0.09164948]\n",
      " [0.9064337  0.0935663 ]\n",
      " [0.15652945 0.84347055]\n",
      " [0.7804233  0.2195767 ]\n",
      " [0.15504368 0.84495632]\n",
      " [0.24774353 0.75225647]\n",
      " [0.24055177 0.75944823]\n",
      " [0.17750171 0.82249829]\n",
      " [0.86150156 0.13849844]\n",
      " [0.85294628 0.14705372]\n",
      " [0.18531866 0.81468134]\n",
      " [0.21406885 0.78593115]\n",
      " [0.24774353 0.75225647]\n",
      " [0.18531866 0.81468134]\n",
      " [0.79918565 0.20081435]\n",
      " [0.17419583 0.82580417]\n",
      " [0.16675202 0.83324798]\n",
      " [0.16360652 0.83639348]\n",
      " [0.15504368 0.84495632]\n",
      " [0.17093872 0.82906128]\n",
      " [0.21793175 0.78206825]\n",
      " [0.2270377  0.7729623 ]\n",
      " [0.17419583 0.82580417]\n",
      " [0.23106582 0.76893418]\n",
      " [0.18531866 0.81468134]\n",
      " [0.14349791 0.85650209]\n",
      " [0.25482102 0.74517898]\n",
      " [0.86868351 0.13131649]\n",
      " [0.86566839 0.13433161]\n",
      " [0.17044164 0.82955836]\n",
      " [0.2700756  0.7299244 ]\n",
      " [0.7986215  0.2013785 ]\n",
      " [0.23106582 0.76893418]\n",
      " [0.79060342 0.20939658]\n",
      " [0.18930351 0.81069649]\n",
      " [0.19544739 0.80455261]\n",
      " [0.22305943 0.77694057]\n",
      " [0.16360652 0.83639348]\n",
      " [0.14217293 0.85782707]\n",
      " [0.2339499  0.7660501 ]\n",
      " [0.16675202 0.83324798]\n",
      " [0.17044164 0.82955836]\n",
      " [0.17044164 0.82955836]\n",
      " [0.22069894 0.77930106]\n",
      " [0.32010334 0.67989666]\n",
      " [0.22069894 0.77930106]\n",
      " [0.88473486 0.11526514]\n",
      " [0.19392463 0.80607537]\n",
      " [0.28452035 0.71547965]\n",
      " [0.23106582 0.76893418]\n",
      " [0.20213705 0.79786295]\n",
      " [0.20028131 0.79971869]\n",
      " [0.17750171 0.82249829]\n",
      " [0.1933763  0.8066237 ]\n",
      " [0.16003632 0.83996368]\n",
      " [0.15652945 0.84347055]\n",
      " [0.23106582 0.76893418]\n",
      " [0.22079759 0.77920241]\n",
      " [0.24896614 0.75103386]\n",
      " [0.87051621 0.12948379]\n",
      " [0.22069894 0.77930106]\n",
      " [0.15652945 0.84347055]\n",
      " [0.18137741 0.81862259]\n",
      " [0.28452035 0.71547965]\n",
      " [0.84713123 0.15286877]\n",
      " [0.26941243 0.73058757]\n",
      " [0.2345538  0.7654462 ]\n",
      " [0.16900623 0.83099377]\n",
      " [0.23870042 0.76129958]\n",
      " [0.13321626 0.86678374]\n",
      " [0.8684289  0.1315711 ]\n",
      " [0.85496194 0.14503806]\n",
      " [0.24055177 0.75944823]\n",
      " [0.2270377  0.7729623 ]\n",
      " [0.26240302 0.73759698]\n",
      " [0.32256703 0.67743297]\n",
      " [0.79435481 0.20564519]\n",
      " [0.16675202 0.83324798]\n",
      " [0.81841701 0.18158299]\n",
      " [0.29836888 0.70163112]\n",
      " [0.78449522 0.21550478]\n",
      " [0.17468066 0.82531934]\n",
      " [0.16360652 0.83639348]\n",
      " [0.23166453 0.76833547]\n",
      " [0.27260041 0.72739959]\n",
      " [0.80545744 0.19454256]\n",
      " [0.16402265 0.83597735]\n",
      " [0.23870042 0.76129958]\n",
      " [0.16360652 0.83639348]\n",
      " [0.13628522 0.86371478]\n",
      " [0.88473486 0.11526514]\n",
      " [0.15162646 0.84837354]\n",
      " [0.15652945 0.84347055]\n",
      " [0.17750171 0.82249829]\n",
      " [0.26785431 0.73214569]\n",
      " [0.23640912 0.76359088]\n",
      " [0.16675202 0.83324798]\n",
      " [0.28452035 0.71547965]\n",
      " [0.18137741 0.81862259]\n",
      " [0.18531866 0.81468134]\n",
      " [0.26941243 0.73058757]\n",
      " [0.81522406 0.18477594]\n",
      " [0.32010334 0.67989666]\n",
      " [0.8144942  0.1855058 ]\n",
      " [0.28452035 0.71547965]\n",
      " [0.19209406 0.80790594]\n",
      " [0.2627238  0.7372762 ]\n",
      " [0.2746249  0.7253751 ]\n",
      " [0.80282163 0.19717837]\n",
      " [0.85496194 0.14503806]\n",
      " [0.18189938 0.81810062]\n",
      " [0.16722033 0.83277967]\n",
      " [0.22348683 0.77651317]\n",
      " [0.85664912 0.14335088]\n",
      " [0.2339499  0.7660501 ]\n",
      " [0.26941243 0.73058757]\n",
      " [0.17750171 0.82249829]\n",
      " [0.22069894 0.77930106]\n",
      " [0.35638595 0.64361405]\n",
      " [0.1394135  0.8605865 ]\n",
      " [0.16003632 0.83996368]\n",
      " [0.23106582 0.76893418]\n",
      " [0.28452035 0.71547965]\n",
      " [0.25482102 0.74517898]\n",
      " [0.16003632 0.83996368]\n",
      " [0.16675202 0.83324798]\n",
      " [0.16360652 0.83639348]\n",
      " [0.35638595 0.64361405]\n",
      " [0.74788911 0.25211089]\n",
      " [0.20967352 0.79032648]\n",
      " [0.14706467 0.85293533]\n",
      " [0.26941243 0.73058757]\n",
      " [0.35638595 0.64361405]\n",
      " [0.19565914 0.80434086]\n",
      " [0.18531866 0.81468134]\n",
      " [0.17091819 0.82908181]\n",
      " [0.78621233 0.21378767]\n",
      " [0.28362162 0.71637838]\n",
      " [0.2165831  0.7834169 ]\n",
      " [0.16675202 0.83324798]\n",
      " [0.35117089 0.64882911]\n",
      " [0.19751538 0.80248462]\n",
      " [0.24055177 0.75944823]\n",
      " [0.18137741 0.81862259]\n",
      " [0.16675202 0.83324798]\n",
      " [0.25482102 0.74517898]\n",
      " [0.87597017 0.12402983]\n",
      " [0.23793738 0.76206262]\n",
      " [0.18531866 0.81468134]\n",
      " [0.21731687 0.78268313]\n",
      " [0.13509062 0.86490938]\n",
      " [0.15162646 0.84837354]\n",
      " [0.83299223 0.16700777]\n",
      " [0.35638595 0.64361405]\n",
      " [0.25482102 0.74517898]\n",
      " [0.18137741 0.81862259]\n",
      " [0.17628069 0.82371931]\n",
      " [0.16001949 0.83998051]\n",
      " [0.2746249  0.7253751 ]\n",
      " [0.17750171 0.82249829]\n",
      " [0.86364876 0.13635124]\n",
      " [0.22245146 0.77754854]\n",
      " [0.16360652 0.83639348]\n",
      " [0.20599296 0.79400704]\n",
      " [0.17044164 0.82955836]\n",
      " [0.17750171 0.82249829]\n",
      " [0.17093872 0.82906128]\n",
      " [0.18013556 0.81986444]\n",
      " [0.14217293 0.85782707]\n",
      " [0.16675202 0.83324798]\n",
      " [0.26494616 0.73505384]\n",
      " [0.28281628 0.71718372]\n",
      " [0.15652945 0.84347055]\n",
      " [0.18728237 0.81271763]\n",
      " [0.86407051 0.13592949]\n",
      " [0.16947959 0.83052041]\n",
      " [0.30083509 0.69916491]\n",
      " [0.23933451 0.76066549]\n",
      " [0.16003632 0.83996368]\n",
      " [0.28452035 0.71547965]\n",
      " [0.17093872 0.82906128]\n",
      " [0.80640773 0.19359227]\n",
      " [0.32256703 0.67743297]\n",
      " [0.21406885 0.78593115]\n",
      " [0.18628754 0.81371246]\n",
      " [0.18531866 0.81468134]\n",
      " [0.88473486 0.11526514]\n",
      " [0.15652945 0.84347055]\n",
      " [0.17750171 0.82249829]\n",
      " [0.84920926 0.15079074]\n",
      " [0.17093872 0.82906128]\n",
      " [0.16003632 0.83996368]\n",
      " [0.25482102 0.74517898]\n",
      " [0.24055177 0.75944823]\n",
      " [0.26941243 0.73058757]\n",
      " [0.13321626 0.86678374]\n",
      " [0.17044164 0.82955836]\n",
      " [0.23701741 0.76298259]\n",
      " [0.15652945 0.84347055]\n",
      " [0.26941243 0.73058757]\n",
      " [0.17750171 0.82249829]\n",
      " [0.28850727 0.71149273]]\n"
     ]
    }
   ],
   "source": [
    "yhat_prob = grid.predict_proba(X_test)\n",
    "print(yhat_prob)  "
   ]
  },
  {
   "cell_type": "markdown",
   "metadata": {},
   "source": [
    "### Save model for deployment"
   ]
  },
  {
   "cell_type": "code",
   "execution_count": 57,
   "metadata": {},
   "outputs": [],
   "source": [
    "import pickle\n",
    "\n",
    "# save the model to disk\n",
    "filename = 'model/loan.model'\n",
    "pickle.dump(grid, open(filename, 'wb'))"
   ]
  },
  {
   "cell_type": "markdown",
   "metadata": {},
   "source": [
    "### Loading model"
   ]
  },
  {
   "cell_type": "code",
   "execution_count": 58,
   "metadata": {},
   "outputs": [],
   "source": [
    "# load the model from disk\n",
    "loaded_model = pickle.load(open(filename, 'rb'))\n",
    "yhat = loaded_model.predict(X_test)"
   ]
  }
 ],
 "metadata": {
  "kernelspec": {
   "display_name": "Python 3",
   "language": "python",
   "name": "python3"
  },
  "language_info": {
   "codemirror_mode": {
    "name": "ipython",
    "version": 3
   },
   "file_extension": ".py",
   "mimetype": "text/x-python",
   "name": "python",
   "nbconvert_exporter": "python",
   "pygments_lexer": "ipython3",
   "version": "3.8.6"
  }
 },
 "nbformat": 4,
 "nbformat_minor": 5
}
