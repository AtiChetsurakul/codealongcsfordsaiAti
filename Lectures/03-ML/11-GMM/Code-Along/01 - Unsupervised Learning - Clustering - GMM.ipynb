{
 "cells": [
  {
   "cell_type": "markdown",
   "metadata": {},
   "source": [
    "# Programming for Data Science and Artificial Intelligence\n",
    "\n",
    "## Unsupervised Learning - Clustering - GMM\n",
    "\n",
    "### Readings:\n",
    "- [VANDER] Ch5\n",
    "- [HASTIE] Ch14.3\n",
    "- https://scikit-learn.org/stable/modules/clustering.html"
   ]
  },
  {
   "cell_type": "code",
   "execution_count": 1,
   "metadata": {},
   "outputs": [],
   "source": [
    "import numpy as np\n",
    "import matplotlib.pyplot as plt"
   ]
  },
  {
   "cell_type": "markdown",
   "metadata": {},
   "source": [
    "## Gaussian Mixture Models\n",
    "\n",
    "K-means has the following limitations:\n",
    "\n",
    "- assume spherical (circular) shape\n",
    "- assume equal size clusters\n",
    "\n",
    "We can use Gaussian Mixture Models (GMM), another cluster algorithm, to address these limitations.  In a *Gaussian mixture model*, the likelihood of our data can be defined as:\n",
    "\n",
    "$$\\log p(X | \\theta) = \\sum\\limits_{i=1}^m \\log p(x^{(i)} | \\theta) = p(x^{(i)} | z^{(i)} = k) \\cdot p(z^{(i)} = k)$$\n",
    "\n",
    "Let $p(x^{(i)} | z^{(i)} = k) = \\mathcal{N}(x | \\mu_k, \\Sigma_k)$ and $p (z^{(i)} = k) = \\pi_k$, we get\n",
    "\n",
    "$$\\sum\\limits_{i=1}^m \\log \\sum\\limits_{k=1}^K \\pi_k \\mathcal{N}(x | \\mu_k, \\Sigma_k)$$\n",
    "\n",
    "where\n",
    "\n",
    "$$\\theta := \\{\\mu_k, \\Sigma_k, \\pi_k: k = 1, \\cdots, K\\}$$\n",
    "\n",
    "$$0 \\leq \\pi_k \\leq 1$$\n",
    "\n",
    "$$\\sum\\limits_{k=1}^K \\pi_k=1$$\n",
    "\n",
    "and $\\mathcal{N}$ as the multivariate Gaussian distribution, computed using:\n",
    "\n",
    "$$\\mathcal{N} (x | \\mu_k, \\Sigma_k)= \\frac{1}{(2\\pi)^\\frac{n}{2}\\lvert{\\Sigma_k}\\rvert^\\frac{1}{2}}\\exp(-\\frac{1}{2}(x -\\mu_k)^T\\Sigma_{k}^{-1}(x - \\mu_k))$$\n",
    "\n",
    "\n",
    "Similar to K-means: it uses an expectation–maximization (EM) approach which qualitatively does the following:\n",
    "\n",
    "#### Step 1: Define k random clusters\n",
    "\n",
    "1. Define k clusters from k random number of gaussian distribution (instead of some random places)\n",
    "    - Specifically, for each cluster k, randomly initialize parameters mean $\\mu_k$, covariance $\\Sigma_k$, fraction per class $\\pi_k$ and responsiblities (likelihood) of each sample $r^{(i)}_{k}$ \n",
    "    \n",
    "Recall that gaussian distribution is parametrized by the mean $\\mu$ and the covariance $\\Sigma$\n",
    "\n"
   ]
  },
  {
   "cell_type": "code",
   "execution_count": 2,
   "metadata": {},
   "outputs": [
    {
     "data": {
      "image/png": "[encoded data removed]",
      "text/plain": [
       "<Figure size 432x288 with 1 Axes>"
      ]
     },
     "metadata": {
      "needs_background": "light"
     },
     "output_type": "display_data"
    }
   ],
   "source": [
    "from sklearn.datasets import make_blobs\n",
    "X, y = make_blobs(n_samples=9, cluster_std=[1.0, 3.5, 0.5], random_state=42)\n",
    "plt.scatter(X[:, 0], X[:, 1], c =y);"
   ]
  },
  {
   "cell_type": "code",
   "execution_count": null,
   "metadata": {},
   "outputs": [],
   "source": []
  },
  {
   "cell_type": "code",
   "execution_count": null,
   "metadata": {},
   "outputs": [],
   "source": []
  },
  {
   "cell_type": "code",
   "execution_count": null,
   "metadata": {},
   "outputs": [],
   "source": []
  },
  {
   "cell_type": "code",
   "execution_count": null,
   "metadata": {},
   "outputs": [],
   "source": []
  },
  {
   "cell_type": "code",
   "execution_count": null,
   "metadata": {},
   "outputs": [],
   "source": []
  },
  {
   "cell_type": "markdown",
   "metadata": {},
   "source": [
    "#### Step 2: EM-step\n",
    "\n",
    "Repeat until converged:\n",
    "\n",
    "   1. *E-step*: for each sample, assign samples to nearest cluster using likelihood (called responsibilities) of gaussian distribution (instead of distance)\n",
    "       - Evaluate responsibilities $r^{(i)}_{k}$ for every data point $x^{(i)}$ using \n",
    "\n",
    "$$ r^{(i)}_{k} = \\frac{\\pi_k\\mathcal{N}(x^{(i)} \\mid \\mu_k, \\Sigma_{k})}{\\Sigma_{j=1}^{K} \\pi_j\\mathcal{N}(x^{(i)} \\mid \\mu_j, \\Sigma_j)}$$\n",
    "\n",
    "   2. *M-step*: for each cluster, update the gaussian distribution of each cluster (instead of the mean only).\n",
    "        - Restimate parameters $\\pi_k, \\mu_k, \\Sigma_k$ using the current responsibilites $r^{(i)}_{k}$ from the E step.\n",
    "\n",
    "$$ \\mu_k = \\frac{1}{N_k} \\sum\\limits_{i=1}^{m}r^{(i)}_{k}x^{(i)}$$\n",
    "\n",
    "$$ \\Sigma{_k} = \\frac{1}{N_k} \\sum\\limits_{i=1}^{m}r^{(i)}_{k}(x^{(i)} - \\mu_k)(x^{(i)} - \\mu_k)^T$$\n",
    "\n",
    "$$ \\pi_k = \\frac{N_k}{m}$$\n",
    "\n",
    "where $N_k$ is the total responsibility of the $k$th mixture component along all samples\n",
    "\n",
    "$$N_k = \\sum\\limits_{i=1}^{m}r^{(i)}_k$$\n"
   ]
  },
  {
   "cell_type": "code",
   "execution_count": null,
   "metadata": {},
   "outputs": [],
   "source": []
  },
  {
   "cell_type": "code",
   "execution_count": null,
   "metadata": {},
   "outputs": [],
   "source": []
  },
  {
   "cell_type": "code",
   "execution_count": null,
   "metadata": {},
   "outputs": [],
   "source": []
  },
  {
   "cell_type": "code",
   "execution_count": null,
   "metadata": {},
   "outputs": [],
   "source": []
  },
  {
   "cell_type": "code",
   "execution_count": null,
   "metadata": {
    "scrolled": true
   },
   "outputs": [],
   "source": []
  },
  {
   "cell_type": "markdown",
   "metadata": {},
   "source": [
    "#### Step 3: Predict"
   ]
  },
  {
   "cell_type": "code",
   "execution_count": null,
   "metadata": {},
   "outputs": [],
   "source": []
  },
  {
   "cell_type": "markdown",
   "metadata": {},
   "source": [
    "### Proof\n",
    "\n",
    "Assume $X = \\{x^{(i)}, \\cdots, x^{(m)}\\}$ are drawn form an unkown distribution $p(x)$.  Our objective is to find a good approximation of this unknown distribution by means of a GMM with $K$ mixture components.  We exploit our i.i.d (independently and identically distributed) assumption, which leads to the log-likelihood as\n",
    "\n",
    "$$\\log p(X | \\theta) = \\sum\\limits_{i=1}^m \\log p(x^{(i)} | \\theta) = \\sum\\limits_{i=1}^m \\log \\sum\\limits_{k=1}^K \\pi_k \\mathcal{N}(x | \\mu_k, \\Sigma_k)$$\n",
    "\n",
    "Our objective function is to find $\\theta$ that maximize the log-likehood $\\mathcal{L}$\n",
    "\n",
    "$$\n",
    "\\max_\\theta \\sum\\limits_{i=1}^m \\log \\sum\\limits_{k=1}^K \\pi_k \\mathcal{N}(x | \\mu_k, \\Sigma_k)$$\n",
    "\n",
    "Our \"normal\" procedure would be to comute the gradient $\\frac{d\\mathcal{L}}{d\\theta}$ of the log-likelihood with respect to the model parameters $\\theta$, set it to 0, and solve for $\\theta$, however, if you try this yourself at home, you will find that it is not possible to find the closed form.\n",
    "\n",
    "One way we can do turns out to be the EM algorithm, where the key idea is to update one model parameter at a time, while keeping the others fixed.\n",
    "\n",
    "Before we find the partial derivatives, let us introduce a quantity that will play a central role in this algorithm: **responsibilities**.\n",
    "\n",
    "We define the quantity\n",
    "\n",
    "$$ r^{(i)}_{k} = \\frac{\\pi_k\\mathcal{N}(x^{(i)} \\mid \\mu_k, \\Sigma_{k})}{\\Sigma_{j=1}^{K} \\pi_j\\mathcal{N}(x^{(i)} \\mid \\mu_j, \\Sigma_j)}$$\n",
    "\n",
    "as the *responsibility* of the $k$th mixture component for the $i$th data point.  \n",
    "\n",
    "$r^{(i)}_{k}$ basically gives us $$ \\frac{\\text{Probability of $x^{(i)}$ belonging to cluster k}}{\\text{Probability of $x^{(i)}$ over all clusters}} $$\n",
    "\n",
    "The responsibility $r^{(i)}_{k}$ of the $k$th mixture component for data point $x^{(i)}$ is proportional to the likelihood of the mixture component given the data point.\n",
    "\n",
    "$$p(x^{(i)} | \\pi_k, \\mu_k, \\Sigma_k) = \\pi_k\\mathcal{N}(x^{(i)}|\\mu_k, \\Sigma_k)$$\n",
    "\n",
    "Therefore, mixture components have a high responsibility for a data point when the data point could be a **plausible sample** from that mixture component.  Note that \n",
    "\n",
    "$$r^{(i)} = r^{(i)}_1, r^{(i)}_2, \\cdots, r^{(i)}_k \\in \\mathbb{R}^k$$\n",
    "\n",
    "is a normalized probability vector, i.e., for each sample $i$\n",
    "\n",
    "$$\\sum\\limits_{j=1}^{k}r^{(i)}_j = 1$$\n",
    "\n",
    "$$ r^{(i)}_j \\geq 0 $$\n",
    "\n",
    "Thus this probability vector distributes probability mass among the $K$ mixture components, and we can think of $r^{(ik)}$ as probability that $x^{(i)}$ has been generated by the $k$th mixture component.\n",
    "\n",
    "By summing all the total responsibility of the $k$th mixture component along all samples, we get $N_k$.\n",
    "\n",
    "$$N_k = \\sum\\limits_{i=1}^{m}r^{(i)}_k$$\n",
    "\n",
    "Note that this value does not necessarily equal to 1.\n",
    "\n",
    "**Updating the mean**\n",
    "\n",
    "The update of the mean parameters $\\mu_k, k=1,\\cdots,K$ of the GMM is given by:\n",
    "\n",
    "$$ \\mu_k^{new} = \\frac{\\sum\\limits_{i=1}^{m}r^{(i)}_{k}x^{(i)}}{\\sum\\limits_{i=1}^{m}r^{(i)}_{k}}$$\n",
    "\n",
    "To prove this:\n",
    "\n",
    "Any local optimum of a function exhibits the property that its gradient with respect to the parameters must vanish, i.e., setting its partial derivative to zero.\n",
    "\n",
    "We take a partial derivative of our objective function with respect to the mean parameters $\\mu_k, k=1, \\cdots, K$.  To simplify things, let's perform partial derivative without the log first and only consider one sample.\n",
    "\n",
    "$$\n",
    "\t\\frac{\\partial p(x^{(i)} | \\theta)}{\\partial \\mu_k} = \\sum\\limits_{j=1}^K \\pi_j \\frac{\\partial \\mathcal{N}(x^{(i)} | \\mu_j, \\Sigma_j)}{\\partial \\mu_k} = \\pi_k \\frac{\\partial \\mathcal{N}(x^{(i)} | \\mu_k, \\Sigma_k)}{\\partial \\mu_k} = \\pi_k(x^{(i)} - \\mu_k)^T \\Sigma_k^{-1}\\mathcal{N}(x^{(i)} | \\mu_k, \\Sigma_k)\n",
    "$$\n",
    "\n",
    "Now, taking all samples and log, since we know the partial derivative of $\\log$ something is $\\frac{1}{x}$, thus\n",
    "\n",
    "$$\n",
    "\\frac{\\partial \\mathcal{L}}{\\partial \\mu_k} =\\sum\\limits_{i=1}^{m} \\frac{\\partial \\log p(x^{(i)} | \\theta)}{\\partial \\mu_k} = \\sum\\limits_{i=1}^{m} \\frac{1}{p(x^{(i)} | \\theta)} \\frac{\\partial p(x^{(i)} | \\theta) }{\\partial \\mu_k} = \\sum\\limits_{i=1}^{m}(x^{(i)} - \\mu_k)^T \\Sigma_k^{-1}\\frac{\\pi_k\\mathcal{N}(x^{(i)} \\mid \\mu_k, \\Sigma_{k})}{\\Sigma_{j=1}^{K} \\pi_j\\mathcal{N}(x^{(i)} \\mid \\mu_j, \\Sigma_j)}\n",
    "$$\n",
    "\n",
    "To simplify, we can substitute $r^{(i)}_{k}$ into the equation, thus\n",
    "\n",
    "$$= \\sum\\limits_{i=1}^{m} r^{(i)}_{k}(x^{(i)} - \\mu_k)^T\\Sigma_k^{-1}$$\n",
    "\n",
    "We can now solve for $\\mu_k$ so that $\\frac{\\partial \\mathcal{L}}{\\partial \\mu_k} = 0$ and obtain\n",
    "\n",
    "$$\\sum\\limits_{i=1}^{m} r^{(i)}_{k}(x^{(i)} - \\mu_k)^T\\Sigma_k^{-1} = 0$$\n",
    "\n",
    "Multiply both sides by $\\Sigma$ will cancel out the inverse $\\Sigma$, and move $\\mu_k$ to another side\n",
    "\n",
    "$$\\sum\\limits_{i=1}^{m} r^{(i)}_{k}x^{(i)}  = \\sum\\limits_{i=1}^{m} r^{(i)}_{k}\\mu_k$$\n",
    "\n",
    "$$\\frac{\\sum\\limits_{i=1}^{m} r^{(i)}_{k}x^{(i)} }{\\sum\\limits_{i=1}^{m} r^{(i)}_{k}}  = \\mu_k$$\n",
    "\n",
    "We can further substitute $N_k$ so that\n",
    "\n",
    "$$\n",
    "\\frac{1}{N_k}\\sum\\limits_{i=1}^{m} r^{(i)}_{k}x^{(i)} = \\mu_k\n",
    "$$\n",
    "\n",
    "Here we can interpret that $\\mu_k$ is pulled toward a data point $x^{(i)}$ with strength given by $r^{(i)}_{k}$.  The means are pulled stronger toward data points for which the corresponding mixture component has a high responsibility, i.e., a high likelihood.\n",
    "\n",
    "**Updating the covariances**\n",
    "\n",
    "The update of the covariance parameters $\\Sigma_k, k=1,\\cdots,K$ of the GMM is given by:\n",
    "\n",
    "$$ \\Sigma_k^{new} = \\frac{1}{N_k} \\sum\\limits_{i=1}^{m}r^{(i)}_{k}(x^{(i)} - \\mu_k)(x^{(i)} - \\mu_k)^T $$\n",
    "\n",
    "To prove this:\n",
    "\n",
    "We take a partial derivative of our objective function with respect to the Sigma parameters $\\Sigma_k, k=1, \\cdots, K$.  Similarly, to simplify things, let's perform partial derivative without the log first and only consider one sample.\n",
    "\n",
    "$$\n",
    "\t\\frac{\\partial p(x^{(i)} | \\theta)}{\\partial \\Sigma_k} = \\frac{\\partial}{\\partial \\Sigma_k} \\big(\\pi_k(2\\pi)^{-\\frac{D}{2}} \\det(\\Sigma_k)^{\\frac{1}{2}}exp\\big(-\\frac{1}{2}(x^{(i)} - \\mu_k)^T\\Sigma^{-1}_k(x^{(i)} - \\mu_k)\\big)\\big)\n",
    "$$\n",
    "\n",
    "Using derivative multiplication rule, we got\n",
    "\n",
    "$$\n",
    "= \\pi_k(2\\pi)^{-\\frac{D}{2}}\\big[\\frac{\\partial}{\\partial \\Sigma_k}\\det(\\Sigma_k)^{-\\frac{1}{2}}exp\\big(-\\frac{1}{2}(x^{(i)} - \\mu_k)^T\\Sigma^{-1}_k(x^{(i)} - \\mu_k)) + \\det(\\Sigma_k)^{-\\frac{1}{2}}\\frac{\\partial}{\\partial \\Sigma_k}exp\\big(-\\frac{1}{2}(x^{(i)} - \\mu_k)^T\\Sigma^{-1}_k(x^{(i)} - \\mu_k)\\big]\n",
    "$$\n",
    "\n",
    "Using this following rule\n",
    "\n",
    "$$\n",
    "\\frac{\\partial}{\\partial X}\\det(f(x)) = \\det(f(x))tr\\big(f(x)^{-1}\\frac{\\partial f(x)}{\\partial x}\\big)\n",
    "$$\n",
    "\n",
    "We get that\n",
    "\n",
    "$$\n",
    "\\frac{\\partial}{\\partial \\Sigma_k}\\det(\\Sigma_k)^{-\\frac{1}{2}} = -\\frac{1}{2}\\det(\\Sigma_k)^{-\\frac{1}{2}}\\Sigma_k^{-1}\n",
    "$$\n",
    "\n",
    "Using this following rule\n",
    "\n",
    "$$\n",
    "\\frac{\\partial a^TXb}{\\partial X} = ab^T\n",
    "$$\n",
    "\n",
    "We get that\n",
    "\n",
    "$$\n",
    "\\frac{\\partial}{\\partial \\Sigma_k}(x^{(i)} - \\mu_k)^T\\Sigma^{-1}_k(x^{(i)} - \\mu_k) = -\\Sigma_k^{-1}(x^{(i)} - \\mu_k)(x^{(i)} - \\mu_k)^T\\Sigma_k^{-1}\n",
    "$$\n",
    "\n",
    "Putting them together, we got:\n",
    "\n",
    "$$\n",
    "\\frac{\\partial p(x^{(i)} | \\theta)}{\\partial \\Sigma_k} = \\pi_k\\mathcal{N}(x^{(i)} | \\mu_k, \\Sigma_k) * \\big[-\\frac{1}{2}(\\Sigma_k^{-1}-\\Sigma_k^{-1}(x^{(i)}-\\mu_k)(x^{(i)} - \\mu_k)^T\\Sigma_k^{-1}\\big]\n",
    "$$\n",
    "\n",
    "Now consider all samples and log as well, the partial derivative of the log-likelihood with respect to $\\Sigma_k$ is given by\n",
    "\n",
    "$$\n",
    "\\begin{aligned}\n",
    "\\frac{\\partial \\mathcal{L}}{\\partial \\Sigma_k} &=  \\sum\\limits_{i=1}^{m}\\frac{\\partial \\log p(x^{(i)} | \\theta)}{\\partial \\Sigma_k}\\\\\n",
    "&=\\sum\\limits_{i=1}^{m}\\frac{1}{(p(x^{(i)} | \\theta)}\\frac{\\partial p(x^{(i)} | \\theta)}{\\partial \\Sigma_k}\\\\\n",
    "&=\\sum\\limits_{i=1}^{m}\\frac{\\pi_k\\mathcal{N}(x^{(i)} \\mid \\mu_k, \\Sigma_{k})}{\\Sigma_{j=1}^{K} \\pi_j\\mathcal{N}(x^{(i)} \\mid \\mu_j, \\Sigma_j)} * \\big[-\\frac{1}{2}(\\Sigma_k^{-1}-\\Sigma_k^{-1}(x^{(i)}-\\mu_k)(x^{(i)} - \\mu_k)^T\\Sigma_k^{-1})\\big]\n",
    "\\end{aligned}\n",
    "$$\n",
    "\n",
    "Substituting $r^{(i)}_{k}$, we got\n",
    "\n",
    "$$\n",
    "= -\\frac{1}{2}\\sum\\limits_{i=1}^{m}r^{(i)}_{k}(\\Sigma_k^{-1}-\\Sigma_k^{-1}(x^{(i)}-\\mu_k)(x^{(i)} - \\mu_k)^T\\Sigma_k^{-1})\\\\\n",
    "= -\\frac{1}{2}\\Sigma_k^{-1}\\sum\\limits_{i=1}^{m}r^{(i)}_{k} + \\frac{1}{2}\\Sigma_k^{-1}\\big(\\sum\\limits_{i=1}^{m}r^{(i)}_{k}(x^{(i)}-\\mu_k)(x^{(i)} - \\mu_k)^T\\big)\\Sigma_k^{-1}\n",
    "$$\n",
    "\n",
    "Setting this to zero, we obtain:\n",
    "\n",
    "$$\n",
    "N_k\\Sigma_k^{-1} = \\Sigma_k^{-1}\\big(\\sum\\limits_{i=1}^m r^{(i)}_{k}(x^{(i)}-\\mu_k)(x^{(i)} - \\mu_k)^T\\big)\\Sigma_k^{-1}\n",
    "$$\n",
    "\n",
    "By solving for $\\Sigma_k$ we got\n",
    "\n",
    "$$\n",
    "\\Sigma_k = \\frac{1}{N_k}\\sum\\limits_{i=1}^{m}r^{(i)}_{k}(x^{(i)}-\\mu_k)(x^{(i)} - \\mu_k)^T\n",
    "$$\n",
    "\n",
    "**Updating the pi - weight of mixture components**\n",
    "\n",
    "The update of the mixture weights $\\pi_k, k=1,\\cdots,K$ of the GMM is given by:\n",
    "\n",
    "$$ \\pi_k^{new} = \\frac{N_k}{m}$$\n",
    "\n",
    "To prove this:\n",
    "\n",
    "To find the partial derivative, we account for the equality constraint \n",
    "\n",
    "$$\\sum\\limits_{k=1}^K \\pi_k=1$$\n",
    "\n",
    "The Lagrangian $\\mathscr{L}$ is\n",
    "\n",
    "$$\n",
    "\\begin{aligned}\n",
    "\\mathscr{L} &= \\mathcal{L} + \\beta\\big(\\sum\\limits_{k=1}^K \\pi_k-1\\big)\\\\\n",
    "&= \\sum\\limits_{i=1}^m \\log \\sum\\limits_{k=1}^K \\pi_k \\mathcal{N}(x | \\mu_k, \\Sigma_k) + \\beta\\big(\\sum\\limits_{k=1}^K \\pi_k-1\\big)\n",
    "\\end{aligned}\n",
    "$$\n",
    "\n",
    "Taking the partial derivative with respect to $\\pi_k$ as\n",
    "\n",
    "$$\n",
    "\\begin{aligned}\n",
    "\\frac{\\partial \\mathscr{L}}{\\partial \\pi_k} &= \\sum\\limits_{i=1}^m\n",
    "\\frac{\\mathcal{N}(x^{(i)} \\mid \\mu_k, \\Sigma_{k})}{\\Sigma_{j=1}^{K} \\pi_j\\mathcal{N}(x^{(i)} \\mid \\mu_j, \\Sigma_j)} + \\beta \\\\\n",
    "&= \\frac{1}{\\pi_k}\\sum\\limits_{i=1}^m\\frac{\\pi_k\\mathcal{N}(x^{(i)} \\mid \\mu_k, \\Sigma_{k})}{\\Sigma_{j=1}^{K} \\pi_j\\mathcal{N}(x^{(i)} \\mid \\mu_j, \\Sigma_j)} + \\beta\\\\\n",
    "&= \\frac{N_k}{\\pi_k} + \\beta\n",
    "\\end{aligned}\n",
    "$$\n",
    "\n",
    "Taking the partial derivative with respect to $\\beta$ is\n",
    "\n",
    "$$\n",
    "\\frac{\\partial \\mathscr{L}}{\\partial \\beta} = \\sum\\limits_{i=1}^{K} \\pi_k - 1\n",
    "$$\n",
    "\n",
    "Setting both partial derivatives to zero yield\n",
    "\n",
    "$$\n",
    "\\pi_k = -\\frac{N_k}{\\beta}\n",
    "$$\n",
    "\n",
    "$$\n",
    "1 = \\sum\\limits_{i=1}^K\\pi_k\n",
    "$$\n",
    "\n",
    "Using the top formula to solve for the bottom formula:\n",
    "\n",
    "$$    \n",
    "- \\sum\\limits_{i=1}^{m}\\frac{N_k}{\\beta} = 1\\\\\n",
    "= -\\frac{m}{\\beta} = 1\\\\\n",
    "= \\beta = -m\n",
    "$$\n",
    "\n",
    "Substitute $-m$ for $\\beta$ yield\n",
    "\n",
    "$$\n",
    "\\pi_k = \\frac{N_k}{m}\n",
    "$$"
   ]
  },
  {
   "cell_type": "markdown",
   "metadata": {},
   "source": [
    "### Scratch"
   ]
  },
  {
   "cell_type": "code",
   "execution_count": null,
   "metadata": {},
   "outputs": [],
   "source": []
  },
  {
   "cell_type": "markdown",
   "metadata": {},
   "source": [
    "### Sklearn"
   ]
  },
  {
   "cell_type": "markdown",
   "metadata": {},
   "source": [
    "Though GMM is often categorized as a clustering algorithm, fundamentally it is an algorithm for *density estimation*.  That is to say, the result of a GMM fit to some data is technically not a clustering model, but a generative probabilistic model describing the distribution of the data."
   ]
  },
  {
   "cell_type": "code",
   "execution_count": null,
   "metadata": {},
   "outputs": [],
   "source": []
  },
  {
   "cell_type": "markdown",
   "metadata": {},
   "source": [
    "If we try to fit this with a two-component GMM viewed as a clustering model, the results are not particularly useful:"
   ]
  },
  {
   "cell_type": "code",
   "execution_count": null,
   "metadata": {},
   "outputs": [],
   "source": []
  },
  {
   "cell_type": "code",
   "execution_count": null,
   "metadata": {},
   "outputs": [],
   "source": []
  },
  {
   "cell_type": "markdown",
   "metadata": {},
   "source": [
    "Here the mixture of 16 Gaussians serves not to find separated clusters of data, but rather to model the overall *distribution* of the input data.\n",
    "This is a generative model of the distribution, meaning that the GMM gives us the recipe to generate new random data distributed similarly to our input.\n",
    "For example, here are 400 new points drawn from this 16-component GMM fit to our original data:"
   ]
  },
  {
   "cell_type": "code",
   "execution_count": null,
   "metadata": {},
   "outputs": [],
   "source": []
  },
  {
   "cell_type": "markdown",
   "metadata": {},
   "source": [
    "The above data is a \"generated\" data - not real data.  So by understanding the distribution, it is useful to generate the data"
   ]
  },
  {
   "cell_type": "code",
   "execution_count": null,
   "metadata": {},
   "outputs": [],
   "source": []
  },
  {
   "cell_type": "markdown",
   "metadata": {},
   "source": [
    "#### How many components for understanding distribution?\n",
    "\n",
    "The fact that GMM is a generative model gives us a natural means of determining the optimal number of components for a given dataset.\n",
    "A generative model is inherently a probability distribution for the dataset, and so we can simply evaluate the *likelihood* of the data under the model, using cross-validation to avoid over-fitting.\n",
    "\n",
    "Another means of correcting for over-fitting is to adjust the model likelihoods using some analytic criterion such as the [Akaike information criterion (AIC)](https://en.wikipedia.org/wiki/Akaike_information_criterion) or the [Bayesian information criterion (BIC)](https://en.wikipedia.org/wiki/Bayesian_information_criterion)\n",
    "\n",
    "$$ AIC = 2k - 2ln(L) $$\n",
    "\n",
    "$$ BIC = kln(n) - 2ln(L) $$\n",
    "\n",
    "where k is the number of features and L is maximum likelihood.  Basically,  number of features will increase AIC, while L will decrease AIC.  We want to good balance between model complexity and goodness of fit, thus lower the AIC, the better.\n",
    "\n",
    "Scikit-Learn's ``GMM`` estimator actually includes built-in methods that compute AIc, and so it is very easy to operate on this approach.\n",
    "\n",
    "Let's look at the AIC as a function as the number of GMM components for our moon dataset:"
   ]
  },
  {
   "cell_type": "code",
   "execution_count": null,
   "metadata": {},
   "outputs": [],
   "source": []
  },
  {
   "cell_type": "markdown",
   "metadata": {},
   "source": [
    "The optimal number of clusters is the value that minimizes the AIC or BIC, depending on which approximation we wish to use. The AIC tells us that our choice of 16 components above was probably too many: around 8-12 components would have been a better choice.\n",
    "As is typical with this sort of problem, the BIC recommends a simpler model.\n",
    "\n",
    "Notice the important point: this choice of number of components measures how well GMM works *as a density estimator*, not how well it works *as a clustering algorithm*.\n",
    "I'd encourage you to think of GMM primarily as a density estimator, and use it for clustering only when warranted within simple datasets."
   ]
  },
  {
   "cell_type": "markdown",
   "metadata": {},
   "source": [
    "#### Example: GMM for Generating New Data\n",
    "\n",
    "Here, since GMM is kind of model that tries to understand the data probability distribution.  GMM can be used to generate *new handwritten digits* from the standard digits corpus that we have used before.\n",
    "\n",
    "To start with, let's load the digits data using Scikit-Learn's data tools:"
   ]
  },
  {
   "cell_type": "code",
   "execution_count": null,
   "metadata": {},
   "outputs": [],
   "source": []
  },
  {
   "cell_type": "code",
   "execution_count": null,
   "metadata": {},
   "outputs": [],
   "source": []
  },
  {
   "cell_type": "markdown",
   "metadata": {},
   "source": [
    "We have nearly 1,800 digits in 64 dimensions, and we can build a GMM on top of these to generate more.\n",
    "GMMs can have difficulty converging in such a high dimensional space, so we will start with an invertible dimensionality reduction algorithm on the data.\n",
    "Here we will use a straightforward PCA, asking it to preserve 99% of the variance in the projected data:"
   ]
  },
  {
   "cell_type": "code",
   "execution_count": null,
   "metadata": {},
   "outputs": [],
   "source": []
  },
  {
   "cell_type": "markdown",
   "metadata": {},
   "source": [
    "The result is 41 dimensions, a reduction of nearly 1/3 with almost no information loss.\n",
    "Given this projected data, let's use the AIC to get a gauge for the number of GMM components we should use:"
   ]
  },
  {
   "cell_type": "code",
   "execution_count": null,
   "metadata": {},
   "outputs": [],
   "source": []
  },
  {
   "cell_type": "markdown",
   "metadata": {},
   "source": [
    "It appears that around 110 components minimizes the AIC; we will use this model.\n",
    "Let's quickly fit this to the data and confirm that it has converged:"
   ]
  },
  {
   "cell_type": "code",
   "execution_count": null,
   "metadata": {},
   "outputs": [],
   "source": []
  },
  {
   "cell_type": "markdown",
   "metadata": {},
   "source": [
    "Now we can draw samples of 100 new points within this 41-dimensional projected space, using the GMM as a generative model:"
   ]
  },
  {
   "cell_type": "code",
   "execution_count": null,
   "metadata": {},
   "outputs": [],
   "source": []
  },
  {
   "cell_type": "markdown",
   "metadata": {},
   "source": [
    "*Finally*, we can use the inverse transform of the PCA object to construct the new digits:"
   ]
  },
  {
   "cell_type": "code",
   "execution_count": null,
   "metadata": {},
   "outputs": [],
   "source": []
  },
  {
   "cell_type": "markdown",
   "metadata": {},
   "source": [
    "Consider what we've done here: given a sampling of handwritten digits, we have modeled the distribution of that data in such a way that we can generate brand new samples of digits from the data: these are \"handwritten digits\" which do not individually appear in the original dataset, but rather capture the general features of the input data as modeled by the mixture model.\n",
    "Such a generative model of digits is perhaps the basic idea behind **\"Generative Adversarial Network\"**"
   ]
  },
  {
   "cell_type": "markdown",
   "metadata": {},
   "source": [
    "### When to use GMM\n",
    "\n",
    "Pros:\n",
    "    - Address the limitations of K-means\n",
    "    - Can be used to generate data, since we know $P(x | y)$\n",
    "\n",
    "Cons:\n",
    "    - Just like K-mean, this algorithm can sometimes miss the globally optimal solution, and thus in practice multiple random initializations are used."
   ]
  },
  {
   "cell_type": "markdown",
   "metadata": {},
   "source": [
    "### ===Task===\n",
    "\n",
    "Your work: Let's modify the above scratch code:\n",
    "- Modify so it performs early stopping when the log likelihood does not improve anymore.\n",
    "- Perform plotting every 5 iterations on the resulting clusters."
   ]
  },
  {
   "cell_type": "code",
   "execution_count": null,
   "metadata": {},
   "outputs": [],
   "source": []
  }
 ],
 "metadata": {
  "kernelspec": {
   "display_name": "Python 3",
   "language": "python",
   "name": "python3"
  },
  "language_info": {
   "codemirror_mode": {
    "name": "ipython",
    "version": 3
   },
   "file_extension": ".py",
   "mimetype": "text/x-python",
   "name": "python",
   "nbconvert_exporter": "python",
   "pygments_lexer": "ipython3",
   "version": "3.8.6"
  }
 },
 "nbformat": 4,
 "nbformat_minor": 1
}
